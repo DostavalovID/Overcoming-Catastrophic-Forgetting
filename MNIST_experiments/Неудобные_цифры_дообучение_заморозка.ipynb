{
  "nbformat": 4,
  "nbformat_minor": 0,
  "metadata": {
    "colab": {
      "name": "Неудобные цифры дообучение заморозка.ipynb",
      "provenance": [],
      "collapsed_sections": []
    },
    "kernelspec": {
      "name": "python3",
      "display_name": "Python 3"
    },
    "accelerator": "GPU",
    "widgets": {
      "application/vnd.jupyter.widget-state+json": {
        "ce906b4fb0e443f68186d99ff81a4fbd": {
          "model_module": "@jupyter-widgets/controls",
          "model_name": "HBoxModel",
          "state": {
            "_view_name": "HBoxView",
            "_dom_classes": [],
            "_model_name": "HBoxModel",
            "_view_module": "@jupyter-widgets/controls",
            "_model_module_version": "1.5.0",
            "_view_count": null,
            "_view_module_version": "1.5.0",
            "box_style": "",
            "layout": "IPY_MODEL_565ebed211be4af2ad8c595e11e8e956",
            "_model_module": "@jupyter-widgets/controls",
            "children": [
              "IPY_MODEL_bf098eba9a30479fbd013022e829fa9a",
              "IPY_MODEL_0d108f37caf84b1da01f45feeb7ec372"
            ]
          },
          "model_module_version": "1.5.0"
        },
        "565ebed211be4af2ad8c595e11e8e956": {
          "model_module": "@jupyter-widgets/base",
          "model_name": "LayoutModel",
          "state": {
            "_view_name": "LayoutView",
            "grid_template_rows": null,
            "right": null,
            "justify_content": null,
            "_view_module": "@jupyter-widgets/base",
            "overflow": null,
            "_model_module_version": "1.2.0",
            "_view_count": null,
            "flex_flow": null,
            "width": null,
            "min_width": null,
            "border": null,
            "align_items": null,
            "bottom": null,
            "_model_module": "@jupyter-widgets/base",
            "top": null,
            "grid_column": null,
            "overflow_y": null,
            "overflow_x": null,
            "grid_auto_flow": null,
            "grid_area": null,
            "grid_template_columns": null,
            "flex": null,
            "_model_name": "LayoutModel",
            "justify_items": null,
            "grid_row": null,
            "max_height": null,
            "align_content": null,
            "visibility": null,
            "align_self": null,
            "height": null,
            "min_height": null,
            "padding": null,
            "grid_auto_rows": null,
            "grid_gap": null,
            "max_width": null,
            "order": null,
            "_view_module_version": "1.2.0",
            "grid_template_areas": null,
            "object_position": null,
            "object_fit": null,
            "grid_auto_columns": null,
            "margin": null,
            "display": null,
            "left": null
          },
          "model_module_version": "1.2.0"
        },
        "bf098eba9a30479fbd013022e829fa9a": {
          "model_module": "@jupyter-widgets/controls",
          "model_name": "FloatProgressModel",
          "state": {
            "_view_name": "ProgressView",
            "style": "IPY_MODEL_fd759661b6b140ba88371b1c14dca2e6",
            "_dom_classes": [],
            "description": "",
            "_model_name": "FloatProgressModel",
            "bar_style": "success",
            "max": 9912422,
            "_view_module": "@jupyter-widgets/controls",
            "_model_module_version": "1.5.0",
            "value": 9912422,
            "_view_count": null,
            "_view_module_version": "1.5.0",
            "orientation": "horizontal",
            "min": 0,
            "description_tooltip": null,
            "_model_module": "@jupyter-widgets/controls",
            "layout": "IPY_MODEL_9d93660954fb4877a5e09147c1073f49"
          },
          "model_module_version": "1.5.0"
        },
        "0d108f37caf84b1da01f45feeb7ec372": {
          "model_module": "@jupyter-widgets/controls",
          "model_name": "HTMLModel",
          "state": {
            "_view_name": "HTMLView",
            "style": "IPY_MODEL_ef9f0c501c2246b39a1c8c3fd9afbd5f",
            "_dom_classes": [],
            "description": "",
            "_model_name": "HTMLModel",
            "placeholder": "​",
            "_view_module": "@jupyter-widgets/controls",
            "_model_module_version": "1.5.0",
            "value": " 9913344/? [00:18&lt;00:00, 542507.45it/s]",
            "_view_count": null,
            "_view_module_version": "1.5.0",
            "description_tooltip": null,
            "_model_module": "@jupyter-widgets/controls",
            "layout": "IPY_MODEL_fdb5c4cf49d140fc9797818dddf0b5ef"
          },
          "model_module_version": "1.5.0"
        },
        "fd759661b6b140ba88371b1c14dca2e6": {
          "model_module": "@jupyter-widgets/controls",
          "model_name": "ProgressStyleModel",
          "state": {
            "_view_name": "StyleView",
            "_model_name": "ProgressStyleModel",
            "description_width": "initial",
            "_view_module": "@jupyter-widgets/base",
            "_model_module_version": "1.5.0",
            "_view_count": null,
            "_view_module_version": "1.2.0",
            "bar_color": null,
            "_model_module": "@jupyter-widgets/controls"
          },
          "model_module_version": "1.5.0"
        },
        "9d93660954fb4877a5e09147c1073f49": {
          "model_module": "@jupyter-widgets/base",
          "model_name": "LayoutModel",
          "state": {
            "_view_name": "LayoutView",
            "grid_template_rows": null,
            "right": null,
            "justify_content": null,
            "_view_module": "@jupyter-widgets/base",
            "overflow": null,
            "_model_module_version": "1.2.0",
            "_view_count": null,
            "flex_flow": null,
            "width": null,
            "min_width": null,
            "border": null,
            "align_items": null,
            "bottom": null,
            "_model_module": "@jupyter-widgets/base",
            "top": null,
            "grid_column": null,
            "overflow_y": null,
            "overflow_x": null,
            "grid_auto_flow": null,
            "grid_area": null,
            "grid_template_columns": null,
            "flex": null,
            "_model_name": "LayoutModel",
            "justify_items": null,
            "grid_row": null,
            "max_height": null,
            "align_content": null,
            "visibility": null,
            "align_self": null,
            "height": null,
            "min_height": null,
            "padding": null,
            "grid_auto_rows": null,
            "grid_gap": null,
            "max_width": null,
            "order": null,
            "_view_module_version": "1.2.0",
            "grid_template_areas": null,
            "object_position": null,
            "object_fit": null,
            "grid_auto_columns": null,
            "margin": null,
            "display": null,
            "left": null
          },
          "model_module_version": "1.2.0"
        },
        "ef9f0c501c2246b39a1c8c3fd9afbd5f": {
          "model_module": "@jupyter-widgets/controls",
          "model_name": "DescriptionStyleModel",
          "state": {
            "_view_name": "StyleView",
            "_model_name": "DescriptionStyleModel",
            "description_width": "",
            "_view_module": "@jupyter-widgets/base",
            "_model_module_version": "1.5.0",
            "_view_count": null,
            "_view_module_version": "1.2.0",
            "_model_module": "@jupyter-widgets/controls"
          },
          "model_module_version": "1.5.0"
        },
        "fdb5c4cf49d140fc9797818dddf0b5ef": {
          "model_module": "@jupyter-widgets/base",
          "model_name": "LayoutModel",
          "state": {
            "_view_name": "LayoutView",
            "grid_template_rows": null,
            "right": null,
            "justify_content": null,
            "_view_module": "@jupyter-widgets/base",
            "overflow": null,
            "_model_module_version": "1.2.0",
            "_view_count": null,
            "flex_flow": null,
            "width": null,
            "min_width": null,
            "border": null,
            "align_items": null,
            "bottom": null,
            "_model_module": "@jupyter-widgets/base",
            "top": null,
            "grid_column": null,
            "overflow_y": null,
            "overflow_x": null,
            "grid_auto_flow": null,
            "grid_area": null,
            "grid_template_columns": null,
            "flex": null,
            "_model_name": "LayoutModel",
            "justify_items": null,
            "grid_row": null,
            "max_height": null,
            "align_content": null,
            "visibility": null,
            "align_self": null,
            "height": null,
            "min_height": null,
            "padding": null,
            "grid_auto_rows": null,
            "grid_gap": null,
            "max_width": null,
            "order": null,
            "_view_module_version": "1.2.0",
            "grid_template_areas": null,
            "object_position": null,
            "object_fit": null,
            "grid_auto_columns": null,
            "margin": null,
            "display": null,
            "left": null
          },
          "model_module_version": "1.2.0"
        },
        "debd8c74d9ec4ecea02a50bc9dab0a33": {
          "model_module": "@jupyter-widgets/controls",
          "model_name": "HBoxModel",
          "state": {
            "_view_name": "HBoxView",
            "_dom_classes": [],
            "_model_name": "HBoxModel",
            "_view_module": "@jupyter-widgets/controls",
            "_model_module_version": "1.5.0",
            "_view_count": null,
            "_view_module_version": "1.5.0",
            "box_style": "",
            "layout": "IPY_MODEL_02519f761d924764b29b911f4328bd10",
            "_model_module": "@jupyter-widgets/controls",
            "children": [
              "IPY_MODEL_45bbd32275164dea91b6e85b477779c4",
              "IPY_MODEL_115674b14c2f4a838b024579d7172845"
            ]
          },
          "model_module_version": "1.5.0"
        },
        "02519f761d924764b29b911f4328bd10": {
          "model_module": "@jupyter-widgets/base",
          "model_name": "LayoutModel",
          "state": {
            "_view_name": "LayoutView",
            "grid_template_rows": null,
            "right": null,
            "justify_content": null,
            "_view_module": "@jupyter-widgets/base",
            "overflow": null,
            "_model_module_version": "1.2.0",
            "_view_count": null,
            "flex_flow": null,
            "width": null,
            "min_width": null,
            "border": null,
            "align_items": null,
            "bottom": null,
            "_model_module": "@jupyter-widgets/base",
            "top": null,
            "grid_column": null,
            "overflow_y": null,
            "overflow_x": null,
            "grid_auto_flow": null,
            "grid_area": null,
            "grid_template_columns": null,
            "flex": null,
            "_model_name": "LayoutModel",
            "justify_items": null,
            "grid_row": null,
            "max_height": null,
            "align_content": null,
            "visibility": null,
            "align_self": null,
            "height": null,
            "min_height": null,
            "padding": null,
            "grid_auto_rows": null,
            "grid_gap": null,
            "max_width": null,
            "order": null,
            "_view_module_version": "1.2.0",
            "grid_template_areas": null,
            "object_position": null,
            "object_fit": null,
            "grid_auto_columns": null,
            "margin": null,
            "display": null,
            "left": null
          },
          "model_module_version": "1.2.0"
        },
        "45bbd32275164dea91b6e85b477779c4": {
          "model_module": "@jupyter-widgets/controls",
          "model_name": "FloatProgressModel",
          "state": {
            "_view_name": "ProgressView",
            "style": "IPY_MODEL_e7efa6ceeff6455d89a7c8648cbcb7be",
            "_dom_classes": [],
            "description": "",
            "_model_name": "FloatProgressModel",
            "bar_style": "success",
            "max": 28881,
            "_view_module": "@jupyter-widgets/controls",
            "_model_module_version": "1.5.0",
            "value": 28881,
            "_view_count": null,
            "_view_module_version": "1.5.0",
            "orientation": "horizontal",
            "min": 0,
            "description_tooltip": null,
            "_model_module": "@jupyter-widgets/controls",
            "layout": "IPY_MODEL_fec8581bba714c2383efb09e17620729"
          },
          "model_module_version": "1.5.0"
        },
        "115674b14c2f4a838b024579d7172845": {
          "model_module": "@jupyter-widgets/controls",
          "model_name": "HTMLModel",
          "state": {
            "_view_name": "HTMLView",
            "style": "IPY_MODEL_41ad8af9decd4230bea78d3a0d6ee636",
            "_dom_classes": [],
            "description": "",
            "_model_name": "HTMLModel",
            "placeholder": "​",
            "_view_module": "@jupyter-widgets/controls",
            "_model_module_version": "1.5.0",
            "value": " 29696/? [00:17&lt;00:00, 1686.43it/s]",
            "_view_count": null,
            "_view_module_version": "1.5.0",
            "description_tooltip": null,
            "_model_module": "@jupyter-widgets/controls",
            "layout": "IPY_MODEL_6fd408d06e264723954294de545e02e2"
          },
          "model_module_version": "1.5.0"
        },
        "e7efa6ceeff6455d89a7c8648cbcb7be": {
          "model_module": "@jupyter-widgets/controls",
          "model_name": "ProgressStyleModel",
          "state": {
            "_view_name": "StyleView",
            "_model_name": "ProgressStyleModel",
            "description_width": "initial",
            "_view_module": "@jupyter-widgets/base",
            "_model_module_version": "1.5.0",
            "_view_count": null,
            "_view_module_version": "1.2.0",
            "bar_color": null,
            "_model_module": "@jupyter-widgets/controls"
          },
          "model_module_version": "1.5.0"
        },
        "fec8581bba714c2383efb09e17620729": {
          "model_module": "@jupyter-widgets/base",
          "model_name": "LayoutModel",
          "state": {
            "_view_name": "LayoutView",
            "grid_template_rows": null,
            "right": null,
            "justify_content": null,
            "_view_module": "@jupyter-widgets/base",
            "overflow": null,
            "_model_module_version": "1.2.0",
            "_view_count": null,
            "flex_flow": null,
            "width": null,
            "min_width": null,
            "border": null,
            "align_items": null,
            "bottom": null,
            "_model_module": "@jupyter-widgets/base",
            "top": null,
            "grid_column": null,
            "overflow_y": null,
            "overflow_x": null,
            "grid_auto_flow": null,
            "grid_area": null,
            "grid_template_columns": null,
            "flex": null,
            "_model_name": "LayoutModel",
            "justify_items": null,
            "grid_row": null,
            "max_height": null,
            "align_content": null,
            "visibility": null,
            "align_self": null,
            "height": null,
            "min_height": null,
            "padding": null,
            "grid_auto_rows": null,
            "grid_gap": null,
            "max_width": null,
            "order": null,
            "_view_module_version": "1.2.0",
            "grid_template_areas": null,
            "object_position": null,
            "object_fit": null,
            "grid_auto_columns": null,
            "margin": null,
            "display": null,
            "left": null
          },
          "model_module_version": "1.2.0"
        },
        "41ad8af9decd4230bea78d3a0d6ee636": {
          "model_module": "@jupyter-widgets/controls",
          "model_name": "DescriptionStyleModel",
          "state": {
            "_view_name": "StyleView",
            "_model_name": "DescriptionStyleModel",
            "description_width": "",
            "_view_module": "@jupyter-widgets/base",
            "_model_module_version": "1.5.0",
            "_view_count": null,
            "_view_module_version": "1.2.0",
            "_model_module": "@jupyter-widgets/controls"
          },
          "model_module_version": "1.5.0"
        },
        "6fd408d06e264723954294de545e02e2": {
          "model_module": "@jupyter-widgets/base",
          "model_name": "LayoutModel",
          "state": {
            "_view_name": "LayoutView",
            "grid_template_rows": null,
            "right": null,
            "justify_content": null,
            "_view_module": "@jupyter-widgets/base",
            "overflow": null,
            "_model_module_version": "1.2.0",
            "_view_count": null,
            "flex_flow": null,
            "width": null,
            "min_width": null,
            "border": null,
            "align_items": null,
            "bottom": null,
            "_model_module": "@jupyter-widgets/base",
            "top": null,
            "grid_column": null,
            "overflow_y": null,
            "overflow_x": null,
            "grid_auto_flow": null,
            "grid_area": null,
            "grid_template_columns": null,
            "flex": null,
            "_model_name": "LayoutModel",
            "justify_items": null,
            "grid_row": null,
            "max_height": null,
            "align_content": null,
            "visibility": null,
            "align_self": null,
            "height": null,
            "min_height": null,
            "padding": null,
            "grid_auto_rows": null,
            "grid_gap": null,
            "max_width": null,
            "order": null,
            "_view_module_version": "1.2.0",
            "grid_template_areas": null,
            "object_position": null,
            "object_fit": null,
            "grid_auto_columns": null,
            "margin": null,
            "display": null,
            "left": null
          },
          "model_module_version": "1.2.0"
        },
        "0aa77d24827d4f79b1d36a2d8cbb1727": {
          "model_module": "@jupyter-widgets/controls",
          "model_name": "HBoxModel",
          "state": {
            "_view_name": "HBoxView",
            "_dom_classes": [],
            "_model_name": "HBoxModel",
            "_view_module": "@jupyter-widgets/controls",
            "_model_module_version": "1.5.0",
            "_view_count": null,
            "_view_module_version": "1.5.0",
            "box_style": "",
            "layout": "IPY_MODEL_1fcac6e5ddd7459384d5dd8d1d3f1675",
            "_model_module": "@jupyter-widgets/controls",
            "children": [
              "IPY_MODEL_f473bf7bf4c94a9f82039c50cdc21025",
              "IPY_MODEL_a3c232a5eec641f3a9e408d3a1cb6464"
            ]
          },
          "model_module_version": "1.5.0"
        },
        "1fcac6e5ddd7459384d5dd8d1d3f1675": {
          "model_module": "@jupyter-widgets/base",
          "model_name": "LayoutModel",
          "state": {
            "_view_name": "LayoutView",
            "grid_template_rows": null,
            "right": null,
            "justify_content": null,
            "_view_module": "@jupyter-widgets/base",
            "overflow": null,
            "_model_module_version": "1.2.0",
            "_view_count": null,
            "flex_flow": null,
            "width": null,
            "min_width": null,
            "border": null,
            "align_items": null,
            "bottom": null,
            "_model_module": "@jupyter-widgets/base",
            "top": null,
            "grid_column": null,
            "overflow_y": null,
            "overflow_x": null,
            "grid_auto_flow": null,
            "grid_area": null,
            "grid_template_columns": null,
            "flex": null,
            "_model_name": "LayoutModel",
            "justify_items": null,
            "grid_row": null,
            "max_height": null,
            "align_content": null,
            "visibility": null,
            "align_self": null,
            "height": null,
            "min_height": null,
            "padding": null,
            "grid_auto_rows": null,
            "grid_gap": null,
            "max_width": null,
            "order": null,
            "_view_module_version": "1.2.0",
            "grid_template_areas": null,
            "object_position": null,
            "object_fit": null,
            "grid_auto_columns": null,
            "margin": null,
            "display": null,
            "left": null
          },
          "model_module_version": "1.2.0"
        },
        "f473bf7bf4c94a9f82039c50cdc21025": {
          "model_module": "@jupyter-widgets/controls",
          "model_name": "FloatProgressModel",
          "state": {
            "_view_name": "ProgressView",
            "style": "IPY_MODEL_e87b33f171d247f28159fec8ce9a8f8f",
            "_dom_classes": [],
            "description": "",
            "_model_name": "FloatProgressModel",
            "bar_style": "success",
            "max": 1648877,
            "_view_module": "@jupyter-widgets/controls",
            "_model_module_version": "1.5.0",
            "value": 1648877,
            "_view_count": null,
            "_view_module_version": "1.5.0",
            "orientation": "horizontal",
            "min": 0,
            "description_tooltip": null,
            "_model_module": "@jupyter-widgets/controls",
            "layout": "IPY_MODEL_c92aa1e8f9a340a5adbd177553e914ab"
          },
          "model_module_version": "1.5.0"
        },
        "a3c232a5eec641f3a9e408d3a1cb6464": {
          "model_module": "@jupyter-widgets/controls",
          "model_name": "HTMLModel",
          "state": {
            "_view_name": "HTMLView",
            "style": "IPY_MODEL_2687c7ee37004c569e2889c96c670dfb",
            "_dom_classes": [],
            "description": "",
            "_model_name": "HTMLModel",
            "placeholder": "​",
            "_view_module": "@jupyter-widgets/controls",
            "_model_module_version": "1.5.0",
            "value": " 1649664/? [00:07&lt;00:00, 212734.98it/s]",
            "_view_count": null,
            "_view_module_version": "1.5.0",
            "description_tooltip": null,
            "_model_module": "@jupyter-widgets/controls",
            "layout": "IPY_MODEL_3d56ee8bedf74b608f3c579d61f85d21"
          },
          "model_module_version": "1.5.0"
        },
        "e87b33f171d247f28159fec8ce9a8f8f": {
          "model_module": "@jupyter-widgets/controls",
          "model_name": "ProgressStyleModel",
          "state": {
            "_view_name": "StyleView",
            "_model_name": "ProgressStyleModel",
            "description_width": "initial",
            "_view_module": "@jupyter-widgets/base",
            "_model_module_version": "1.5.0",
            "_view_count": null,
            "_view_module_version": "1.2.0",
            "bar_color": null,
            "_model_module": "@jupyter-widgets/controls"
          },
          "model_module_version": "1.5.0"
        },
        "c92aa1e8f9a340a5adbd177553e914ab": {
          "model_module": "@jupyter-widgets/base",
          "model_name": "LayoutModel",
          "state": {
            "_view_name": "LayoutView",
            "grid_template_rows": null,
            "right": null,
            "justify_content": null,
            "_view_module": "@jupyter-widgets/base",
            "overflow": null,
            "_model_module_version": "1.2.0",
            "_view_count": null,
            "flex_flow": null,
            "width": null,
            "min_width": null,
            "border": null,
            "align_items": null,
            "bottom": null,
            "_model_module": "@jupyter-widgets/base",
            "top": null,
            "grid_column": null,
            "overflow_y": null,
            "overflow_x": null,
            "grid_auto_flow": null,
            "grid_area": null,
            "grid_template_columns": null,
            "flex": null,
            "_model_name": "LayoutModel",
            "justify_items": null,
            "grid_row": null,
            "max_height": null,
            "align_content": null,
            "visibility": null,
            "align_self": null,
            "height": null,
            "min_height": null,
            "padding": null,
            "grid_auto_rows": null,
            "grid_gap": null,
            "max_width": null,
            "order": null,
            "_view_module_version": "1.2.0",
            "grid_template_areas": null,
            "object_position": null,
            "object_fit": null,
            "grid_auto_columns": null,
            "margin": null,
            "display": null,
            "left": null
          },
          "model_module_version": "1.2.0"
        },
        "2687c7ee37004c569e2889c96c670dfb": {
          "model_module": "@jupyter-widgets/controls",
          "model_name": "DescriptionStyleModel",
          "state": {
            "_view_name": "StyleView",
            "_model_name": "DescriptionStyleModel",
            "description_width": "",
            "_view_module": "@jupyter-widgets/base",
            "_model_module_version": "1.5.0",
            "_view_count": null,
            "_view_module_version": "1.2.0",
            "_model_module": "@jupyter-widgets/controls"
          },
          "model_module_version": "1.5.0"
        },
        "3d56ee8bedf74b608f3c579d61f85d21": {
          "model_module": "@jupyter-widgets/base",
          "model_name": "LayoutModel",
          "state": {
            "_view_name": "LayoutView",
            "grid_template_rows": null,
            "right": null,
            "justify_content": null,
            "_view_module": "@jupyter-widgets/base",
            "overflow": null,
            "_model_module_version": "1.2.0",
            "_view_count": null,
            "flex_flow": null,
            "width": null,
            "min_width": null,
            "border": null,
            "align_items": null,
            "bottom": null,
            "_model_module": "@jupyter-widgets/base",
            "top": null,
            "grid_column": null,
            "overflow_y": null,
            "overflow_x": null,
            "grid_auto_flow": null,
            "grid_area": null,
            "grid_template_columns": null,
            "flex": null,
            "_model_name": "LayoutModel",
            "justify_items": null,
            "grid_row": null,
            "max_height": null,
            "align_content": null,
            "visibility": null,
            "align_self": null,
            "height": null,
            "min_height": null,
            "padding": null,
            "grid_auto_rows": null,
            "grid_gap": null,
            "max_width": null,
            "order": null,
            "_view_module_version": "1.2.0",
            "grid_template_areas": null,
            "object_position": null,
            "object_fit": null,
            "grid_auto_columns": null,
            "margin": null,
            "display": null,
            "left": null
          },
          "model_module_version": "1.2.0"
        },
        "3a4a277183c34856a2cb97d5040b041f": {
          "model_module": "@jupyter-widgets/controls",
          "model_name": "HBoxModel",
          "state": {
            "_view_name": "HBoxView",
            "_dom_classes": [],
            "_model_name": "HBoxModel",
            "_view_module": "@jupyter-widgets/controls",
            "_model_module_version": "1.5.0",
            "_view_count": null,
            "_view_module_version": "1.5.0",
            "box_style": "",
            "layout": "IPY_MODEL_12d879659ff64d75b92e70458f44522d",
            "_model_module": "@jupyter-widgets/controls",
            "children": [
              "IPY_MODEL_4e57e69962d442dbac5ff6fea06bb003",
              "IPY_MODEL_08374ee6ea3044d0a494f1c6bc87f0e8"
            ]
          },
          "model_module_version": "1.5.0"
        },
        "12d879659ff64d75b92e70458f44522d": {
          "model_module": "@jupyter-widgets/base",
          "model_name": "LayoutModel",
          "state": {
            "_view_name": "LayoutView",
            "grid_template_rows": null,
            "right": null,
            "justify_content": null,
            "_view_module": "@jupyter-widgets/base",
            "overflow": null,
            "_model_module_version": "1.2.0",
            "_view_count": null,
            "flex_flow": null,
            "width": null,
            "min_width": null,
            "border": null,
            "align_items": null,
            "bottom": null,
            "_model_module": "@jupyter-widgets/base",
            "top": null,
            "grid_column": null,
            "overflow_y": null,
            "overflow_x": null,
            "grid_auto_flow": null,
            "grid_area": null,
            "grid_template_columns": null,
            "flex": null,
            "_model_name": "LayoutModel",
            "justify_items": null,
            "grid_row": null,
            "max_height": null,
            "align_content": null,
            "visibility": null,
            "align_self": null,
            "height": null,
            "min_height": null,
            "padding": null,
            "grid_auto_rows": null,
            "grid_gap": null,
            "max_width": null,
            "order": null,
            "_view_module_version": "1.2.0",
            "grid_template_areas": null,
            "object_position": null,
            "object_fit": null,
            "grid_auto_columns": null,
            "margin": null,
            "display": null,
            "left": null
          },
          "model_module_version": "1.2.0"
        },
        "4e57e69962d442dbac5ff6fea06bb003": {
          "model_module": "@jupyter-widgets/controls",
          "model_name": "FloatProgressModel",
          "state": {
            "_view_name": "ProgressView",
            "style": "IPY_MODEL_36f447c2086f4b7f99f9c1a50bb05d69",
            "_dom_classes": [],
            "description": "",
            "_model_name": "FloatProgressModel",
            "bar_style": "success",
            "max": 4542,
            "_view_module": "@jupyter-widgets/controls",
            "_model_module_version": "1.5.0",
            "value": 4542,
            "_view_count": null,
            "_view_module_version": "1.5.0",
            "orientation": "horizontal",
            "min": 0,
            "description_tooltip": null,
            "_model_module": "@jupyter-widgets/controls",
            "layout": "IPY_MODEL_54d547acd33c4260aded45e4798ffc11"
          },
          "model_module_version": "1.5.0"
        },
        "08374ee6ea3044d0a494f1c6bc87f0e8": {
          "model_module": "@jupyter-widgets/controls",
          "model_name": "HTMLModel",
          "state": {
            "_view_name": "HTMLView",
            "style": "IPY_MODEL_0fe00ef5d4f04e9bb606f158f7f6c6d8",
            "_dom_classes": [],
            "description": "",
            "_model_name": "HTMLModel",
            "placeholder": "​",
            "_view_module": "@jupyter-widgets/controls",
            "_model_module_version": "1.5.0",
            "value": " 5120/? [00:07&lt;00:00, 687.47it/s]",
            "_view_count": null,
            "_view_module_version": "1.5.0",
            "description_tooltip": null,
            "_model_module": "@jupyter-widgets/controls",
            "layout": "IPY_MODEL_d310cd5b0b42483daf7744922b61bf8c"
          },
          "model_module_version": "1.5.0"
        },
        "36f447c2086f4b7f99f9c1a50bb05d69": {
          "model_module": "@jupyter-widgets/controls",
          "model_name": "ProgressStyleModel",
          "state": {
            "_view_name": "StyleView",
            "_model_name": "ProgressStyleModel",
            "description_width": "initial",
            "_view_module": "@jupyter-widgets/base",
            "_model_module_version": "1.5.0",
            "_view_count": null,
            "_view_module_version": "1.2.0",
            "bar_color": null,
            "_model_module": "@jupyter-widgets/controls"
          },
          "model_module_version": "1.5.0"
        },
        "54d547acd33c4260aded45e4798ffc11": {
          "model_module": "@jupyter-widgets/base",
          "model_name": "LayoutModel",
          "state": {
            "_view_name": "LayoutView",
            "grid_template_rows": null,
            "right": null,
            "justify_content": null,
            "_view_module": "@jupyter-widgets/base",
            "overflow": null,
            "_model_module_version": "1.2.0",
            "_view_count": null,
            "flex_flow": null,
            "width": null,
            "min_width": null,
            "border": null,
            "align_items": null,
            "bottom": null,
            "_model_module": "@jupyter-widgets/base",
            "top": null,
            "grid_column": null,
            "overflow_y": null,
            "overflow_x": null,
            "grid_auto_flow": null,
            "grid_area": null,
            "grid_template_columns": null,
            "flex": null,
            "_model_name": "LayoutModel",
            "justify_items": null,
            "grid_row": null,
            "max_height": null,
            "align_content": null,
            "visibility": null,
            "align_self": null,
            "height": null,
            "min_height": null,
            "padding": null,
            "grid_auto_rows": null,
            "grid_gap": null,
            "max_width": null,
            "order": null,
            "_view_module_version": "1.2.0",
            "grid_template_areas": null,
            "object_position": null,
            "object_fit": null,
            "grid_auto_columns": null,
            "margin": null,
            "display": null,
            "left": null
          },
          "model_module_version": "1.2.0"
        },
        "0fe00ef5d4f04e9bb606f158f7f6c6d8": {
          "model_module": "@jupyter-widgets/controls",
          "model_name": "DescriptionStyleModel",
          "state": {
            "_view_name": "StyleView",
            "_model_name": "DescriptionStyleModel",
            "description_width": "",
            "_view_module": "@jupyter-widgets/base",
            "_model_module_version": "1.5.0",
            "_view_count": null,
            "_view_module_version": "1.2.0",
            "_model_module": "@jupyter-widgets/controls"
          },
          "model_module_version": "1.5.0"
        },
        "d310cd5b0b42483daf7744922b61bf8c": {
          "model_module": "@jupyter-widgets/base",
          "model_name": "LayoutModel",
          "state": {
            "_view_name": "LayoutView",
            "grid_template_rows": null,
            "right": null,
            "justify_content": null,
            "_view_module": "@jupyter-widgets/base",
            "overflow": null,
            "_model_module_version": "1.2.0",
            "_view_count": null,
            "flex_flow": null,
            "width": null,
            "min_width": null,
            "border": null,
            "align_items": null,
            "bottom": null,
            "_model_module": "@jupyter-widgets/base",
            "top": null,
            "grid_column": null,
            "overflow_y": null,
            "overflow_x": null,
            "grid_auto_flow": null,
            "grid_area": null,
            "grid_template_columns": null,
            "flex": null,
            "_model_name": "LayoutModel",
            "justify_items": null,
            "grid_row": null,
            "max_height": null,
            "align_content": null,
            "visibility": null,
            "align_self": null,
            "height": null,
            "min_height": null,
            "padding": null,
            "grid_auto_rows": null,
            "grid_gap": null,
            "max_width": null,
            "order": null,
            "_view_module_version": "1.2.0",
            "grid_template_areas": null,
            "object_position": null,
            "object_fit": null,
            "grid_auto_columns": null,
            "margin": null,
            "display": null,
            "left": null
          },
          "model_module_version": "1.2.0"
        }
      }
    }
  },
  "cells": [
    {
      "cell_type": "code",
      "metadata": {
        "id": "WsNwqDTf5tvP"
      },
      "source": [
        "import torch\n",
        "import numpy as np\n",
        "import random\n",
        "\n",
        "random.seed(0)\n",
        "np.random.seed(0)\n",
        "torch.manual_seed(0)\n",
        "torch.cuda.manual_seed(0) \n",
        "torch.backends.cudnn.deterministic = True"
      ],
      "execution_count": null,
      "outputs": []
    },
    {
      "cell_type": "code",
      "metadata": {
        "id": "3UoTG-z255xN"
      },
      "source": [
        "import torchvision.datasets"
      ],
      "execution_count": null,
      "outputs": []
    },
    {
      "cell_type": "code",
      "metadata": {
        "id": "PSZrbEX356ft",
        "colab": {
          "base_uri": "https://localhost:8080/",
          "height": 811,
          "referenced_widgets": [
            "ce906b4fb0e443f68186d99ff81a4fbd",
            "565ebed211be4af2ad8c595e11e8e956",
            "bf098eba9a30479fbd013022e829fa9a",
            "0d108f37caf84b1da01f45feeb7ec372",
            "fd759661b6b140ba88371b1c14dca2e6",
            "9d93660954fb4877a5e09147c1073f49",
            "ef9f0c501c2246b39a1c8c3fd9afbd5f",
            "fdb5c4cf49d140fc9797818dddf0b5ef",
            "debd8c74d9ec4ecea02a50bc9dab0a33",
            "02519f761d924764b29b911f4328bd10",
            "45bbd32275164dea91b6e85b477779c4",
            "115674b14c2f4a838b024579d7172845",
            "e7efa6ceeff6455d89a7c8648cbcb7be",
            "fec8581bba714c2383efb09e17620729",
            "41ad8af9decd4230bea78d3a0d6ee636",
            "6fd408d06e264723954294de545e02e2",
            "0aa77d24827d4f79b1d36a2d8cbb1727",
            "1fcac6e5ddd7459384d5dd8d1d3f1675",
            "f473bf7bf4c94a9f82039c50cdc21025",
            "a3c232a5eec641f3a9e408d3a1cb6464",
            "e87b33f171d247f28159fec8ce9a8f8f",
            "c92aa1e8f9a340a5adbd177553e914ab",
            "2687c7ee37004c569e2889c96c670dfb",
            "3d56ee8bedf74b608f3c579d61f85d21",
            "3a4a277183c34856a2cb97d5040b041f",
            "12d879659ff64d75b92e70458f44522d",
            "4e57e69962d442dbac5ff6fea06bb003",
            "08374ee6ea3044d0a494f1c6bc87f0e8",
            "36f447c2086f4b7f99f9c1a50bb05d69",
            "54d547acd33c4260aded45e4798ffc11",
            "0fe00ef5d4f04e9bb606f158f7f6c6d8",
            "d310cd5b0b42483daf7744922b61bf8c"
          ]
        },
        "outputId": "586ae946-c599-4f82-97ca-74a86405bae7"
      },
      "source": [
        "MNIST_train = torchvision.datasets.MNIST('./', download=True, train = True)\n",
        "MNIST_test = torchvision.datasets.MNIST('./', download=True, train = False)"
      ],
      "execution_count": null,
      "outputs": [
        {
          "output_type": "stream",
          "text": [
            "Downloading http://yann.lecun.com/exdb/mnist/train-images-idx3-ubyte.gz\n",
            "Downloading http://yann.lecun.com/exdb/mnist/train-images-idx3-ubyte.gz to ./MNIST/raw/train-images-idx3-ubyte.gz\n",
            "Failed to download (trying next):\n",
            "HTTP Error 503: Service Unavailable\n",
            "\n",
            "Downloading https://ossci-datasets.s3.amazonaws.com/mnist/train-images-idx3-ubyte.gz\n",
            "Downloading https://ossci-datasets.s3.amazonaws.com/mnist/train-images-idx3-ubyte.gz to ./MNIST/raw/train-images-idx3-ubyte.gz\n"
          ],
          "name": "stdout"
        },
        {
          "output_type": "display_data",
          "data": {
            "application/vnd.jupyter.widget-view+json": {
              "model_id": "ce906b4fb0e443f68186d99ff81a4fbd",
              "version_minor": 0,
              "version_major": 2
            },
            "text/plain": [
              "HBox(children=(FloatProgress(value=0.0, max=9912422.0), HTML(value='')))"
            ]
          },
          "metadata": {
            "tags": []
          }
        },
        {
          "output_type": "stream",
          "text": [
            "\n",
            "Extracting ./MNIST/raw/train-images-idx3-ubyte.gz to ./MNIST/raw\n",
            "\n",
            "Downloading http://yann.lecun.com/exdb/mnist/train-labels-idx1-ubyte.gz\n",
            "Downloading http://yann.lecun.com/exdb/mnist/train-labels-idx1-ubyte.gz to ./MNIST/raw/train-labels-idx1-ubyte.gz\n"
          ],
          "name": "stdout"
        },
        {
          "output_type": "display_data",
          "data": {
            "application/vnd.jupyter.widget-view+json": {
              "model_id": "debd8c74d9ec4ecea02a50bc9dab0a33",
              "version_minor": 0,
              "version_major": 2
            },
            "text/plain": [
              "HBox(children=(FloatProgress(value=0.0, max=28881.0), HTML(value='')))"
            ]
          },
          "metadata": {
            "tags": []
          }
        },
        {
          "output_type": "stream",
          "text": [
            "\n",
            "Extracting ./MNIST/raw/train-labels-idx1-ubyte.gz to ./MNIST/raw\n",
            "\n",
            "Downloading http://yann.lecun.com/exdb/mnist/t10k-images-idx3-ubyte.gz\n",
            "Downloading http://yann.lecun.com/exdb/mnist/t10k-images-idx3-ubyte.gz to ./MNIST/raw/t10k-images-idx3-ubyte.gz\n",
            "Failed to download (trying next):\n",
            "HTTP Error 503: Service Unavailable\n",
            "\n",
            "Downloading https://ossci-datasets.s3.amazonaws.com/mnist/t10k-images-idx3-ubyte.gz\n",
            "Downloading https://ossci-datasets.s3.amazonaws.com/mnist/t10k-images-idx3-ubyte.gz to ./MNIST/raw/t10k-images-idx3-ubyte.gz\n"
          ],
          "name": "stdout"
        },
        {
          "output_type": "display_data",
          "data": {
            "application/vnd.jupyter.widget-view+json": {
              "model_id": "0aa77d24827d4f79b1d36a2d8cbb1727",
              "version_minor": 0,
              "version_major": 2
            },
            "text/plain": [
              "HBox(children=(FloatProgress(value=0.0, max=1648877.0), HTML(value='')))"
            ]
          },
          "metadata": {
            "tags": []
          }
        },
        {
          "output_type": "stream",
          "text": [
            "\n",
            "Extracting ./MNIST/raw/t10k-images-idx3-ubyte.gz to ./MNIST/raw\n",
            "\n",
            "Downloading http://yann.lecun.com/exdb/mnist/t10k-labels-idx1-ubyte.gz\n",
            "Failed to download (trying next):\n",
            "HTTP Error 503: Service Unavailable\n",
            "\n",
            "Downloading https://ossci-datasets.s3.amazonaws.com/mnist/t10k-labels-idx1-ubyte.gz\n",
            "Downloading https://ossci-datasets.s3.amazonaws.com/mnist/t10k-labels-idx1-ubyte.gz to ./MNIST/raw/t10k-labels-idx1-ubyte.gz\n"
          ],
          "name": "stdout"
        },
        {
          "output_type": "display_data",
          "data": {
            "application/vnd.jupyter.widget-view+json": {
              "model_id": "3a4a277183c34856a2cb97d5040b041f",
              "version_minor": 0,
              "version_major": 2
            },
            "text/plain": [
              "HBox(children=(FloatProgress(value=0.0, max=4542.0), HTML(value='')))"
            ]
          },
          "metadata": {
            "tags": []
          }
        },
        {
          "output_type": "stream",
          "text": [
            "\n",
            "Extracting ./MNIST/raw/t10k-labels-idx1-ubyte.gz to ./MNIST/raw\n",
            "\n",
            "Processing...\n",
            "Done!\n"
          ],
          "name": "stdout"
        },
        {
          "output_type": "stream",
          "text": [
            "/usr/local/lib/python3.7/dist-packages/torchvision/datasets/mnist.py:502: UserWarning: The given NumPy array is not writeable, and PyTorch does not support non-writeable tensors. This means you can write to the underlying (supposedly non-writeable) NumPy array using the tensor. You may want to copy the array to protect its data or make it writeable before converting it to a tensor. This type of warning will be suppressed for the rest of this program. (Triggered internally at  /pytorch/torch/csrc/utils/tensor_numpy.cpp:143.)\n",
            "  return torch.from_numpy(parsed.astype(m[2], copy=False)).view(*s)\n"
          ],
          "name": "stderr"
        }
      ]
    },
    {
      "cell_type": "code",
      "metadata": {
        "id": "7HC--tJ558WX"
      },
      "source": [
        "X_train = MNIST_train.data\n",
        "y_train = MNIST_train.targets\n",
        "X_test = MNIST_test.data\n",
        "y_test = MNIST_test.targets"
      ],
      "execution_count": null,
      "outputs": []
    },
    {
      "cell_type": "code",
      "metadata": {
        "id": "wbvOozBV5-ob"
      },
      "source": [
        "need_train_indices = []\n",
        "rest_train_indices = []\n",
        "need_test_indices = []\n",
        "rest_test_indices = []\n",
        "for i in range(len(y_train)):\n",
        "  if y_train[i] != 4 and y_train[i] != 7:\n",
        "    need_train_indices.append(i)\n",
        "  else:\n",
        "    rest_train_indices.append(i)\n",
        "\n",
        "for i in range(len(y_test)):\n",
        "  if y_test[i] != 4 and y_test[i] != 7:\n",
        "    need_test_indices.append(i)\n",
        "  else:\n",
        "    rest_test_indices.append(i)\n"
      ],
      "execution_count": null,
      "outputs": []
    },
    {
      "cell_type": "code",
      "metadata": {
        "id": "SsYVPGgg6GHm",
        "colab": {
          "base_uri": "https://localhost:8080/"
        },
        "outputId": "e826a144-97fc-4875-8d87-800e1630a8ca"
      },
      "source": [
        "new_X_train = X_train[need_train_indices]\n",
        "new_y_train = y_train[need_train_indices]\n",
        "new_X_test = X_test[need_test_indices]\n",
        "new_y_test = y_test[need_test_indices]\n",
        "four_seven_train = X_train[rest_train_indices]\n",
        "four_seven_y_train = y_train[rest_train_indices]\n",
        "four_seven_test = X_test[rest_test_indices]\n",
        "four_seven_y_test = y_test[rest_test_indices]\n",
        "print(len(new_X_train))\n",
        "print(len(X_train))\n",
        "print(len(rest_train_indices))\n",
        "print(len(rest_test_indices))"
      ],
      "execution_count": null,
      "outputs": [
        {
          "output_type": "stream",
          "text": [
            "47893\n",
            "60000\n",
            "12107\n",
            "2010\n"
          ],
          "name": "stdout"
        }
      ]
    },
    {
      "cell_type": "code",
      "metadata": {
        "id": "adQ4UJPJ6IUP",
        "colab": {
          "base_uri": "https://localhost:8080/",
          "height": 1000
        },
        "outputId": "ab2e203f-a3e4-4271-a3c6-8abbf86b9471"
      },
      "source": [
        "import matplotlib.pyplot as plt\n",
        "for i in range(10):\n",
        "  plt.imshow(four_seven_train[i,:,:])\n",
        "  plt.show()\n",
        "  print(four_seven_y_train[i])"
      ],
      "execution_count": null,
      "outputs": [
        {
          "output_type": "display_data",
          "data": {
            "image/png": "[encoded data removed]",
            "text/plain": [
              "<Figure size 432x288 with 1 Axes>"
            ]
          },
          "metadata": {
            "tags": [],
            "needs_background": "light"
          }
        },
        {
          "output_type": "stream",
          "text": [
            "tensor(4)\n"
          ],
          "name": "stdout"
        },
        {
          "output_type": "display_data",
          "data": {
            "image/png": "[encoded data removed]",
            "text/plain": [
              "<Figure size 432x288 with 1 Axes>"
            ]
          },
          "metadata": {
            "tags": [],
            "needs_background": "light"
          }
        },
        {
          "output_type": "stream",
          "text": [
            "tensor(4)\n"
          ],
          "name": "stdout"
        },
        {
          "output_type": "display_data",
          "data": {
            "image/png": "[encoded data removed]",
            "text/plain": [
              "<Figure size 432x288 with 1 Axes>"
            ]
          },
          "metadata": {
            "tags": [],
            "needs_background": "light"
          }
        },
        {
          "output_type": "stream",
          "text": [
            "tensor(7)\n"
          ],
          "name": "stdout"
        },
        {
          "output_type": "display_data",
          "data": {
            "image/png": "[encoded data removed]",
            "text/plain": [
              "<Figure size 432x288 with 1 Axes>"
            ]
          },
          "metadata": {
            "tags": [],
            "needs_background": "light"
          }
        },
        {
          "output_type": "stream",
          "text": [
            "tensor(4)\n"
          ],
          "name": "stdout"
        },
        {
          "output_type": "display_data",
          "data": {
            "image/png": "[encoded data removed]",
            "text/plain": [
              "<Figure size 432x288 with 1 Axes>"
            ]
          },
          "metadata": {
            "tags": [],
            "needs_background": "light"
          }
        },
        {
          "output_type": "stream",
          "text": [
            "tensor(4)\n"
          ],
          "name": "stdout"
        },
        {
          "output_type": "display_data",
          "data": {
            "image/png": "[encoded data removed]",
            "text/plain": [
              "<Figure size 432x288 with 1 Axes>"
            ]
          },
          "metadata": {
            "tags": [],
            "needs_background": "light"
          }
        },
        {
          "output_type": "stream",
          "text": [
            "tensor(7)\n"
          ],
          "name": "stdout"
        },
        {
          "output_type": "display_data",
          "data": {
            "image/png": "[encoded data removed]",
            "text/plain": [
              "<Figure size 432x288 with 1 Axes>"
            ]
          },
          "metadata": {
            "tags": [],
            "needs_background": "light"
          }
        },
        {
          "output_type": "stream",
          "text": [
            "tensor(7)\n"
          ],
          "name": "stdout"
        },
        {
          "output_type": "display_data",
          "data": {
            "image/png": "[encoded data removed]",
            "text/plain": [
              "<Figure size 432x288 with 1 Axes>"
            ]
          },
          "metadata": {
            "tags": [],
            "needs_background": "light"
          }
        },
        {
          "output_type": "stream",
          "text": [
            "tensor(7)\n"
          ],
          "name": "stdout"
        },
        {
          "output_type": "display_data",
          "data": {
            "image/png": "[encoded data removed]",
            "text/plain": [
              "<Figure size 432x288 with 1 Axes>"
            ]
          },
          "metadata": {
            "tags": [],
            "needs_background": "light"
          }
        },
        {
          "output_type": "stream",
          "text": [
            "tensor(7)\n"
          ],
          "name": "stdout"
        },
        {
          "output_type": "display_data",
          "data": {
            "image/png": "[encoded data removed]",
            "text/plain": [
              "<Figure size 432x288 with 1 Axes>"
            ]
          },
          "metadata": {
            "tags": [],
            "needs_background": "light"
          }
        },
        {
          "output_type": "stream",
          "text": [
            "tensor(4)\n"
          ],
          "name": "stdout"
        }
      ]
    },
    {
      "cell_type": "code",
      "metadata": {
        "id": "6eV8P-E16a8X"
      },
      "source": [
        "new_X_train = new_X_train.unsqueeze(1).float()\n",
        "new_X_test = new_X_test.unsqueeze(1).float()\n",
        "X_train = X_train.unsqueeze(1).float()\n",
        "X_test = X_test.unsqueeze(1).float()\n",
        "four_seven_train = four_seven_train.unsqueeze(1).float()\n",
        "four_seven_test = four_seven_test.unsqueeze(1).float()"
      ],
      "execution_count": null,
      "outputs": []
    },
    {
      "cell_type": "code",
      "metadata": {
        "id": "xPMrNV9n6uGg"
      },
      "source": [
        "device = torch.device('cuda:0' if torch.cuda.is_available() else 'cpu')"
      ],
      "execution_count": null,
      "outputs": []
    },
    {
      "cell_type": "code",
      "metadata": {
        "id": "uav4fm_46wft"
      },
      "source": [
        "class YannLecun(torch.nn.Module):\n",
        "  def __init__(self):\n",
        "    super(YannLecun, self).__init__()\n",
        "\n",
        "    self.conv1 = torch.nn.Conv2d(in_channels=1, out_channels=6, kernel_size=5, padding= 2)\n",
        "    self.act1 = torch.nn.Tanh()\n",
        "    self.pool1 = torch.nn.AvgPool2d(kernel_size=2, stride = 2)\n",
        "\n",
        "    self.conv2 = torch.nn.Conv2d(in_channels=6,out_channels=16,kernel_size= 5, padding= 0)\n",
        "    self.act2 =torch.nn.Tanh()\n",
        "    self.pool2 = torch.nn.AvgPool2d(kernel_size=2,stride= 2)\n",
        "\n",
        "    self.fc1 = torch.nn.Linear(5*5*16, 120)\n",
        "    self.act3 = torch.nn.Tanh()\n",
        "\n",
        "    self.fc2 = torch.nn.Linear(120,84)\n",
        "    self.act4 = torch.nn.Tanh()\n",
        "\n",
        "    self.fc3_1 = torch.nn.Linear(84, 8)\n",
        "    self.fc3_2 = torch.nn.Linear(84, 2)\n",
        "    #self.fc3 = torch.nn.Lniear(84,10)\n",
        "    self.ident = torch.nn.Identity(10,10)\n",
        "    #один слой разделим на два Linear(84,2) Linear(84,8)\n",
        "    #и будем смотреть максимум по двум слоям \n",
        "    #\n",
        "  def forward(self,x):\n",
        "    x = self.conv1(x)\n",
        "    x = self.act1(x)\n",
        "    x = self.pool1(x)\n",
        "\n",
        "    x = self.conv2(x)\n",
        "    x = self.act2(x)\n",
        "    x = self.pool2(x)\n",
        "\n",
        "    x = x.view(x.size(0),x.size(1)*x.size(2)*x.size(3))\n",
        "\n",
        "    x = self.fc1(x)\n",
        "    x = self.act3(x)\n",
        "    x = self.fc2(x)\n",
        "    x = self.act4(x)\n",
        "    x1 = self.fc3_1(x)\n",
        "    x1 = x1.to(device)\n",
        "    x2 = self.fc3_2(x)\n",
        "    x2 = x2.to(device)\n",
        "    tot_x = torch.zeros((len(x),10), dtype=torch.float)\n",
        "    tot_x = tot_x.to(device)\n",
        "    indices_1 = [0,1,2,3,5,6,8,9]\n",
        "    indices_2 = [4,7]\n",
        "    tot_x[:, indices_1] = x1\n",
        "    tot_x[:, indices_2] = x2\n",
        "    x = self.ident(tot_x)\n",
        "    return x\n",
        "\n",
        "yann_lecun = YannLecun()"
      ],
      "execution_count": null,
      "outputs": []
    },
    {
      "cell_type": "code",
      "metadata": {
        "id": "FgXlTijg7Lu8"
      },
      "source": [
        "yann_lecun = yann_lecun.to(device)"
      ],
      "execution_count": null,
      "outputs": []
    },
    {
      "cell_type": "code",
      "metadata": {
        "id": "4sObL_o-7ObM"
      },
      "source": [
        "loss = torch.nn.CrossEntropyLoss()\n",
        "optimizer = torch.optim.Adam(yann_lecun.parameters(), lr=4.0e-4)"
      ],
      "execution_count": null,
      "outputs": []
    },
    {
      "cell_type": "code",
      "metadata": {
        "id": "ErVBCoZo7Qcl",
        "colab": {
          "base_uri": "https://localhost:8080/"
        },
        "outputId": "d9da638e-4f78-4e8c-f556-83a63cd4acbd"
      },
      "source": [
        "print(four_seven_y_test)"
      ],
      "execution_count": null,
      "outputs": [
        {
          "output_type": "stream",
          "text": [
            "tensor([7, 4, 4,  ..., 4, 7, 4])\n"
          ],
          "name": "stdout"
        }
      ]
    },
    {
      "cell_type": "code",
      "metadata": {
        "id": "zllRTyCIql4b"
      },
      "source": [
        ""
      ],
      "execution_count": null,
      "outputs": []
    },
    {
      "cell_type": "code",
      "metadata": {
        "id": "yI3YnrIy7U0t",
        "colab": {
          "base_uri": "https://localhost:8080/"
        },
        "outputId": "9ebbc7f3-ae70-42b7-a634-65e1e25f36a5"
      },
      "source": [
        "batch_size = 100\n",
        "\n",
        "test_accuracy_history = []\n",
        "test_loss_history = []\n",
        "\n",
        "new_X_test = new_X_test.to(device)\n",
        "new_y_test = new_y_test.to(device)\n",
        "\n",
        "for epoch in range(30):\n",
        "  order = np.random.permutation(len(new_X_train))\n",
        "  for start_index in range(0,len(new_X_train), batch_size):\n",
        "    optimizer.zero_grad()\n",
        "\n",
        "    batch_indexes = order[start_index:start_index+batch_size]\n",
        "\n",
        "    X_batch = new_X_train[batch_indexes].to(device)\n",
        "    y_batch = new_y_train[batch_indexes].to(device)\n",
        "\n",
        "    preds = yann_lecun.forward(X_batch)\n",
        "\n",
        "    loss_value = loss(preds,y_batch)\n",
        "    loss_value.backward()\n",
        "\n",
        "    optimizer.step()\n",
        "  \n",
        "  test_preds = yann_lecun.forward(new_X_test)\n",
        "  test_loss_history.append(loss(test_preds, new_y_test).data.cpu())\n",
        "\n",
        "  accuracy = (test_preds.argmax(dim = 1) == new_y_test).float().mean().data.cpu()\n",
        "  test_accuracy_history.append(accuracy)\n",
        "\n",
        "  print(accuracy)"
      ],
      "execution_count": null,
      "outputs": [
        {
          "output_type": "stream",
          "text": [
            "tensor(0.9732)\n",
            "tensor(0.9797)\n",
            "tensor(0.9831)\n",
            "tensor(0.9865)\n",
            "tensor(0.9876)\n",
            "tensor(0.9865)\n",
            "tensor(0.9895)\n",
            "tensor(0.9891)\n",
            "tensor(0.9899)\n",
            "tensor(0.9897)\n",
            "tensor(0.9904)\n",
            "tensor(0.9891)\n",
            "tensor(0.9904)\n",
            "tensor(0.9890)\n",
            "tensor(0.9894)\n",
            "tensor(0.9914)\n",
            "tensor(0.9916)\n",
            "tensor(0.9924)\n",
            "tensor(0.9909)\n",
            "tensor(0.9909)\n",
            "tensor(0.9907)\n",
            "tensor(0.9917)\n",
            "tensor(0.9906)\n",
            "tensor(0.9912)\n",
            "tensor(0.9877)\n",
            "tensor(0.9914)\n",
            "tensor(0.9910)\n",
            "tensor(0.9914)\n",
            "tensor(0.9909)\n",
            "tensor(0.9921)\n"
          ],
          "name": "stdout"
        }
      ]
    },
    {
      "cell_type": "code",
      "metadata": {
        "id": "4wFaXCiT7hdh",
        "colab": {
          "base_uri": "https://localhost:8080/"
        },
        "outputId": "a7425cdf-ab3a-43fa-b149-e955a7c425c1"
      },
      "source": [
        "test_preds = yann_lecun.forward(new_X_test)\n",
        "for i in range(10):\n",
        "  print(test_preds[i])\n",
        "  print(new_y_test[i])\n",
        "\n",
        "print(test_preds.shape)\n",
        "accuracy = (test_preds.argmax(dim = 1) == new_y_test).float().mean().data.cpu()"
      ],
      "execution_count": null,
      "outputs": [
        {
          "output_type": "stream",
          "text": [
            "tensor([  0.9096,   0.5902,  15.7328,  -2.3597,  -2.4647, -12.2812,   2.4929,\n",
            "         -2.1584,   2.4755,  -7.4244], device='cuda:0',\n",
            "       grad_fn=<SelectBackward>)\n",
            "tensor(2, device='cuda:0')\n",
            "tensor([-3.6165, 16.9398, -1.1262, -2.5645, -1.9233, -5.6649, -1.6096, -1.8615,\n",
            "         0.8896, -0.8878], device='cuda:0', grad_fn=<SelectBackward>)\n",
            "tensor(1, device='cuda:0')\n",
            "tensor([16.4412, -8.0772, -0.9060, -2.5446, -2.1071, -0.6597,  1.9931, -1.9864,\n",
            "        -2.0877, -0.5412], device='cuda:0', grad_fn=<SelectBackward>)\n",
            "tensor(0, device='cuda:0')\n",
            "tensor([-2.2944, 16.5234, -2.3438, -2.6299, -1.8747, -5.6225, -2.1315, -1.8238,\n",
            "         1.0234, -0.3708], device='cuda:0', grad_fn=<SelectBackward>)\n",
            "tensor(1, device='cuda:0')\n",
            "tensor([-4.1301e+00, -1.2978e-02,  2.4078e+00, -1.4141e+00, -2.3823e+00,\n",
            "        -4.1976e+00, -6.9334e+00, -2.4407e+00, -3.9941e-01,  1.4981e+01],\n",
            "       device='cuda:0', grad_fn=<SelectBackward>)\n",
            "tensor(9, device='cuda:0')\n",
            "tensor([-1.9729, -5.6910, -4.9078, -4.8417, -1.7749, 12.0117,  5.0009, -1.7466,\n",
            "         1.2013,  2.1455], device='cuda:0', grad_fn=<SelectBackward>)\n",
            "tensor(5, device='cuda:0')\n",
            "tensor([-3.0276, -4.0318,  0.2186, -0.3789, -3.2548, -3.2858, -6.5381, -2.8868,\n",
            "         1.4193, 15.9249], device='cuda:0', grad_fn=<SelectBackward>)\n",
            "tensor(9, device='cuda:0')\n",
            "tensor([ 1.7982e+01, -8.0047e+00,  2.9299e-01, -3.6597e+00, -1.5292e+00,\n",
            "        -1.8812e+00,  1.0670e+00, -1.3878e+00, -2.2723e+00,  7.5550e-03],\n",
            "       device='cuda:0', grad_fn=<SelectBackward>)\n",
            "tensor(0, device='cuda:0')\n",
            "tensor([ 2.8349, -4.1888, -1.4526, -5.6394, -2.5503,  1.4788, 17.2167, -2.4840,\n",
            "         0.3101, -6.1057], device='cuda:0', grad_fn=<SelectBackward>)\n",
            "tensor(6, device='cuda:0')\n",
            "tensor([-3.3413, -2.6637, -0.9818, -0.2466, -3.3069, -4.5114, -5.2871, -3.0976,\n",
            "         1.6375, 15.6145], device='cuda:0', grad_fn=<SelectBackward>)\n",
            "tensor(9, device='cuda:0')\n",
            "torch.Size([7990, 10])\n"
          ],
          "name": "stdout"
        }
      ]
    },
    {
      "cell_type": "code",
      "metadata": {
        "id": "VAIDCfDW8dWj",
        "colab": {
          "base_uri": "https://localhost:8080/"
        },
        "outputId": "a9a6f498-4fa7-43cd-bfd2-b7ebefc1c6e6"
      },
      "source": [
        "for name, param in yann_lecun.named_parameters():\n",
        "  \n",
        "  if name != 'fc3_2.weight' and name != 'fc3_2.bias':\n",
        "    param.requires_grad = False\n",
        "    \n",
        "for name, param in yann_lecun.named_parameters():\n",
        "  print(name,param)\n",
        "\n",
        "\n",
        "optimizer = torch.optim.Adam(filter(lambda p: p.requires_grad, yann_lecun.parameters()), lr=4.0e-4)\n",
        "#optimizer = torch.optim.Adam(yann_lecun.parameters(), lr=4.0e-4)"
      ],
      "execution_count": null,
      "outputs": [
        {
          "output_type": "stream",
          "text": [
            "conv1.weight Parameter containing:\n",
            "tensor([[[[ 0.0280,  0.0545, -0.1397, -0.0915, -0.0575],\n",
            "          [ 0.0241, -0.0495,  0.1490, -0.0250,  0.0347],\n",
            "          [-0.0864, -0.0347, -0.1710, -0.1530, -0.0503],\n",
            "          [ 0.0703,  0.1449,  0.1389, -0.1366, -0.0556],\n",
            "          [ 0.1775,  0.2897,  0.0561,  0.1792,  0.0506]]],\n",
            "\n",
            "\n",
            "        [[[ 0.0282,  0.1785, -0.0731,  0.1011,  0.0779],\n",
            "          [-0.1260,  0.0928, -0.1774, -0.1020, -0.2037],\n",
            "          [-0.2782, -0.2770,  0.0362,  0.0015,  0.0457],\n",
            "          [ 0.0931, -0.0806,  0.0101, -0.1355, -0.1315],\n",
            "          [ 0.0828,  0.1889,  0.1561,  0.0449,  0.0231]]],\n",
            "\n",
            "\n",
            "        [[[ 0.1437,  0.1996,  0.0996, -0.0043,  0.0613],\n",
            "          [-0.0612,  0.0679, -0.1288, -0.1003, -0.0591],\n",
            "          [ 0.1046,  0.0572, -0.1318,  0.0848,  0.1626],\n",
            "          [-0.0283, -0.0906, -0.0602,  0.1042,  0.2649],\n",
            "          [-0.2070, -0.1522,  0.0170,  0.1679,  0.1956]]],\n",
            "\n",
            "\n",
            "        [[[ 0.1658,  0.0528, -0.1208,  0.0349, -0.1662],\n",
            "          [-0.1512,  0.1922,  0.1600, -0.2552, -0.0853],\n",
            "          [ 0.0047, -0.0396, -0.1375,  0.0424, -0.2190],\n",
            "          [ 0.1086,  0.0785,  0.0628,  0.0128, -0.3034],\n",
            "          [-0.1312,  0.0793, -0.0299, -0.2255, -0.0648]]],\n",
            "\n",
            "\n",
            "        [[[ 0.1836,  0.1281, -0.0588, -0.1583, -0.1872],\n",
            "          [ 0.0209, -0.2430, -0.3459, -0.0926,  0.0432],\n",
            "          [-0.0608,  0.0067, -0.1295,  0.1556,  0.1129],\n",
            "          [-0.1450, -0.0629,  0.0478,  0.0511,  0.0538],\n",
            "          [ 0.1018,  0.0511, -0.0615,  0.1248, -0.1492]]],\n",
            "\n",
            "\n",
            "        [[[-0.0943,  0.0107, -0.0243, -0.0188, -0.1749],\n",
            "          [-0.0897,  0.0178, -0.0793,  0.0235,  0.1143],\n",
            "          [ 0.0139, -0.0381, -0.0393,  0.0763,  0.1755],\n",
            "          [ 0.3291,  0.2005,  0.2992,  0.0906, -0.0538],\n",
            "          [-0.1325,  0.0575,  0.0095, -0.0398, -0.0278]]]], device='cuda:0')\n",
            "conv1.bias Parameter containing:\n",
            "tensor([-0.1886, -0.1547, -0.1519,  0.1659,  0.0703, -0.2240], device='cuda:0')\n",
            "conv2.weight Parameter containing:\n",
            "tensor([[[[ 4.4904e-02, -1.0362e-01, -9.7489e-02, -1.0465e-01, -2.0377e-02],\n",
            "          [-1.8088e-02, -9.1344e-02, -1.2867e-01, -3.2898e-02,  2.3249e-02],\n",
            "          [-1.0906e-01, -3.1258e-03, -1.3097e-01, -1.0831e-01, -2.4002e-02],\n",
            "          [-1.0567e-01,  3.7833e-02,  2.1879e-03, -1.8400e-01, -1.0894e-02],\n",
            "          [-3.4261e-02, -4.9428e-02,  5.0336e-02, -1.1683e-01, -2.3351e-02]],\n",
            "\n",
            "         [[-4.5645e-02, -1.6514e-03,  3.4288e-02,  6.0856e-02,  9.0256e-02],\n",
            "          [ 3.8597e-02,  4.5833e-02,  4.3592e-02,  1.7152e-01,  1.7934e-01],\n",
            "          [-7.3349e-02, -1.7031e-01, -5.0376e-02, -1.7466e-02,  8.4629e-02],\n",
            "          [-1.5917e-01, -2.4872e-02, -7.0514e-02,  1.8824e-02,  1.3006e-01],\n",
            "          [ 3.3944e-02, -1.0466e-01, -4.1301e-02,  3.0251e-02,  9.9278e-02]],\n",
            "\n",
            "         [[ 8.2586e-02,  1.3663e-01,  9.6089e-02,  7.6542e-02,  2.4158e-02],\n",
            "          [-2.4412e-03, -2.8338e-02, -2.9858e-02,  1.0082e-01,  2.0185e-02],\n",
            "          [-1.6709e-01, -9.4239e-02, -3.4646e-02, -1.1051e-01, -7.2912e-03],\n",
            "          [ 1.0896e-01,  1.2660e-01, -3.8361e-02, -7.4404e-02,  1.1348e-01],\n",
            "          [ 6.5617e-02,  6.1559e-02, -2.8578e-02, -5.0113e-02, -8.7930e-02]],\n",
            "\n",
            "         [[-3.7548e-02, -3.5588e-02,  1.2967e-01,  1.8632e-01,  2.9716e-02],\n",
            "          [ 5.8111e-03, -5.0670e-02,  3.7123e-02,  1.2944e-01,  1.2684e-01],\n",
            "          [ 6.1512e-02,  3.7235e-02,  8.9254e-02,  3.9273e-03, -1.1630e-01],\n",
            "          [ 1.6738e-01, -2.0673e-02,  6.1284e-03, -1.0141e-01, -1.2016e-01],\n",
            "          [ 1.5582e-01,  1.2497e-01,  2.7682e-02, -5.9594e-02, -7.4283e-02]],\n",
            "\n",
            "         [[-1.7017e-01,  3.4397e-02,  6.7008e-02,  5.9531e-02,  4.9045e-02],\n",
            "          [ 1.4752e-01,  1.9207e-01,  2.0569e-01,  1.4625e-01,  4.6264e-02],\n",
            "          [-2.4614e-02,  7.4162e-02,  1.0473e-02, -1.0405e-01, -2.5013e-01],\n",
            "          [-1.6429e-01, -2.2255e-01, -2.2467e-01, -2.9369e-01, -2.3621e-01],\n",
            "          [-1.9544e-02, -2.4339e-01, -2.2551e-01, -1.3466e-01, -1.0711e-01]],\n",
            "\n",
            "         [[-1.0970e-01, -1.7819e-01, -6.8004e-03,  1.4587e-02,  4.0590e-02],\n",
            "          [-3.2438e-02, -4.0213e-02, -1.1572e-02,  1.0342e-01,  6.3073e-02],\n",
            "          [ 1.7864e-01,  1.6606e-01,  2.1227e-01,  9.4684e-02, -9.8666e-02],\n",
            "          [ 1.5555e-01, -3.2089e-02,  5.2589e-02, -9.4247e-02, -1.7322e-01],\n",
            "          [ 2.2077e-02, -3.3849e-02,  2.7828e-02, -2.5662e-02, -1.1880e-01]]],\n",
            "\n",
            "\n",
            "        [[[ 7.7013e-02, -6.8305e-03, -1.1735e-01, -1.6667e-01, -1.6043e-01],\n",
            "          [ 1.4504e-02, -4.2990e-02, -1.6118e-01, -7.1922e-02,  1.2095e-01],\n",
            "          [-8.3860e-02, -9.4529e-02,  3.7070e-02,  1.7267e-01,  2.4726e-01],\n",
            "          [ 5.2417e-02,  1.7525e-02,  1.7990e-01,  2.0844e-01,  1.3169e-01],\n",
            "          [ 1.6887e-01,  1.3488e-01,  7.5092e-02, -2.0845e-03, -2.6301e-02]],\n",
            "\n",
            "         [[-6.2714e-02,  6.8770e-02,  8.0559e-02, -1.1788e-02,  5.8873e-02],\n",
            "          [ 1.1524e-01,  1.8816e-01,  1.9602e-01,  1.9199e-01,  1.4023e-01],\n",
            "          [ 1.6635e-01,  2.6845e-01,  2.2463e-01,  1.2017e-01,  7.1540e-02],\n",
            "          [ 1.4071e-01,  1.0485e-01, -4.5092e-02, -7.3137e-02, -1.1596e-01],\n",
            "          [-4.4503e-03, -1.6487e-01, -1.4082e-01, -1.1579e-01, -7.6151e-02]],\n",
            "\n",
            "         [[-1.0058e-02,  1.1971e-01,  3.3926e-02,  8.6381e-02,  3.2697e-02],\n",
            "          [ 5.1331e-03,  3.1848e-02,  1.5234e-01,  1.5982e-01,  1.6230e-01],\n",
            "          [ 9.7187e-02, -2.2440e-02,  9.2475e-04,  1.5775e-02, -1.1552e-01],\n",
            "          [ 4.2713e-02, -2.6846e-02, -7.6037e-02, -1.2595e-01, -7.0390e-02],\n",
            "          [ 1.0116e-01,  7.7296e-02,  4.7822e-02,  1.1044e-01,  1.0430e-01]],\n",
            "\n",
            "         [[-1.7252e-02,  1.3288e-01,  1.8196e-01,  7.5149e-02,  1.3361e-01],\n",
            "          [ 4.3700e-02,  7.9645e-02, -7.1438e-02, -3.6266e-02, -2.3115e-02],\n",
            "          [-3.4206e-02, -1.5486e-01, -1.8435e-01, -1.6467e-01, -1.9874e-02],\n",
            "          [-6.6730e-03, -1.3988e-01, -1.4876e-01, -2.6681e-03,  6.3621e-02],\n",
            "          [-8.1833e-02, -8.5769e-02,  6.3803e-02,  1.1686e-01,  6.2970e-02]],\n",
            "\n",
            "         [[ 8.2646e-02,  1.1519e-01,  1.2504e-01,  1.1514e-01,  1.5248e-02],\n",
            "          [ 8.8404e-02,  2.0071e-01, -3.8720e-02, -1.0490e-01,  7.6195e-03],\n",
            "          [ 9.6314e-02, -1.2052e-01, -9.2537e-02, -7.6332e-03, -7.0230e-02],\n",
            "          [-1.0836e-01, -5.2000e-02, -2.8209e-02, -9.7380e-02, -2.0488e-01],\n",
            "          [-1.2453e-02, -3.0461e-02, -1.2732e-01, -5.4267e-02, -1.4670e-01]],\n",
            "\n",
            "         [[ 5.8284e-02,  6.3034e-03, -7.0842e-02, -1.7110e-01, -1.7296e-01],\n",
            "          [-1.0124e-01, -1.9574e-01, -1.5691e-01, -2.3057e-01, -2.2741e-01],\n",
            "          [-2.3797e-01, -2.2531e-01, -1.3242e-01, -1.7342e-01, -3.9876e-04],\n",
            "          [-2.2267e-02,  8.5261e-03,  9.4210e-02,  5.2031e-03,  9.4532e-02],\n",
            "          [ 9.3555e-02,  1.8794e-01,  1.1610e-01, -4.3402e-02,  7.2952e-02]]],\n",
            "\n",
            "\n",
            "        [[[-7.4264e-02, -6.4383e-03, -1.6528e-01, -3.3216e-02, -4.6593e-02],\n",
            "          [-1.8662e-01, -1.1700e-01, -1.6936e-01,  3.1696e-02,  4.2143e-02],\n",
            "          [-1.0778e-01, -1.8802e-01, -1.1103e-01, -1.9411e-02, -4.1941e-02],\n",
            "          [ 7.1035e-02, -1.6888e-02,  1.7766e-02,  4.5148e-02, -1.2169e-01],\n",
            "          [-2.4808e-02, -6.5117e-03, -3.0065e-02,  8.8755e-02, -1.5818e-02]],\n",
            "\n",
            "         [[ 2.0983e-02,  4.8206e-02,  1.4745e-01,  1.0366e-01,  1.6188e-01],\n",
            "          [ 9.9918e-02,  6.1032e-02,  4.0556e-02,  2.0099e-02,  3.4904e-02],\n",
            "          [ 4.4154e-02,  4.4269e-02, -1.3771e-02,  5.5210e-02,  1.0177e-02],\n",
            "          [-6.2041e-02, -4.5973e-02,  6.4685e-02,  5.7217e-02, -3.2859e-02],\n",
            "          [ 1.1502e-02,  2.7053e-02,  2.0144e-02,  9.3003e-02,  1.9120e-02]],\n",
            "\n",
            "         [[ 9.1830e-02,  5.2272e-02,  3.0681e-02,  7.5988e-02,  1.8417e-02],\n",
            "          [ 5.8563e-02,  2.6950e-02,  6.2958e-02,  3.9270e-02,  4.7256e-02],\n",
            "          [-8.1899e-02,  6.1526e-02,  4.5381e-02, -8.4132e-02, -4.3248e-02],\n",
            "          [-4.8774e-02,  1.7381e-02, -1.4129e-01, -1.4450e-01, -1.6610e-01],\n",
            "          [ 6.5507e-02, -1.0175e-01, -3.8517e-02, -8.7221e-02,  4.1729e-03]],\n",
            "\n",
            "         [[-4.9141e-04, -1.3024e-01, -1.4009e-01, -1.4973e-01, -1.1780e-01],\n",
            "          [-1.3678e-01, -1.5882e-01, -1.4488e-01, -9.0657e-02, -1.1704e-01],\n",
            "          [-1.1816e-01, -1.4428e-01, -1.5309e-01, -3.7706e-02,  5.4253e-02],\n",
            "          [-1.1874e-01, -1.0134e-01, -1.0959e-01,  7.6632e-02, -5.3541e-02],\n",
            "          [-1.1104e-01,  6.4291e-03, -7.2933e-02,  3.2268e-02, -2.2642e-02]],\n",
            "\n",
            "         [[ 9.9537e-02,  2.7950e-02,  1.0128e-01,  4.2607e-02, -8.2448e-02],\n",
            "          [-5.8893e-02, -5.2586e-02,  5.4035e-02, -1.3175e-02,  1.6821e-01],\n",
            "          [-2.0000e-01, -1.1165e-01,  2.9256e-02,  1.2010e-01,  1.8492e-01],\n",
            "          [-1.1679e-01, -5.2640e-02, -6.5565e-02,  9.3516e-02,  1.8286e-01],\n",
            "          [-5.7993e-02, -5.4128e-02,  7.5655e-02,  2.1105e-01,  6.5363e-02]],\n",
            "\n",
            "         [[-1.5104e-01, -1.8187e-01, -1.1140e-01, -1.2558e-01, -1.3090e-01],\n",
            "          [-3.4948e-02, -8.1678e-02, -6.7416e-02, -3.2349e-02, -6.4486e-02],\n",
            "          [-1.9474e-01, -1.9519e-01,  2.8165e-02,  7.9338e-02, -1.0654e-02],\n",
            "          [-2.0723e-01,  4.1625e-02,  1.3850e-01,  1.9346e-01, -7.4980e-02],\n",
            "          [-3.7834e-02,  3.3484e-02,  1.8522e-01,  1.0379e-02, -1.6968e-02]]],\n",
            "\n",
            "\n",
            "        ...,\n",
            "\n",
            "\n",
            "        [[[ 1.3846e-02,  1.6608e-02,  9.5277e-02,  8.5269e-03, -2.0112e-02],\n",
            "          [-1.3242e-01, -3.4285e-02,  5.6678e-02, -9.9792e-03, -2.5254e-02],\n",
            "          [-1.0856e-01, -2.2273e-01, -1.4557e-01, -1.0386e-01, -5.5567e-02],\n",
            "          [ 1.3003e-01, -6.0779e-02, -1.2647e-01, -1.6802e-01, -5.9988e-02],\n",
            "          [ 2.1858e-01,  1.9702e-01,  1.3624e-01, -1.7637e-01, -2.0726e-01]],\n",
            "\n",
            "         [[ 3.4166e-02, -3.7424e-02,  5.7441e-02,  4.8913e-02,  1.7815e-01],\n",
            "          [ 7.5181e-02, -5.8527e-02,  8.8682e-02,  1.1522e-01,  7.1101e-02],\n",
            "          [ 1.4196e-01, -8.1623e-02, -8.4643e-02, -1.1532e-02,  7.2359e-02],\n",
            "          [ 1.5440e-01,  7.4306e-02, -9.8639e-03,  8.0783e-03,  9.2049e-02],\n",
            "          [ 1.9905e-01,  1.5458e-01,  9.6394e-02,  4.1845e-02, -8.2941e-02]],\n",
            "\n",
            "         [[ 1.5354e-02, -1.4076e-01, -1.0485e-01, -7.7979e-02,  8.3178e-02],\n",
            "          [ 4.7170e-02,  6.3057e-03, -5.8902e-02, -1.3461e-01,  3.7503e-02],\n",
            "          [ 5.4497e-02, -1.7220e-02, -4.5496e-02,  2.8162e-03, -7.0994e-02],\n",
            "          [-7.8792e-02, -1.5356e-02, -5.1421e-02, -3.0400e-02, -8.9081e-03],\n",
            "          [ 1.3458e-02, -1.0801e-01, -1.5032e-01, -8.5538e-02,  3.5139e-02]],\n",
            "\n",
            "         [[-2.1694e-02, -7.7831e-03, -2.3084e-01, -1.6002e-01,  2.4661e-02],\n",
            "          [-2.1645e-02, -9.4493e-02, -1.2178e-01, -1.2763e-01, -9.7930e-02],\n",
            "          [ 9.1032e-02, -6.2511e-02, -8.8772e-02, -6.2984e-02, -8.1567e-02],\n",
            "          [ 4.2708e-02,  2.0187e-02,  1.4803e-02, -7.9676e-02, -1.5855e-02],\n",
            "          [-3.3661e-02,  1.7831e-01,  1.0262e-01, -5.1616e-02,  7.5162e-02]],\n",
            "\n",
            "         [[-1.7720e-01, -1.1035e-01, -7.2089e-02, -5.1329e-02,  2.7416e-02],\n",
            "          [-1.0880e-01, -5.6245e-02, -8.7768e-02,  6.0901e-02,  8.0056e-02],\n",
            "          [ 6.9998e-02, -1.1755e-01, -2.1602e-01, -2.1163e-01,  3.0358e-02],\n",
            "          [-1.1792e-02, -2.5189e-02, -8.8927e-03, -3.0527e-02, -5.2822e-02],\n",
            "          [ 1.5324e-01,  7.5154e-02,  1.8084e-01,  5.0409e-03, -4.2754e-02]],\n",
            "\n",
            "         [[ 1.0310e-01,  1.1941e-01,  5.9864e-02,  3.9276e-02,  5.2192e-02],\n",
            "          [ 1.3881e-01,  1.0018e-01,  2.3149e-01,  4.4429e-02, -5.9687e-02],\n",
            "          [-1.0696e-01, -5.4411e-02, -1.9828e-02, -6.9124e-02,  4.1278e-02],\n",
            "          [-1.1913e-01, -7.6838e-02, -1.0929e-01, -1.2194e-01,  4.8142e-02],\n",
            "          [ 1.3811e-01,  1.2659e-01,  1.2400e-01,  2.8642e-02,  4.2668e-02]]],\n",
            "\n",
            "\n",
            "        [[[-7.2622e-03, -7.5315e-02, -5.0466e-02,  9.9428e-02,  3.7441e-03],\n",
            "          [-8.5582e-02,  7.2396e-02, -7.6421e-03,  1.3039e-02, -9.4777e-02],\n",
            "          [ 8.1192e-02,  1.2839e-01,  5.9097e-02,  7.6903e-02,  2.2956e-01],\n",
            "          [ 2.3580e-01,  2.1301e-01,  1.6864e-01,  1.2024e-01,  2.1051e-01],\n",
            "          [ 1.1793e-01,  9.7368e-02,  1.1302e-01,  3.4913e-02,  9.6110e-02]],\n",
            "\n",
            "         [[ 2.6736e-02, -1.7281e-02, -2.6062e-02, -1.2509e-02, -4.0896e-02],\n",
            "          [ 1.5779e-02,  6.2835e-02, -7.5001e-02, -8.6017e-02, -7.5586e-02],\n",
            "          [ 1.0590e-01,  9.5974e-02,  1.9139e-02, -1.5079e-02, -9.1108e-02],\n",
            "          [ 2.0749e-02,  8.3316e-03, -2.3255e-02, -2.0988e-01, -1.7198e-01],\n",
            "          [-8.9972e-02, -3.4294e-02, -3.6815e-02, -1.7255e-01, -1.7279e-01]],\n",
            "\n",
            "         [[ 8.2085e-02,  2.1629e-04,  1.0195e-01,  1.8993e-02, -1.5352e-02],\n",
            "          [ 1.3094e-01, -4.0736e-02,  6.8472e-02,  7.4704e-02, -5.8109e-02],\n",
            "          [ 6.7543e-02,  2.2834e-02, -2.9838e-02,  7.0289e-03, -1.2144e-01],\n",
            "          [ 1.0682e-01,  7.8746e-02, -5.2766e-02, -1.1073e-01, -8.5764e-02],\n",
            "          [ 9.5378e-03,  3.1253e-02, -3.3801e-02,  4.0649e-02,  4.9943e-02]],\n",
            "\n",
            "         [[ 7.5528e-03, -2.4441e-02, -4.8329e-02,  6.9721e-02,  7.1590e-02],\n",
            "          [ 2.4501e-02,  1.1872e-01,  5.4076e-02,  2.9648e-02,  8.0175e-02],\n",
            "          [-2.8784e-02,  3.3847e-02,  1.3136e-01,  2.0412e-02,  1.2343e-01],\n",
            "          [ 2.7753e-03,  4.4492e-02,  8.5514e-02, -4.5931e-02,  7.8856e-02],\n",
            "          [ 1.1373e-02,  8.9399e-02, -5.0809e-02,  1.3105e-02,  4.1821e-02]],\n",
            "\n",
            "         [[ 5.5909e-02,  2.5082e-02, -3.6318e-02, -8.3700e-02, -9.6728e-02],\n",
            "          [-2.8852e-02, -6.8509e-02, -2.1652e-01, -3.0525e-01, -1.9426e-01],\n",
            "          [-9.4477e-02, -3.5741e-02,  3.3190e-02, -9.3095e-02, -1.5762e-01],\n",
            "          [ 1.8726e-02,  1.5621e-01,  8.5416e-02,  5.5599e-02,  1.1525e-01],\n",
            "          [ 1.2032e-01,  2.2391e-02,  1.9722e-01,  2.2386e-01,  2.6987e-01]],\n",
            "\n",
            "         [[-5.7803e-03, -7.8281e-02, -6.1681e-02,  6.8975e-02,  7.6005e-02],\n",
            "          [-8.9901e-02, -1.7766e-01, -1.1827e-01, -5.1378e-03,  3.7102e-02],\n",
            "          [-1.7108e-01, -2.2613e-01, -1.1365e-01, -9.5268e-02, -5.5985e-02],\n",
            "          [-2.3269e-02, -7.2388e-02, -1.6990e-01, -1.1054e-01,  8.6071e-02],\n",
            "          [-1.4148e-01, -1.7198e-01, -6.2065e-02, -8.8338e-02, -1.8701e-02]]],\n",
            "\n",
            "\n",
            "        [[[-5.3636e-02, -6.3098e-02, -6.8045e-02, -7.1074e-02, -5.3688e-02],\n",
            "          [ 4.6149e-02, -4.1665e-02, -1.0913e-01, -1.2230e-01, -2.1714e-01],\n",
            "          [-7.5584e-02, -2.8566e-02, -1.3369e-01, -1.0926e-01, -1.4226e-01],\n",
            "          [-9.7322e-02, -1.5508e-01,  4.5548e-02,  3.1858e-02, -1.1182e-02],\n",
            "          [-8.5656e-02, -7.5204e-02,  3.6758e-02,  2.8927e-02,  4.2469e-02]],\n",
            "\n",
            "         [[ 5.3025e-02,  7.3974e-02,  1.4330e-01,  1.8234e-01,  1.5571e-01],\n",
            "          [ 7.1620e-02, -3.2640e-02,  1.9427e-02,  2.9517e-02,  1.6963e-01],\n",
            "          [ 4.9570e-02, -6.1706e-04, -3.8648e-02, -6.2990e-02,  1.1125e-01],\n",
            "          [-5.9203e-02, -7.2416e-02, -1.2777e-01, -1.3186e-01, -1.7189e-03],\n",
            "          [ 8.7003e-04, -4.4253e-02, -9.7657e-02,  1.4248e-02, -1.0038e-01]],\n",
            "\n",
            "         [[ 1.1661e-01,  1.1856e-01,  2.0908e-01,  1.3377e-01,  6.3229e-02],\n",
            "          [ 5.5726e-02,  1.1357e-01,  6.7698e-02,  1.9098e-01,  7.6365e-02],\n",
            "          [ 2.2815e-02,  5.3640e-02, -3.5240e-02,  1.1172e-01,  2.1944e-02],\n",
            "          [-1.0100e-01, -1.1552e-01, -5.8887e-02,  6.5137e-02, -1.0754e-01],\n",
            "          [ 8.9315e-02, -7.9240e-02, -9.4675e-02,  6.4415e-02, -1.7181e-01]],\n",
            "\n",
            "         [[-1.2862e-01, -1.1364e-01, -4.1118e-02, -7.4761e-02,  5.5378e-02],\n",
            "          [-1.0376e-01, -1.1119e-01, -8.9198e-02, -7.2814e-02, -9.9897e-03],\n",
            "          [-6.2998e-02,  9.4031e-02,  1.7135e-01, -8.6954e-02,  3.2737e-02],\n",
            "          [ 5.1528e-02,  1.5876e-01,  5.5735e-02, -3.8895e-04, -2.1898e-02],\n",
            "          [ 4.1481e-02, -3.3872e-02,  1.3239e-01, -1.9228e-02, -5.3357e-02]],\n",
            "\n",
            "         [[-3.3729e-03, -3.1558e-02, -9.1130e-02,  4.6647e-02,  9.5968e-02],\n",
            "          [-1.0283e-02,  3.1515e-02,  4.7188e-02, -6.8183e-02, -7.9835e-03],\n",
            "          [-3.4441e-02, -5.5392e-02,  4.8877e-02, -8.1376e-02, -1.3593e-01],\n",
            "          [-4.8613e-02, -1.9183e-01, -2.1742e-01, -9.5878e-02, -1.7373e-01],\n",
            "          [-1.5021e-01, -2.7591e-01, -9.3649e-02,  2.3826e-02,  1.6667e-02]],\n",
            "\n",
            "         [[-7.1788e-02, -8.0577e-02, -7.7605e-02, -4.7070e-02, -1.3695e-01],\n",
            "          [-1.3713e-01, -1.8250e-01, -2.8093e-01, -2.8905e-01, -2.1447e-01],\n",
            "          [-8.8907e-02, -6.5228e-02, -1.4642e-01, -1.5969e-01, -1.4890e-01],\n",
            "          [ 1.2943e-01,  1.4907e-01, -5.4521e-02, -9.9328e-02, -3.8172e-02],\n",
            "          [ 8.3339e-02, -5.9136e-02,  3.6737e-03,  1.0812e-01,  1.3137e-01]]]],\n",
            "       device='cuda:0')\n",
            "conv2.bias Parameter containing:\n",
            "tensor([-0.1470, -0.0322,  0.0385,  0.0233, -0.1003, -0.1001,  0.0385, -0.0487,\n",
            "         0.0096,  0.0050, -0.0416,  0.0253,  0.1090, -0.0646,  0.0520,  0.0102],\n",
            "       device='cuda:0')\n",
            "fc1.weight Parameter containing:\n",
            "tensor([[-0.0220, -0.0748, -0.0052,  ...,  0.0223,  0.0521,  0.0869],\n",
            "        [ 0.0552,  0.1434,  0.0488,  ..., -0.0131,  0.0449, -0.0369],\n",
            "        [-0.0611,  0.0382,  0.0629,  ...,  0.0240,  0.0170,  0.0085],\n",
            "        ...,\n",
            "        [ 0.0070, -0.0899,  0.0137,  ...,  0.0655,  0.0077, -0.0948],\n",
            "        [ 0.0209, -0.0058, -0.0740,  ...,  0.0165,  0.0426, -0.0126],\n",
            "        [-0.0078, -0.0008,  0.0241,  ...,  0.0192, -0.0304, -0.0441]],\n",
            "       device='cuda:0')\n",
            "fc1.bias Parameter containing:\n",
            "tensor([-0.0071,  0.0028,  0.0073, -0.0092, -0.0046,  0.0161, -0.0547,  0.0220,\n",
            "         0.0016,  0.0289, -0.0132,  0.0112,  0.0632,  0.0197,  0.0080,  0.0388,\n",
            "        -0.0806, -0.0032,  0.0141, -0.0088, -0.0598,  0.0140,  0.0002,  0.0390,\n",
            "        -0.0270,  0.0186,  0.0953,  0.0295,  0.0375, -0.0030, -0.0338,  0.0332,\n",
            "        -0.0868,  0.0305, -0.0385, -0.0024,  0.0533,  0.0325,  0.0264, -0.0192,\n",
            "        -0.0244, -0.0179,  0.0535, -0.0347, -0.0234,  0.0485, -0.0111,  0.0777,\n",
            "        -0.0301, -0.0418,  0.0289,  0.1070, -0.0047,  0.0351,  0.0533, -0.0225,\n",
            "         0.0220, -0.0594, -0.0015,  0.0225,  0.0366, -0.0198, -0.0305,  0.0205,\n",
            "         0.0005, -0.0405, -0.0303,  0.0529, -0.0468,  0.0701, -0.0328,  0.0474,\n",
            "        -0.0253, -0.0088, -0.0027,  0.0053, -0.0316, -0.0464,  0.0249,  0.0201,\n",
            "         0.0140,  0.0062,  0.0465,  0.0157, -0.0435, -0.0111, -0.0202, -0.0080,\n",
            "         0.0003,  0.0737,  0.0472,  0.0303, -0.0001,  0.0441,  0.0164,  0.0247,\n",
            "         0.0003, -0.0638, -0.0750,  0.0050, -0.0238,  0.0265, -0.0324, -0.0295,\n",
            "         0.0143, -0.0137,  0.0106,  0.0318,  0.0899,  0.0337, -0.0380, -0.0386,\n",
            "        -0.0567,  0.0258, -0.0378, -0.0277,  0.0200,  0.0206,  0.0313,  0.0252],\n",
            "       device='cuda:0')\n",
            "fc2.weight Parameter containing:\n",
            "tensor([[-0.1985,  0.1068, -0.1694,  ..., -0.0610, -0.0261,  0.0447],\n",
            "        [-0.1112, -0.1804,  0.0446,  ..., -0.1192,  0.0719,  0.0358],\n",
            "        [ 0.1176,  0.1751, -0.1586,  ..., -0.2914,  0.1011,  0.1816],\n",
            "        ...,\n",
            "        [ 0.0538, -0.0113, -0.1292,  ..., -0.0792,  0.1857,  0.1163],\n",
            "        [-0.0749, -0.1636,  0.0285,  ..., -0.1613,  0.0014,  0.0539],\n",
            "        [-0.0138,  0.0114, -0.1051,  ...,  0.2079, -0.0006, -0.0752]],\n",
            "       device='cuda:0')\n",
            "fc2.bias Parameter containing:\n",
            "tensor([-0.0886,  0.0043,  0.1126, -0.0682, -0.1353, -0.0254,  0.0263, -0.0185,\n",
            "         0.0912, -0.0126, -0.0588,  0.0573,  0.0183, -0.0003,  0.0654, -0.0756,\n",
            "        -0.0911, -0.0896, -0.0387, -0.1077,  0.0561,  0.1451,  0.0372,  0.0270,\n",
            "         0.0304, -0.0464, -0.0585,  0.0011,  0.0956, -0.0480, -0.0103, -0.0695,\n",
            "        -0.0486,  0.0311, -0.0371,  0.0122,  0.1596,  0.0866, -0.1404, -0.1185,\n",
            "        -0.0469,  0.0703, -0.0893,  0.0241, -0.1255,  0.0682,  0.0456, -0.0466,\n",
            "         0.0470, -0.0406,  0.0694, -0.1188, -0.0407, -0.0744, -0.1014,  0.0716,\n",
            "         0.1049,  0.0797,  0.0106, -0.0715,  0.0580, -0.0057, -0.1192, -0.0371,\n",
            "        -0.0261,  0.1154,  0.0174,  0.0252,  0.0241,  0.0583,  0.0930,  0.0191,\n",
            "        -0.0890, -0.0773,  0.0471, -0.0412, -0.0305, -0.0325, -0.0622, -0.0693,\n",
            "        -0.0398, -0.0523,  0.0532, -0.0357], device='cuda:0')\n",
            "fc3_1.weight Parameter containing:\n",
            "tensor([[-0.3870, -0.2406,  0.3033, -0.0451, -0.3261, -0.2311,  0.2658, -0.1383,\n",
            "          0.0328,  0.3755, -0.3444,  0.4537,  0.3232, -0.1581, -0.2126,  0.2015,\n",
            "          0.0141, -0.3437,  0.1162,  0.2843, -0.2452, -0.0959,  0.3239, -0.0863,\n",
            "          0.2595,  0.2654, -0.2490,  0.4108,  0.0652, -0.4703,  0.2366,  0.2100,\n",
            "          0.3337, -0.1029, -0.1965, -0.1893,  0.3085, -0.1897, -0.3427, -0.2524,\n",
            "         -0.0626,  0.1990,  0.4012, -0.2869,  0.1195, -0.1822,  0.1428,  0.2327,\n",
            "         -0.2579, -0.3765, -0.3035,  0.2511,  0.2754, -0.0052, -0.0904, -0.0845,\n",
            "         -0.3748, -0.1468,  0.3314,  0.2417,  0.1851,  0.3243, -0.1667,  0.1884,\n",
            "          0.1399, -0.4242,  0.2926,  0.2148,  0.2034,  0.1960,  0.2396, -0.3072,\n",
            "          0.1792, -0.3101, -0.2460,  0.1417, -0.1379, -0.0262, -0.2038, -0.3352,\n",
            "         -0.3785,  0.3447, -0.3054,  0.3012],\n",
            "        [-0.3371,  0.0736, -0.1983, -0.3543, -0.1667,  0.4218,  0.1919,  0.2068,\n",
            "         -0.2528,  0.2336,  0.0386,  0.1405, -0.2150,  0.2598,  0.2870, -0.2449,\n",
            "         -0.2506,  0.1256, -0.3038, -0.1508,  0.1825,  0.3829,  0.2957, -0.4036,\n",
            "         -0.2751,  0.0307,  0.3111, -0.1666,  0.3344, -0.2451, -0.3379, -0.1057,\n",
            "          0.1653,  0.3312,  0.2136,  0.2645,  0.2507,  0.2804, -0.0845, -0.2780,\n",
            "         -0.4256,  0.3207,  0.2410,  0.2779, -0.3523,  0.3425,  0.2379, -0.1986,\n",
            "          0.1237,  0.1590,  0.3467, -0.2777, -0.2824, -0.1719,  0.4462,  0.5096,\n",
            "          0.0809,  0.3426, -0.3267, -0.0977, -0.3273, -0.2986, -0.3722, -0.1656,\n",
            "         -0.0480,  0.1662, -0.1703, -0.3920, -0.1844, -0.1989,  0.0882, -0.1459,\n",
            "         -0.2571,  0.1115,  0.1770, -0.2028,  0.2274,  0.1274,  0.3124, -0.3902,\n",
            "         -0.2207,  0.0072, -0.3192,  0.1554],\n",
            "        [-0.0039,  0.0261, -0.0404,  0.0381,  0.3563,  0.0795, -0.2078,  0.2051,\n",
            "          0.3197, -0.1794,  0.3124,  0.4577, -0.0224,  0.1971,  0.1779, -0.3881,\n",
            "          0.2519, -0.4676,  0.3045, -0.2401,  0.2309, -0.1983, -0.3341, -0.4024,\n",
            "          0.0083, -0.2074,  0.2776, -0.1567,  0.1780, -0.0531,  0.1346,  0.2724,\n",
            "         -0.2078, -0.2604, -0.0428, -0.5342, -0.2710,  0.0629,  0.2727,  0.2784,\n",
            "          0.2279, -0.0462,  0.3072, -0.4860, -0.2567,  0.5575,  0.1591, -0.2864,\n",
            "          0.2958,  0.2883,  0.2235,  0.4573, -0.0340,  0.3350, -0.3731, -0.0881,\n",
            "         -0.2565, -0.5804,  0.2875, -0.2582,  0.1599, -0.2604, -0.3400, -0.2538,\n",
            "          0.2197,  0.1958,  0.0588,  0.0859,  0.0375, -0.1035,  0.0120,  0.4336,\n",
            "         -0.1217,  0.2890, -0.0837, -0.0894, -0.3878, -0.2552, -0.5880, -0.3311,\n",
            "          0.3337, -0.2643, -0.2458,  0.2969],\n",
            "        [ 0.3289,  0.1764, -0.1342,  0.2939, -0.3353, -0.1146, -0.0174, -0.1873,\n",
            "         -0.1652, -0.1031,  0.1494, -0.2812, -0.2367,  0.1805,  0.1452, -0.3090,\n",
            "          0.2966,  0.1506, -0.0565,  0.2705,  0.0809,  0.2875, -0.1194,  0.2541,\n",
            "          0.3217, -0.1673, -0.1939,  0.3350, -0.0322,  0.2402,  0.1900, -0.2849,\n",
            "         -0.2998,  0.1531, -0.2743,  0.3061, -0.2646,  0.3148,  0.2244,  0.2848,\n",
            "         -0.2872, -0.3389,  0.3040,  0.1142, -0.3242, -0.2950,  0.0712,  0.3948,\n",
            "         -0.3627,  0.0758, -0.2035, -0.1312,  0.2090,  0.3308,  0.2939, -0.2183,\n",
            "         -0.2401,  0.2330,  0.1594, -0.1814, -0.0264,  0.1185,  0.2583,  0.1485,\n",
            "          0.0513, -0.0143,  0.0634,  0.1589,  0.1425, -0.3196,  0.1866, -0.1706,\n",
            "         -0.2770,  0.1328,  0.2658, -0.0215,  0.3698, -0.2871,  0.2614,  0.1096,\n",
            "          0.1264, -0.1720,  0.0905,  0.3274],\n",
            "        [ 0.0508,  0.2884,  0.3203, -0.2300, -0.1604, -0.1910,  0.0996, -0.0861,\n",
            "          0.3189, -0.3411, -0.2227, -0.0400, -0.2253, -0.3375, -0.2914,  0.2917,\n",
            "         -0.0051,  0.1965, -0.3083,  0.3900, -0.2238,  0.4235, -0.1302,  0.0666,\n",
            "         -0.4066, -0.2973, -0.3080, -0.0382, -0.2843,  0.2215,  0.1679, -0.4464,\n",
            "         -0.3035, -0.2170,  0.0940,  0.1306,  0.1306, -0.2809, -0.2058, -0.1754,\n",
            "         -0.3837,  0.2201, -0.1931,  0.2427,  0.0264, -0.0215, -0.3275, -0.2771,\n",
            "         -0.3327,  0.3310,  0.2182, -0.2485,  0.1373, -0.0468, -0.1499,  0.4983,\n",
            "          0.2104,  0.2788, -0.3232,  0.3871,  0.2474,  0.3191,  0.1856,  0.2040,\n",
            "          0.3318,  0.1540,  0.3613,  0.1279,  0.0458,  0.2732, -0.3276,  0.1859,\n",
            "          0.2465, -0.4535,  0.2277,  0.4056, -0.2056,  0.2765,  0.3489,  0.1483,\n",
            "          0.2001, -0.2499,  0.3050, -0.1612],\n",
            "        [ 0.3153, -0.3682, -0.3304,  0.3218,  0.3477,  0.4323,  0.2636, -0.3199,\n",
            "          0.2486, -0.1147, -0.0631, -0.3640, -0.2713, -0.2895, -0.0620,  0.1498,\n",
            "         -0.1757,  0.3047, -0.2414, -0.1441, -0.3465, -0.2054,  0.2115,  0.0560,\n",
            "          0.2617,  0.2549, -0.2807, -0.0499,  0.2953,  0.2639,  0.0576,  0.0667,\n",
            "          0.2419, -0.0626,  0.1830, -0.2382, -0.2265, -0.2371,  0.3296, -0.0823,\n",
            "          0.2451,  0.1160, -0.3479, -0.1930, -0.2970,  0.1290, -0.3342,  0.2493,\n",
            "          0.2096, -0.3007,  0.3093,  0.2980, -0.3174, -0.1142, -0.0750, -0.1415,\n",
            "          0.3698,  0.0686, -0.2983,  0.2526,  0.1095, -0.3080, -0.2900, -0.2295,\n",
            "         -0.3474, -0.2887,  0.2363,  0.1122, -0.3751,  0.2248, -0.4439,  0.3978,\n",
            "          0.0389, -0.2635, -0.2246,  0.2653, -0.0938,  0.1863, -0.3514,  0.0183,\n",
            "          0.1500, -0.2967, -0.4069,  0.1416],\n",
            "        [-0.1309,  0.2156, -0.2549,  0.2281,  0.3795, -0.2056, -0.3323,  0.3852,\n",
            "         -0.3161,  0.3537, -0.0782, -0.1058,  0.0822, -0.0406, -0.1300,  0.2711,\n",
            "          0.1971,  0.2959,  0.3557, -0.0101,  0.3013, -0.3935, -0.0506,  0.2540,\n",
            "          0.0111,  0.4325,  0.2204, -0.1530, -0.2598,  0.2249,  0.2454,  0.2077,\n",
            "          0.4167, -0.1712,  0.3158,  0.0772, -0.1818, -0.1142,  0.2141, -0.1470,\n",
            "          0.2676,  0.1853, -0.2926,  0.1952,  0.3998, -0.3275,  0.1052, -0.2665,\n",
            "          0.4162,  0.1810, -0.3447, -0.1586, -0.0784, -0.1639, -0.0383, -0.1489,\n",
            "          0.1996,  0.0847, -0.2117, -0.1383,  0.0815, -0.3081,  0.3282,  0.3244,\n",
            "          0.2171,  0.1473, -0.2728,  0.1767,  0.0624, -0.1886,  0.2570, -0.3331,\n",
            "          0.3271,  0.1734, -0.3839, -0.3082, -0.0555,  0.3047,  0.2575,  0.2472,\n",
            "         -0.0465,  0.1404,  0.1368, -0.3310],\n",
            "        [ 0.2257,  0.1704,  0.3886, -0.4461, -0.3021, -0.0709,  0.2671, -0.2807,\n",
            "         -0.0390, -0.2004,  0.3236, -0.2562,  0.3134,  0.0085, -0.2451,  0.1977,\n",
            "         -0.4566, -0.3197, -0.1243, -0.2302,  0.1320, -0.0872, -0.1945,  0.2008,\n",
            "          0.0826, -0.3366,  0.2351, -0.3113, -0.2430, -0.1564, -0.3941,  0.2409,\n",
            "         -0.2452,  0.2234, -0.2387, -0.2222,  0.4347,  0.0570, -0.2670,  0.2127,\n",
            "          0.2584, -0.3226, -0.1610,  0.1507,  0.3824,  0.1750,  0.0634, -0.2614,\n",
            "          0.0442, -0.2340, -0.1843, -0.2719,  0.2668, -0.2116, -0.1536, -0.2124,\n",
            "          0.3129, -0.2750,  0.3267, -0.1416, -0.4107,  0.2901,  0.0473, -0.2051,\n",
            "         -0.4206,  0.2063, -0.1401, -0.4972,  0.1212,  0.2288,  0.1231, -0.1495,\n",
            "         -0.3076,  0.1590,  0.3037,  0.2720, -0.0462, -0.1940,  0.0235,  0.2606,\n",
            "         -0.1953,  0.3770,  0.3124, -0.3597]], device='cuda:0')\n",
            "fc3_1.bias Parameter containing:\n",
            "tensor([ 0.1084, -0.0139,  0.1092,  0.0432, -0.0037, -0.0205, -0.0443,  0.1289],\n",
            "       device='cuda:0')\n",
            "fc3_2.weight Parameter containing:\n",
            "tensor([[-1.6467e-01, -6.1676e-02,  1.6702e-01, -7.7554e-02,  2.1641e-01,\n",
            "          1.6037e-01, -1.2071e-01,  2.0625e-01, -1.8899e-01, -1.8981e-01,\n",
            "         -8.2381e-02,  3.0173e-01,  8.6155e-02, -1.1746e-01,  1.7141e-02,\n",
            "         -9.8187e-02,  1.7121e-01,  2.5129e-02,  1.6569e-01,  2.4930e-01,\n",
            "         -2.1040e-01,  1.4153e-01,  5.8062e-02, -2.6916e-01, -1.7023e-01,\n",
            "         -2.3046e-01,  1.2813e-02,  1.5960e-01,  1.0539e-01, -1.3631e-01,\n",
            "         -1.0222e-01, -4.0623e-01, -6.8449e-03,  2.7558e-01, -6.8336e-02,\n",
            "         -9.9302e-02, -2.9643e-02, -2.5546e-01,  2.0629e-01,  1.5422e-01,\n",
            "          1.5554e-01, -2.5802e-01, -9.4859e-02, -1.6561e-01,  1.6841e-01,\n",
            "          3.4947e-01, -2.7743e-01,  1.1976e-01, -5.6993e-02, -2.4839e-01,\n",
            "         -5.7454e-02,  1.4556e-01, -1.7743e-01,  1.8320e-01,  2.3261e-01,\n",
            "          3.3416e-01, -1.6236e-01, -2.0229e-01, -3.4057e-02,  2.0346e-01,\n",
            "         -4.7927e-01,  1.1530e-01, -3.5404e-02, -5.6088e-02, -1.0248e-01,\n",
            "         -1.7961e-01, -1.7619e-02, -1.7114e-01, -2.7176e-01,  1.8011e-01,\n",
            "         -1.8332e-01,  1.5520e-01, -4.8636e-02, -1.2570e-01,  8.7963e-02,\n",
            "          1.7894e-01,  3.3829e-01,  1.5453e-01,  4.4915e-02, -1.8634e-02,\n",
            "         -1.1031e-01,  1.9282e-01,  2.0975e-01, -2.1255e-02],\n",
            "        [-2.3451e-01, -2.3217e-01,  1.5218e-01, -6.1647e-02,  2.5216e-01,\n",
            "          2.3881e-01, -2.0169e-01,  1.5156e-01, -1.3618e-01, -1.2951e-01,\n",
            "         -1.4655e-01,  3.9449e-01,  2.2070e-01, -2.0406e-01, -1.0022e-02,\n",
            "         -8.9495e-02,  1.6885e-01,  4.8871e-02,  2.1484e-01,  2.6069e-01,\n",
            "         -1.8262e-01,  8.8386e-02, -1.6170e-02, -1.1715e-01, -9.8925e-02,\n",
            "         -2.6095e-01,  6.0999e-03,  1.3174e-01,  1.2632e-01,  2.6836e-02,\n",
            "         -2.1574e-01, -6.0911e-01, -1.8383e-02,  2.5072e-01,  5.4390e-02,\n",
            "          8.0357e-02,  8.8198e-02, -1.8082e-01,  1.3293e-01,  1.0907e-01,\n",
            "          1.6201e-01, -2.6809e-01, -7.4869e-02, -6.1303e-02,  2.0524e-02,\n",
            "          3.0336e-01, -2.6365e-01,  3.0718e-02, -2.3040e-02, -2.2166e-01,\n",
            "         -8.8572e-02,  1.5600e-01, -2.5135e-02,  2.5094e-01,  2.1145e-01,\n",
            "          3.4530e-01, -8.9959e-02, -1.3928e-01,  4.5208e-02,  1.1452e-01,\n",
            "         -4.1779e-01,  8.8416e-02,  3.5734e-02, -1.6183e-01, -2.0920e-01,\n",
            "         -2.4594e-01, -1.3886e-01, -1.0492e-01, -2.1814e-01,  7.3413e-02,\n",
            "         -2.4969e-01,  1.1032e-01, -8.4800e-05, -1.6093e-01,  1.2135e-01,\n",
            "          2.2107e-01,  2.0510e-01,  2.7179e-02,  4.7069e-02,  6.9420e-02,\n",
            "         -1.4562e-01,  1.8533e-01,  1.1387e-01,  1.7104e-02]], device='cuda:0',\n",
            "       requires_grad=True)\n",
            "fc3_2.bias Parameter containing:\n",
            "tensor([-0.1475, -0.0610], device='cuda:0', requires_grad=True)\n"
          ],
          "name": "stdout"
        }
      ]
    },
    {
      "cell_type": "code",
      "metadata": {
        "id": "xXG94RrE8ym7",
        "colab": {
          "base_uri": "https://localhost:8080/"
        },
        "outputId": "0a790a4b-1c50-413f-a14c-21e94215b26c"
      },
      "source": [
        "batch_size = 100\n",
        "test_accuracy_history = []\n",
        "last_test_accuracy_history = []\n",
        "test_loss_history = []\n",
        "\n",
        "four_seven_test = four_seven_test.to(device)\n",
        "four_seven_y_test = four_seven_y_test.to(device)\n",
        "\n",
        "for epoch in range(40):\n",
        "  order = np.random.permutation(len(four_seven_train))\n",
        "  for start_index in range(0,len(four_seven_train), batch_size):\n",
        "    optimizer.zero_grad()\n",
        "\n",
        "    batch_indexes = order[start_index:start_index+batch_size]\n",
        "\n",
        "    X_batch = four_seven_train[batch_indexes].to(device)\n",
        "    y_batch = four_seven_y_train[batch_indexes].to(device)\n",
        "\n",
        "    preds = yann_lecun.forward(X_batch)\n",
        "\n",
        "    loss_value = loss(preds,y_batch)\n",
        "    loss_value.backward()\n",
        "\n",
        "    optimizer.step()\n",
        "  \n",
        "  test_preds = yann_lecun.forward(four_seven_test)\n",
        "  test_loss_history.append(loss(test_preds, four_seven_y_test).data.cpu())\n",
        "  last_test_preds = yann_lecun.forward(new_X_test)\n",
        "  accuracy = (test_preds.argmax(dim = 1) == four_seven_y_test).float().mean().data.cpu()\n",
        "  last_accuracy = (last_test_preds.argmax(dim = 1) == new_y_test).float().mean().data.cpu()\n",
        "  last_test_accuracy_history.append(last_accuracy)\n",
        "  test_accuracy_history.append(accuracy)\n",
        "\n",
        "  print(accuracy)"
      ],
      "execution_count": null,
      "outputs": [
        {
          "output_type": "stream",
          "text": [
            "tensor(0.)\n",
            "tensor(0.0065)\n",
            "tensor(0.0950)\n",
            "tensor(0.1920)\n",
            "tensor(0.4144)\n",
            "tensor(0.6483)\n",
            "tensor(0.7249)\n",
            "tensor(0.7776)\n",
            "tensor(0.8050)\n",
            "tensor(0.8224)\n",
            "tensor(0.8373)\n",
            "tensor(0.8502)\n",
            "tensor(0.8657)\n",
            "tensor(0.8761)\n",
            "tensor(0.8831)\n",
            "tensor(0.8896)\n",
            "tensor(0.8980)\n",
            "tensor(0.9035)\n",
            "tensor(0.9095)\n",
            "tensor(0.9169)\n",
            "tensor(0.9184)\n",
            "tensor(0.9204)\n",
            "tensor(0.9244)\n",
            "tensor(0.9284)\n",
            "tensor(0.9323)\n",
            "tensor(0.9368)\n",
            "tensor(0.9398)\n",
            "tensor(0.9428)\n",
            "tensor(0.9458)\n",
            "tensor(0.9468)\n",
            "tensor(0.9478)\n",
            "tensor(0.9478)\n",
            "tensor(0.9488)\n",
            "tensor(0.9527)\n",
            "tensor(0.9537)\n",
            "tensor(0.9562)\n",
            "tensor(0.9577)\n",
            "tensor(0.9597)\n",
            "tensor(0.9602)\n",
            "tensor(0.9607)\n"
          ],
          "name": "stdout"
        }
      ]
    },
    {
      "cell_type": "code",
      "metadata": {
        "colab": {
          "base_uri": "https://localhost:8080/"
        },
        "id": "ycIqN5i-c_xb",
        "outputId": "3d9ede69-2f06-475b-9fb6-16893b46f810"
      },
      "source": [
        "print(\"test_accuracy history = \", test_accuracy_history)\n",
        "print(\"last_test_accuracy_history = \", last_test_accuracy_history)"
      ],
      "execution_count": null,
      "outputs": [
        {
          "output_type": "stream",
          "text": [
            "test_accuracy history =  [tensor(0.), tensor(0.0065), tensor(0.0950), tensor(0.1920), tensor(0.4144), tensor(0.6483), tensor(0.7249), tensor(0.7776), tensor(0.8050), tensor(0.8224), tensor(0.8373), tensor(0.8502), tensor(0.8657), tensor(0.8761), tensor(0.8831), tensor(0.8896), tensor(0.8980), tensor(0.9035), tensor(0.9095), tensor(0.9169), tensor(0.9184), tensor(0.9204), tensor(0.9244), tensor(0.9284), tensor(0.9323), tensor(0.9368), tensor(0.9398), tensor(0.9428), tensor(0.9458), tensor(0.9468), tensor(0.9478), tensor(0.9478), tensor(0.9488), tensor(0.9527), tensor(0.9537), tensor(0.9562), tensor(0.9577), tensor(0.9597), tensor(0.9602), tensor(0.9607)]\n",
            "last_test_accuracy_history =  [tensor(0.9921), tensor(0.9921), tensor(0.9921), tensor(0.9921), tensor(0.9885), tensor(0.9688), tensor(0.9466), tensor(0.9328), tensor(0.9196), tensor(0.9069), tensor(0.8929), tensor(0.8829), tensor(0.8750), tensor(0.8706), tensor(0.8688), tensor(0.8680), tensor(0.8671), tensor(0.8662), tensor(0.8662), tensor(0.8656), tensor(0.8652), tensor(0.8650), tensor(0.8647), tensor(0.8645), tensor(0.8641), tensor(0.8638), tensor(0.8633), tensor(0.8632), tensor(0.8627), tensor(0.8621), tensor(0.8620), tensor(0.8617), tensor(0.8616), tensor(0.8613), tensor(0.8605), tensor(0.8601), tensor(0.8591), tensor(0.8582), tensor(0.8573), tensor(0.8568)]\n"
          ],
          "name": "stdout"
        }
      ]
    },
    {
      "cell_type": "code",
      "metadata": {
        "id": "xCZS7hV19rEG",
        "colab": {
          "base_uri": "https://localhost:8080/",
          "height": 612
        },
        "outputId": "4eecbbb7-78b7-4247-973f-a6e1df6ca161"
      },
      "source": [
        "test_preds = yann_lecun.forward(new_X_test)\n",
        "for i in range(10):\n",
        "  print(test_preds[i])\n",
        "  print(new_y_test[i])\n",
        "accuracy = (test_preds.argmax(dim = 1) == new_y_test).float().mean().data.cpu()\n",
        "\n",
        "print(accuracy)"
      ],
      "execution_count": null,
      "outputs": [
        {
          "output_type": "stream",
          "text": [
            "tensor([  0.6778,   0.4600,  15.3988,  -2.1834,   2.4850, -12.3586,   2.3632,\n",
            "          1.1959,   2.6991,  -7.3265], device='cuda:0',\n",
            "       grad_fn=<SelectBackward>)\n",
            "tensor(2, device='cuda:0')\n",
            "tensor([-4.5309, 16.7141, -2.3377, -1.8453,  4.1795, -5.3354, -1.5560, -1.0429,\n",
            "         1.0841, -0.3369], device='cuda:0', grad_fn=<SelectBackward>)\n",
            "tensor(1, device='cuda:0')\n",
            "tensor([16.2399, -8.4675, -1.6981, -3.5198, -4.5878, -0.9570,  1.8945, -2.3779,\n",
            "        -0.9971,  0.9821], device='cuda:0', grad_fn=<SelectBackward>)\n",
            "tensor(0, device='cuda:0')\n",
            "tensor([-3.5548e+00,  1.5599e+01, -2.8259e+00, -3.3841e+00,  4.8508e+00,\n",
            "        -5.5866e+00, -1.4110e+00, -2.1488e+00,  2.6261e+00,  1.4564e-02],\n",
            "       device='cuda:0', grad_fn=<SelectBackward>)\n",
            "tensor(1, device='cuda:0')\n",
            "tensor([-2.9536, -0.6290,  1.6027, -1.1013, 23.8117, -3.9810, -6.9815, 23.6353,\n",
            "        -1.4128, 15.9797], device='cuda:0', grad_fn=<SelectBackward>)\n",
            "tensor(9, device='cuda:0')\n",
            "tensor([-2.5254, -6.7539, -4.9700, -3.7293, -1.1877, 12.2148,  3.1451, -3.0949,\n",
            "         2.8453,  2.2210], device='cuda:0', grad_fn=<SelectBackward>)\n",
            "tensor(5, device='cuda:0')\n",
            "tensor([-2.6179, -5.0497, -0.9209, -0.5973, 22.7894, -1.6267, -6.3023, 23.3129,\n",
            "         0.6668, 17.1154], device='cuda:0', grad_fn=<SelectBackward>)\n",
            "tensor(9, device='cuda:0')\n",
            "tensor([ 1.8234e+01, -7.5825e+00, -1.1117e-02, -4.8114e+00, -7.0173e+00,\n",
            "        -1.2506e+00,  9.6701e-01, -2.9688e+00, -1.1824e+00, -2.9075e-01],\n",
            "       device='cuda:0', grad_fn=<SelectBackward>)\n",
            "tensor(0, device='cuda:0')\n",
            "tensor([  2.9348,  -4.3201,  -0.9208,  -6.5577,  -0.8923,   0.5915,  16.9523,\n",
            "        -20.1271,   0.8806,  -5.1194], device='cuda:0',\n",
            "       grad_fn=<SelectBackward>)\n",
            "tensor(6, device='cuda:0')\n",
            "tensor([-2.6036, -4.1494, -1.2135,  0.0988, 24.4015, -3.0849, -5.3912, 21.7415,\n",
            "         0.4872, 16.4183], device='cuda:0', grad_fn=<SelectBackward>)\n",
            "tensor(9, device='cuda:0')\n",
            "tensor(0.8578)\n"
          ],
          "name": "stdout"
        }
      ]
    },
    {
      "cell_type": "code",
      "metadata": {
        "id": "dJ6zfxC_9zQz",
        "colab": {
          "base_uri": "https://localhost:8080/",
          "height": 34
        },
        "outputId": "e4bb7b5e-885b-4098-ec20-db1ede5ba154"
      },
      "source": [
        "four_seven_test = four_seven_test.to(device)\n",
        "four_seven_y_test = four_seven_y_test.to(device)\n",
        "\n",
        "test_preds = yann_lecun.forward(four_seven_test)\n",
        "\n",
        "accuracy = (test_preds.argmax(dim = 1) == four_seven_y_test).float().mean().data.cpu()\n",
        "\n",
        "print(accuracy)"
      ],
      "execution_count": null,
      "outputs": [
        {
          "output_type": "stream",
          "text": [
            "tensor(0.9532)\n"
          ],
          "name": "stdout"
        }
      ]
    },
    {
      "cell_type": "code",
      "metadata": {
        "id": "UIKSPUe2-IRu"
      },
      "source": [
        ""
      ],
      "execution_count": null,
      "outputs": []
    }
  ]
}