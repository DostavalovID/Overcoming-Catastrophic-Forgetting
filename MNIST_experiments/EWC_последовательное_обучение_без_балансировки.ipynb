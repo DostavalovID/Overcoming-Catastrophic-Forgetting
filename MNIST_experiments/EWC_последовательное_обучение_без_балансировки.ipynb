{
  "nbformat": 4,
  "nbformat_minor": 0,
  "metadata": {
    "colab": {
      "name": "EWC последовательное обучение без балансировки.ipynb",
      "provenance": [],
      "collapsed_sections": []
    },
    "kernelspec": {
      "name": "python3",
      "display_name": "Python 3"
    },
    "accelerator": "GPU"
  },
  "cells": [
    {
      "cell_type": "code",
      "metadata": {
        "id": "cM2QwWztCLCl"
      },
      "source": [
        "from six.moves import urllib\n",
        "opener = urllib.request.build_opener()\n",
        "opener.addheaders = [('User-agent', 'Mozilla/5.0')]\n",
        "urllib.request.install_opener(opener)"
      ],
      "execution_count": null,
      "outputs": []
    },
    {
      "cell_type": "code",
      "metadata": {
        "id": "zLqNrTlzW7cF"
      },
      "source": [
        "import torch\n",
        "import numpy as np\n",
        "import random\n",
        "from copy import deepcopy\n",
        "from torch import nn\n",
        "from torch.autograd import Variable\n",
        "from torch.nn import functional as F\n",
        "\n",
        "random.seed(0)\n",
        "np.random.seed(0)\n",
        "torch.manual_seed(0)\n",
        "torch.cuda.manual_seed(0) \n",
        "#torch.backends.cudnn.deterministic = True"
      ],
      "execution_count": null,
      "outputs": []
    },
    {
      "cell_type": "code",
      "metadata": {
        "id": "cLxAu10WYwso"
      },
      "source": [
        "from torchvision import datasets\n",
        "MNIST_train = datasets.MNIST(root='./', train=True,\n",
        "                                   download=True)\n",
        "MNIST_test = datasets.MNIST(root='./', train=False,\n",
        "                                  download=False)"
      ],
      "execution_count": null,
      "outputs": []
    },
    {
      "cell_type": "code",
      "metadata": {
        "id": "1VAoi1VthxvX"
      },
      "source": [
        "\n",
        "X_train = MNIST_train.data\n",
        "y_train = MNIST_train.targets\n",
        "X_test = MNIST_test.data\n",
        "y_test = MNIST_test.targets\n",
        "\n",
        "device = torch.device('cuda:0' if torch.cuda.is_available() else 'cpu')\n",
        "\n",
        "train_indices_01 = []\n",
        "train_indices_23 = []\n",
        "train_indices_45 = []\n",
        "train_indices_67 = []\n",
        "train_indices_89 = []\n",
        "test_indices_01 = []\n",
        "test_indices_23 = []\n",
        "test_indices_45 = []\n",
        "test_indices_67 = []\n",
        "test_indices_89 = []\n",
        "for i in range(len(y_train)):\n",
        "  if y_train[i] == 0 or y_train[i] == 1:\n",
        "    train_indices_01.append(i)\n",
        "  elif y_train[i] == 2 or y_train[i] == 3:\n",
        "    train_indices_23.append(i)\n",
        "  elif y_train[i] == 4 or y_train[i] == 5:\n",
        "    train_indices_45.append(i)\n",
        "  elif y_train[i] == 6 or y_train[i] == 7:\n",
        "    train_indices_67.append(i)\n",
        "  elif y_train[i] == 8 or y_train[i] == 9:\n",
        "    train_indices_89.append(i)\n",
        "  \n",
        "\n",
        "\n",
        "for i in range(len(y_test)):\n",
        "  if y_test[i] == 0 or y_test[i] == 1:\n",
        "    test_indices_01.append(i)\n",
        "  elif y_test[i] == 2 or y_test[i]== 3:\n",
        "    test_indices_23.append(i)\n",
        "  elif y_test[i] == 4 or y_test[i] == 5:\n",
        "    test_indices_45.append(i)\n",
        "  elif y_test[i] == 6 or y_test[i] == 7:\n",
        "    test_indices_67.append(i)\n",
        "  elif y_test[i] == 8 or y_test[i] == 9:\n",
        "    test_indices_89.append(i)\n",
        "\n",
        "\n",
        "\n",
        "X_train_01 = X_train[train_indices_01]\n",
        "y_train_01 = y_train[train_indices_01]\n",
        "X_test_01 = X_test[test_indices_01]\n",
        "y_test_01 = y_test[test_indices_01]\n",
        "\n",
        "X_train_23 = X_train[train_indices_23]\n",
        "y_train_23 = y_train[train_indices_23]\n",
        "X_test_23 = X_test[test_indices_23]\n",
        "y_test_23 = y_test[test_indices_23]\n",
        "\n",
        "X_train_45 = X_train[train_indices_45]\n",
        "y_train_45 = y_train[train_indices_45]\n",
        "X_test_45 = X_test[test_indices_45]\n",
        "y_test_45 = y_test[test_indices_45]\n",
        "\n",
        "X_train_67 = X_train[train_indices_67]\n",
        "y_train_67 = y_train[train_indices_67]\n",
        "X_test_67 = X_test[test_indices_67]\n",
        "y_test_67 = y_test[test_indices_67]\n",
        "\n",
        "X_train_89 = X_train[train_indices_89]\n",
        "y_train_89 = y_train[train_indices_89]\n",
        "X_test_89 = X_test[test_indices_89]\n",
        "y_test_89 = y_test[test_indices_89]\n",
        "\n",
        "\n",
        "X_test_01 = X_test_01.to(device)\n",
        "#print(type(y_train_01))\n",
        "#print(y_train_01[0])\n",
        "\n",
        "\n",
        "X_train = X_train.unsqueeze(1).float()\n",
        "X_test = X_test.unsqueeze(1).float()\n",
        "\n",
        "X_train_01 = X_train_01.unsqueeze(1).float()\n",
        "X_test_01 = X_test_01.unsqueeze(1).float()\n",
        "\n",
        "X_train_23 = X_train_23.unsqueeze(1).float()\n",
        "X_test_23 = X_test_23.unsqueeze(1).float()\n",
        "\n",
        "X_train_45 = X_train_45.unsqueeze(1).float()\n",
        "X_test_45 = X_test_45.unsqueeze(1).float()\n",
        "\n",
        "X_train_67 = X_train_67.unsqueeze(1).float()\n",
        "X_test_67 = X_test_67.unsqueeze(1).float()\n",
        "\n",
        "X_train_89 = X_train_89.unsqueeze(1).float()\n",
        "X_test_89 = X_test_89.unsqueeze(1).float()"
      ],
      "execution_count": null,
      "outputs": []
    },
    {
      "cell_type": "code",
      "metadata": {
        "id": "VRAHqQqAhx8U"
      },
      "source": [
        "class YannLecun(torch.nn.Module):\n",
        "  def __init__(self,activation = 'leaky relu', pooling = 'max', conv_size = 3, use_batch_norm = False, use_dropout = False):\n",
        "    super(YannLecun, self).__init__()\n",
        "    self.conv_size = conv_size\n",
        "    self.use_batch_norm = use_batch_norm\n",
        "    self.use_dropout = use_dropout\n",
        "\n",
        "    if activation == 'relu':\n",
        "      activation_function = torch.nn.ReLU()\n",
        "    elif activation == 'tanh':\n",
        "      activation_function = torch.nn.Tanh()\n",
        "    elif activation == 'leaky relu':\n",
        "        activation_function = torch.nn.LeakyReLU()\n",
        "    else:\n",
        "      raise NotImplementedError   \n",
        "\n",
        "    if pooling == 'max':\n",
        "      pooling_layer = torch.nn.MaxPool2d(kernel_size = 2, stride = 2)\n",
        "    elif pooling == 'avg':\n",
        "      pooling_layer = torch.nn.AvgPool2d(kernel_size = 2, stride = 2)\n",
        "    else:\n",
        "      raise NotImplementedError   \n",
        "    \n",
        "    if conv_size == 3:\n",
        "      self.conv1_1 = torch.nn.Conv2d(in_channels=1, out_channels=6, kernel_size=3, padding= 1)\n",
        "      self.conv1_2 = torch.nn.Conv2d(in_channels=6, out_channels=6, kernel_size=3, padding= 1)\n",
        "    elif conv_size == 5:\n",
        "      self.conv1 = torch.nn.Conv2d(in_channels=1, out_channels=6, kernel_size=5, padding= 2)\n",
        "    else:\n",
        "      raise NotImplementedError\n",
        "    \n",
        "    self.act1 = activation_function\n",
        "    self.bn1 = torch.nn.BatchNorm2d(num_features = 6)\n",
        "    self.pool1 = pooling_layer\n",
        "    self.dp1 = torch.nn.Dropout(p = 0.25) \n",
        "\n",
        "    if conv_size == 3:\n",
        "      self.conv2_1 = torch.nn.Conv2d(in_channels=6, out_channels=16, kernel_size=3, padding= 0)\n",
        "      self.conv2_2 = torch.nn.Conv2d(in_channels=16, out_channels=16, kernel_size=3, padding= 0)\n",
        "    elif conv_size == 5:\n",
        "      self.conv2 = torch.nn.Conv2d(in_channels=1, out_channels=6, kernel_size=5, padding= 0)\n",
        "    else:\n",
        "      raise NotImplementedError\n",
        "\n",
        "    self.act2 = activation_function\n",
        "    self.bn2 = torch.nn.BatchNorm2d(num_features = 16)\n",
        "    self.pool2 = pooling_layer\n",
        "    self.dp2 = torch.nn.Dropout(p = 0.25) \n",
        "\n",
        "    self.fc1 = torch.nn.Linear(5*5*16, 120)\n",
        "    self.act3 = torch.nn.Tanh()\n",
        "    self.dp3 = torch.nn.Dropout(p = 0.5) \n",
        "\n",
        "    self.fc2 = torch.nn.Linear(120,84)\n",
        "    self.act4 = torch.nn.Tanh()\n",
        "    self.dp4 = torch.nn.Dropout(p = 0.5) \n",
        "\n",
        "    self.fc3 = torch.nn.Linear(84,10)\n",
        "    self.act5 = torch.nn.Softmax()\n",
        "\n",
        "\n",
        "  def forward(self,x):\n",
        "    if self.conv_size == 3:\n",
        "      x = self.conv1_1(x)\n",
        "      x = self.conv1_2(x)\n",
        "    elif self.conv_size == 5:\n",
        "      x = self.conv1(x)\n",
        "\n",
        "    x = self.act1(x)\n",
        "    if self.use_batch_norm:\n",
        "      x = self.bn1(x)\n",
        "    x = self.pool1(x)\n",
        "    if self.use_dropout:\n",
        "      x = self.dp1(x)\n",
        "\n",
        "\n",
        "    if self.conv_size == 3:\n",
        "      x = self.conv2_1(x)\n",
        "      x = self.conv2_2(x)\n",
        "    elif self.conv_size == 5:\n",
        "      x = self.conv2(x)\n",
        "    \n",
        "    x = self.act2(x)\n",
        "    if self.use_batch_norm:\n",
        "      x = self.bn2(x)\n",
        "    x = self.pool2(x)\n",
        "    if self.use_dropout:\n",
        "      x = self.dp2(x)\n",
        "\n",
        "    x = x.view(x.size(0),x.size(1)*x.size(2)*x.size(3))\n",
        "\n",
        "    x = self.fc1(x)\n",
        "    x = self.act3(x)\n",
        "    if self.use_dropout:\n",
        "      x = self.dp3(x)\n",
        "    x = self.fc2(x)\n",
        "    x = self.act4(x)\n",
        "    if self.use_dropout:\n",
        "      x = self.dp4(x)\n",
        "    x = self.fc3(x)\n",
        "    x = self.act5(x)\n",
        "    \n",
        "    x = x.to(device)\n",
        "\n",
        "    return x\n",
        "\n",
        "yann_lecun = YannLecun(use_batch_norm = True, use_dropout =True)\n",
        "yann_lecun = yann_lecun.to(device)\n",
        "loss = torch.nn.CrossEntropyLoss()\n",
        "my_optimizer = torch.optim.Adam(yann_lecun.parameters(), lr=4.0e-4)"
      ],
      "execution_count": null,
      "outputs": []
    },
    {
      "cell_type": "code",
      "metadata": {
        "id": "YlZKE7SmhyJc"
      },
      "source": [
        "def variable(t: torch.Tensor, use_cuda=True, **kwargs): #переменная тупо для того, чтобы можно было дифференцировать по ним.\n",
        "    if torch.cuda.is_available() and use_cuda:          #в нашем случае в самом тензоре есть requires_grad если True то переменная\n",
        "        t = t.cuda()\n",
        "    return Variable(t, **kwargs)\n",
        "\n",
        "\n",
        "def test_accuracy(x_test, y_test):\n",
        "    x_test = x_test.to(device)\n",
        "    test_preds = yann_lecun.forward(x_test)\n",
        "    test_preds = test_preds.to(device)\n",
        "    y_test = y_test.to(device)\n",
        "    accuracy = (test_preds.argmax(dim = 1) == y_test).float().mean().data.cpu()\n",
        "    return accuracy\n",
        "\n",
        "class EWC(object):\n",
        "    def __init__(self, old_x, old_y = None, model = yann_lecun):\n",
        "\n",
        "        self.model = model\n",
        "        self.old_x = old_x # по сути иксы\n",
        "        self.old_y = old_y\n",
        "        self.params = {n: p for n, p in self.model.named_parameters() if p.requires_grad} #собирает в словарь имя:параметры\n",
        "        self._old_params = {}\n",
        "        self._precision_matrices = self._diag_fisher() \n",
        "\n",
        "        for n, p in deepcopy(self.params).items():\n",
        "            self._old_params[n] = variable(p.data)\n",
        "\n",
        "\n",
        "    def _diag_fisher(self):\n",
        "        precision_matrices = {}\n",
        "        for n, p in deepcopy(self.params).items(): #копируем параметры через дип копи чтоб не поменять их\n",
        "            p.data.zero_() #все параметры скопированные зануляем\n",
        "            precision_matrices[n] = variable(p.data) #выставляем requires_grad = True \n",
        "\n",
        "        self.model.eval() #переводим в состояние evaluation\n",
        "        #for input in self.dataset:\n",
        "        self.model.zero_grad() #как обычно чтоб не накапливался градиент зануляем вначале\n",
        "        self.old_x = variable(self.old_x) #input requires grad = True\n",
        "        output = self.model(self.old_x)#.view(1, -1)\n",
        "        output = output.to(device)\n",
        "        loss = F.nll_loss(F.log_softmax(output, dim=1), self.old_y)\n",
        "        loss.backward()\n",
        "\n",
        "        for n, p in self.model.named_parameters():\n",
        "            #print(f\"p grad data shape = {p.grad.data.shape}\")\n",
        "            precision_matrices[n].data += p.grad.data ** 2 / len(self.old_x) #то, чточ делим на число это типа матожидание берем\n",
        "\n",
        "        precision_matrices = {n: p for n, p in precision_matrices.items()}\n",
        "        return precision_matrices\n",
        "\n",
        "    def penalty(self, model: nn.Module):\n",
        "        loss = 0\n",
        "        for n, p in model.named_parameters():\n",
        "            _loss = self._precision_matrices[n].data * (p - self._old_params[n].data) ** 2\n",
        "            loss += _loss.sum()\n",
        "        return loss\n"
      ],
      "execution_count": null,
      "outputs": []
    },
    {
      "cell_type": "code",
      "metadata": {
        "id": "8wdnxQFEiZXt"
      },
      "source": [
        "#определение обычной функции обучения\n",
        "def normal_train(X_trains, y_trains, X_tests, y_tests, model = yann_lecun, optimizer = my_optimizer, epochs = 5, batch_sizes = 100):\n",
        "    model.train() #выставляем, что она меняет свои коэф\n",
        "    batch_size = batch_sizes\n",
        "    test_accuracy_history = []\n",
        "    test_loss_history = []\n",
        "\n",
        "    X_tests = X_tests.to(device)\n",
        "    y_tests = y_tests.to(device)\n",
        "\n",
        "    for epoch in range(epochs):\n",
        "        order = np.random.permutation(len(X_trains))\n",
        "        for start_index in range(0,len(X_trains), batch_size):\n",
        "            batch_indexes = order[start_index:start_index+batch_size]\n",
        "\n",
        "            X_batch = X_trains[batch_indexes].to(device)\n",
        "            y_batch = y_trains[batch_indexes].to(device)\n",
        "\n",
        "            X_batch, y_batch = variable(X_batch), variable(y_batch)\n",
        "            optimizer.zero_grad()\n",
        "            preds = model.forward(X_batch)\n",
        "            loss_value = loss(preds, y_batch)\n",
        "            loss_value.backward()\n",
        "            optimizer.step()\n",
        "        \n",
        "        test_preds = model.forward(X_tests)\n",
        "        test_loss_history.append(loss(test_preds, y_tests).data.cpu())\n",
        "\n",
        "        accuracy = (test_preds.argmax(dim = 1) == y_tests).float().mean().data.cpu()\n",
        "        test_accuracy_history.append(accuracy)\n",
        "        print(accuracy)  \n",
        "\n",
        "#определение функции обучения с EWC\n",
        "\n",
        "def ewc_train(X_trains, y_trains, X_tests, y_tests, old_x_test, old_y_test, \n",
        "              ewc: EWC, importance, number, epochs = 7, model = yann_lecun, optimizer = my_optimizer, batch_sizes = 100):\n",
        "    model.train() #выставляем, что она меняет свои коэф\n",
        "    #epoch_loss = 0\n",
        "    batch_size = batch_sizes\n",
        "    test_accuracy_history = []\n",
        "    test_loss_history = []\n",
        "\n",
        "    X_tests = X_tests.to(device)\n",
        "    y_tests = y_tests.to(device)\n",
        "\n",
        "    for epoch in range(epochs):\n",
        "        order = np.random.permutation(len(X_trains))\n",
        "        for start_index in range(0,len(X_trains), batch_size):\n",
        "            batch_indexes = order[start_index:start_index+batch_size]\n",
        "\n",
        "            X_batch = X_trains[batch_indexes].to(device)\n",
        "            y_batch = y_trains[batch_indexes].to(device)\n",
        "\n",
        "            X_batch, y_batch = variable(X_batch), variable(y_batch)\n",
        "            optimizer.zero_grad()\n",
        "            preds = model.forward(X_batch)\n",
        "            loss_value = loss(preds, y_batch) + importance * ewc.penalty(model)\n",
        "            loss_value.backward()\n",
        "            optimizer.step()\n",
        "        \n",
        "        test_preds = model.forward(X_tests)\n",
        "        test_loss_history.append(loss(test_preds, y_tests).data.cpu())\n",
        "\n",
        "        accuracy = (test_preds.argmax(dim = 1) == y_tests).float().mean().data.cpu()\n",
        "        print('current accuracy: ', accuracy)\n",
        "        test_accuracy_history.append(accuracy)\n",
        "        old_accuracy = test_accuracy(old_x_test, old_y_test)\n",
        "        print('old accuracy: ', old_accuracy)\n",
        "        if number == 1:\n",
        "            #if accuracy >= 0.2:\n",
        "            #    #importance *= 2\n",
        "            #    #print(\"importance = \", importance)\n",
        "            print('accuracy on 01: ', test_accuracy(X_test_01,y_test_01),'\\n')\n",
        "        elif number == 2:\n",
        "            print('accuracy on 01: ', test_accuracy(X_test_01,y_test_01))\n",
        "            print('accuracy on 23: ', test_accuracy(X_test_23,y_test_23),'\\n')\n",
        "        elif number == 3:\n",
        "            print('accuracy on 01: ', test_accuracy(X_test_01,y_test_01))\n",
        "            print('accuracy on 23: ', test_accuracy(X_test_23,y_test_23))\n",
        "            print('accuracy on 45: ', test_accuracy(X_test_45,y_test_45),'\\n')\n",
        "        elif number == 4:\n",
        "            print('accuracy on 01: ', test_accuracy(X_test_01,y_test_01))\n",
        "            print('accuracy on 23: ', test_accuracy(X_test_23,y_test_23))\n",
        "            print('accuracy on 45: ', test_accuracy(X_test_45,y_test_45))\n",
        "            print('accuracy on 67: ', test_accuracy(X_test_67,y_test_67),'\\n')\n",
        "\n",
        "        \n",
        "        \n"
      ],
      "execution_count": null,
      "outputs": []
    },
    {
      "cell_type": "code",
      "metadata": {
        "colab": {
          "base_uri": "https://localhost:8080/"
        },
        "id": "SWj636ljiZv3",
        "outputId": "81e51619-07f9-46b6-fbb7-d72df7563722"
      },
      "source": [
        "pytorch_total_params = sum(p.numel() for p in yann_lecun.parameters())\n",
        "print(pytorch_total_params)"
      ],
      "execution_count": null,
      "outputs": [
        {
          "output_type": "stream",
          "text": [
            "62768\n"
          ],
          "name": "stdout"
        }
      ]
    },
    {
      "cell_type": "code",
      "metadata": {
        "colab": {
          "base_uri": "https://localhost:8080/"
        },
        "id": "CbsDh4mHiZ6G",
        "outputId": "0a3904c7-7651-43b7-bd23-68a5926778b6"
      },
      "source": [
        "normal_train(X_train_01,y_train_01,X_test_01,y_test_01)"
      ],
      "execution_count": null,
      "outputs": [
        {
          "output_type": "stream",
          "text": [
            "/usr/local/lib/python3.7/dist-packages/ipykernel_launcher.py:101: UserWarning: Implicit dimension choice for softmax has been deprecated. Change the call to include dim=X as an argument.\n"
          ],
          "name": "stderr"
        },
        {
          "output_type": "stream",
          "text": [
            "tensor(0.9995)\n",
            "tensor(0.9995)\n",
            "tensor(1.)\n",
            "tensor(0.9991)\n",
            "tensor(1.)\n"
          ],
          "name": "stdout"
        }
      ]
    },
    {
      "cell_type": "code",
      "metadata": {
        "colab": {
          "base_uri": "https://localhost:8080/"
        },
        "id": "_0rPXhjsiaC1",
        "outputId": "e8d0c373-f700-44a0-933b-85278a962e78"
      },
      "source": [
        "old_tasks = X_train_01\n",
        "old_y = y_train_01\n",
        "old_x_test = X_test_01\n",
        "old_y_test = y_test_01\n",
        "old_y = old_y.to(device)\n",
        "my_ewc = EWC(old_tasks, old_y)"
      ],
      "execution_count": null,
      "outputs": [
        {
          "output_type": "stream",
          "text": [
            "/usr/local/lib/python3.7/dist-packages/ipykernel_launcher.py:101: UserWarning: Implicit dimension choice for softmax has been deprecated. Change the call to include dim=X as an argument.\n"
          ],
          "name": "stderr"
        }
      ]
    },
    {
      "cell_type": "code",
      "metadata": {
        "colab": {
          "base_uri": "https://localhost:8080/"
        },
        "id": "L_AmrPlGslRL",
        "outputId": "7277032b-b4c9-4cab-ca7a-362c5ac52674"
      },
      "source": [
        "ewc_train(X_train_23,y_train_23,X_test_23,y_test_23,old_x_test, old_y_test, my_ewc, number = 1, epochs = 7, importance = 2.5e14)"
      ],
      "execution_count": null,
      "outputs": [
        {
          "output_type": "stream",
          "text": [
            "/usr/local/lib/python3.7/dist-packages/ipykernel_launcher.py:101: UserWarning: Implicit dimension choice for softmax has been deprecated. Change the call to include dim=X as an argument.\n"
          ],
          "name": "stderr"
        },
        {
          "output_type": "stream",
          "text": [
            "current accuracy:  tensor(0.)\n",
            "old accuracy:  tensor(0.9995)\n",
            "accuracy on 01:  tensor(0.9995) \n",
            "\n",
            "current accuracy:  tensor(0.)\n",
            "old accuracy:  tensor(1.)\n",
            "accuracy on 01:  tensor(0.9995) \n",
            "\n",
            "current accuracy:  tensor(0.)\n",
            "old accuracy:  tensor(0.9995)\n",
            "accuracy on 01:  tensor(1.) \n",
            "\n",
            "current accuracy:  tensor(0.)\n",
            "old accuracy:  tensor(1.)\n",
            "accuracy on 01:  tensor(0.9995) \n",
            "\n",
            "current accuracy:  tensor(0.)\n",
            "old accuracy:  tensor(0.9995)\n",
            "accuracy on 01:  tensor(1.) \n",
            "\n",
            "current accuracy:  tensor(0.)\n",
            "old accuracy:  tensor(1.)\n",
            "accuracy on 01:  tensor(0.9991) \n",
            "\n",
            "current accuracy:  tensor(0.8555)\n",
            "old accuracy:  tensor(0.1683)\n",
            "accuracy on 01:  tensor(0.1612) \n",
            "\n"
          ],
          "name": "stdout"
        }
      ]
    },
    {
      "cell_type": "code",
      "metadata": {
        "id": "3ggpRpw6tX3l",
        "colab": {
          "base_uri": "https://localhost:8080/"
        },
        "outputId": "2e1420cf-552d-44f9-a8bb-c4959fc2e477"
      },
      "source": [
        "cur_x_test = X_test_23\n",
        "cur_x_test = cur_x_test.to(device)\n",
        "cur_y_test = y_test_23\n",
        "\n",
        "test_accuracy(cur_x_test, cur_y_test)"
      ],
      "execution_count": null,
      "outputs": [
        {
          "output_type": "stream",
          "text": [
            "/usr/local/lib/python3.7/dist-packages/ipykernel_launcher.py:101: UserWarning: Implicit dimension choice for softmax has been deprecated. Change the call to include dim=X as an argument.\n"
          ],
          "name": "stderr"
        },
        {
          "output_type": "execute_result",
          "data": {
            "text/plain": [
              "tensor(0.8546)"
            ]
          },
          "metadata": {
            "tags": []
          },
          "execution_count": 32
        }
      ]
    },
    {
      "cell_type": "code",
      "metadata": {
        "id": "-LGSardXiaeB",
        "colab": {
          "base_uri": "https://localhost:8080/"
        },
        "outputId": "640d9312-56df-451b-d466-75008b5a2496"
      },
      "source": [
        "old_tasks = torch.cat((old_tasks,X_train_23))\n",
        "old_x_test = torch.cat((old_x_test, cur_x_test))\n",
        "old_y_test = torch.cat((old_y_test,cur_y_test))\n",
        "y_train_23 = y_train_23.to(device)\n",
        "old_y = torch.cat((old_y, y_train_23))\n",
        "old_y = old_y.to(device)\n",
        "my_ewc = EWC(old_tasks, old_y)"
      ],
      "execution_count": null,
      "outputs": [
        {
          "output_type": "stream",
          "text": [
            "/usr/local/lib/python3.7/dist-packages/ipykernel_launcher.py:101: UserWarning: Implicit dimension choice for softmax has been deprecated. Change the call to include dim=X as an argument.\n"
          ],
          "name": "stderr"
        }
      ]
    },
    {
      "cell_type": "code",
      "metadata": {
        "id": "4FbXXCw9tA7J",
        "colab": {
          "base_uri": "https://localhost:8080/"
        },
        "outputId": "a36c71fe-4563-479d-d7bd-ea07a47361b8"
      },
      "source": [
        "ewc_train(X_train_45,y_train_45,X_test_45,y_test_45, old_x_test, old_y_test, my_ewc, number = 2, epochs = 7, importance = 6e11)"
      ],
      "execution_count": null,
      "outputs": [
        {
          "output_type": "stream",
          "text": [
            "/usr/local/lib/python3.7/dist-packages/ipykernel_launcher.py:101: UserWarning: Implicit dimension choice for softmax has been deprecated. Change the call to include dim=X as an argument.\n"
          ],
          "name": "stderr"
        },
        {
          "output_type": "stream",
          "text": [
            "current accuracy:  tensor(0.)\n",
            "old accuracy:  tensor(0.4895)\n",
            "accuracy on 01:  tensor(0.1735)\n",
            "accuracy on 23:  tensor(0.8604) \n",
            "\n",
            "current accuracy:  tensor(0.0016)\n",
            "old accuracy:  tensor(0.4960)\n",
            "accuracy on 01:  tensor(0.1839)\n",
            "accuracy on 23:  tensor(0.8585) \n",
            "\n",
            "current accuracy:  tensor(0.0443)\n",
            "old accuracy:  tensor(0.4799)\n",
            "accuracy on 01:  tensor(0.1593)\n",
            "accuracy on 23:  tensor(0.8477) \n",
            "\n",
            "current accuracy:  tensor(0.1478)\n",
            "old accuracy:  tensor(0.4638)\n",
            "accuracy on 01:  tensor(0.1660)\n",
            "accuracy on 23:  tensor(0.8110) \n",
            "\n",
            "current accuracy:  tensor(0.2236)\n",
            "old accuracy:  tensor(0.4323)\n",
            "accuracy on 01:  tensor(0.1560)\n",
            "accuracy on 23:  tensor(0.7742) \n",
            "\n",
            "current accuracy:  tensor(0.2791)\n",
            "old accuracy:  tensor(0.4094)\n",
            "accuracy on 01:  tensor(0.1437)\n",
            "accuracy on 23:  tensor(0.7179) \n",
            "\n",
            "current accuracy:  tensor(0.3106)\n",
            "old accuracy:  tensor(0.3784)\n",
            "accuracy on 01:  tensor(0.1314)\n",
            "accuracy on 23:  tensor(0.6675) \n",
            "\n"
          ],
          "name": "stdout"
        }
      ]
    },
    {
      "cell_type": "code",
      "metadata": {
        "id": "eVmSe6PViamI",
        "colab": {
          "base_uri": "https://localhost:8080/"
        },
        "outputId": "d5231986-7238-4d6b-c7e4-543f5a5c6964"
      },
      "source": [
        "cur_x_test = X_test_45\n",
        "cur_y_test = y_test_45\n",
        "\n",
        "test_accuracy(cur_x_test, cur_y_test)"
      ],
      "execution_count": null,
      "outputs": [
        {
          "output_type": "stream",
          "text": [
            "/usr/local/lib/python3.7/dist-packages/ipykernel_launcher.py:101: UserWarning: Implicit dimension choice for softmax has been deprecated. Change the call to include dim=X as an argument.\n"
          ],
          "name": "stderr"
        },
        {
          "output_type": "execute_result",
          "data": {
            "text/plain": [
              "tensor(0.3250)"
            ]
          },
          "metadata": {
            "tags": []
          },
          "execution_count": 35
        }
      ]
    },
    {
      "cell_type": "code",
      "metadata": {
        "id": "v_xzpywNjh9g",
        "colab": {
          "base_uri": "https://localhost:8080/"
        },
        "outputId": "5746a6c3-81bf-4515-eeae-9154a874703d"
      },
      "source": [
        "old_x_test = torch.cat((old_x_test,cur_x_test.to(device)))\n",
        "old_y_test = torch.cat((old_y_test,cur_y_test))\n",
        "test_accuracy(old_x_test, old_y_test)"
      ],
      "execution_count": null,
      "outputs": [
        {
          "output_type": "stream",
          "text": [
            "/usr/local/lib/python3.7/dist-packages/ipykernel_launcher.py:101: UserWarning: Implicit dimension choice for softmax has been deprecated. Change the call to include dim=X as an argument.\n"
          ],
          "name": "stderr"
        },
        {
          "output_type": "execute_result",
          "data": {
            "text/plain": [
              "tensor(0.3595)"
            ]
          },
          "metadata": {
            "tags": []
          },
          "execution_count": 36
        }
      ]
    },
    {
      "cell_type": "code",
      "metadata": {
        "id": "KaSDFqfWjijk",
        "colab": {
          "base_uri": "https://localhost:8080/"
        },
        "outputId": "afb37766-e15b-418f-be5b-b8b86164f38b"
      },
      "source": [
        "old_tasks = torch.cat((old_tasks,X_train_45))\n",
        "y_train_45 = y_train_45.to(device)\n",
        "old_y = torch.cat((old_y, y_train_45))\n",
        "old_y = old_y.to(device)\n",
        "my_ewc = EWC(old_tasks, old_y)"
      ],
      "execution_count": null,
      "outputs": [
        {
          "output_type": "stream",
          "text": [
            "/usr/local/lib/python3.7/dist-packages/ipykernel_launcher.py:101: UserWarning: Implicit dimension choice for softmax has been deprecated. Change the call to include dim=X as an argument.\n"
          ],
          "name": "stderr"
        }
      ]
    },
    {
      "cell_type": "code",
      "metadata": {
        "id": "rB0XEatntFDc",
        "colab": {
          "base_uri": "https://localhost:8080/"
        },
        "outputId": "dc9e1e0f-9fa3-4265-b2d9-7cc20ab9b47e"
      },
      "source": [
        "ewc_train(X_train_67,y_train_67,X_test_67,y_test_67, old_x_test, old_y_test, my_ewc, number = 3, epochs = 7, importance = 4e11)"
      ],
      "execution_count": null,
      "outputs": [
        {
          "output_type": "stream",
          "text": [
            "/usr/local/lib/python3.7/dist-packages/ipykernel_launcher.py:101: UserWarning: Implicit dimension choice for softmax has been deprecated. Change the call to include dim=X as an argument.\n"
          ],
          "name": "stderr"
        },
        {
          "output_type": "stream",
          "text": [
            "current accuracy:  tensor(0.0337)\n",
            "old accuracy:  tensor(0.3635)\n",
            "accuracy on 01:  tensor(0.1494)\n",
            "accuracy on 23:  tensor(0.6322)\n",
            "accuracy on 45:  tensor(0.3191) \n",
            "\n",
            "current accuracy:  tensor(0.0932)\n",
            "old accuracy:  tensor(0.3537)\n",
            "accuracy on 01:  tensor(0.1655)\n",
            "accuracy on 23:  tensor(0.6185)\n",
            "accuracy on 45:  tensor(0.2978) \n",
            "\n",
            "current accuracy:  tensor(0.1667)\n",
            "old accuracy:  tensor(0.3276)\n",
            "accuracy on 01:  tensor(0.1740)\n",
            "accuracy on 23:  tensor(0.5642)\n",
            "accuracy on 45:  tensor(0.2663) \n",
            "\n",
            "current accuracy:  tensor(0.2628)\n",
            "old accuracy:  tensor(0.3238)\n",
            "accuracy on 01:  tensor(0.2109)\n",
            "accuracy on 23:  tensor(0.5485)\n",
            "accuracy on 45:  tensor(0.2391) \n",
            "\n",
            "current accuracy:  tensor(0.3434)\n",
            "old accuracy:  tensor(0.3114)\n",
            "accuracy on 01:  tensor(0.2255)\n",
            "accuracy on 23:  tensor(0.5122)\n",
            "accuracy on 45:  tensor(0.2006) \n",
            "\n",
            "current accuracy:  tensor(0.4245)\n",
            "old accuracy:  tensor(0.2917)\n",
            "accuracy on 01:  tensor(0.2222)\n",
            "accuracy on 23:  tensor(0.5064)\n",
            "accuracy on 45:  tensor(0.1601) \n",
            "\n",
            "current accuracy:  tensor(0.4507)\n",
            "old accuracy:  tensor(0.2776)\n",
            "accuracy on 01:  tensor(0.2359)\n",
            "accuracy on 23:  tensor(0.4549)\n",
            "accuracy on 45:  tensor(0.1590) \n",
            "\n"
          ],
          "name": "stdout"
        }
      ]
    },
    {
      "cell_type": "code",
      "metadata": {
        "id": "4evNK3cKjiqH",
        "colab": {
          "base_uri": "https://localhost:8080/"
        },
        "outputId": "082cb460-3bf9-4573-a9cf-0efe4844056e"
      },
      "source": [
        "cur_x_test = X_test_67\n",
        "cur_y_test = y_test_67\n",
        "\n",
        "test_accuracy(cur_x_test, cur_y_test)"
      ],
      "execution_count": null,
      "outputs": [
        {
          "output_type": "stream",
          "text": [
            "/usr/local/lib/python3.7/dist-packages/ipykernel_launcher.py:101: UserWarning: Implicit dimension choice for softmax has been deprecated. Change the call to include dim=X as an argument.\n"
          ],
          "name": "stderr"
        },
        {
          "output_type": "execute_result",
          "data": {
            "text/plain": [
              "tensor(0.4602)"
            ]
          },
          "metadata": {
            "tags": []
          },
          "execution_count": 39
        }
      ]
    },
    {
      "cell_type": "code",
      "metadata": {
        "id": "4hyad9Xmjiv3",
        "colab": {
          "base_uri": "https://localhost:8080/"
        },
        "outputId": "7df5dd18-79aa-4707-f9b9-f1a657cf5b49"
      },
      "source": [
        "old_x_test = torch.cat((old_x_test,cur_x_test.to(device)))\n",
        "old_y_test = torch.cat((old_y_test,cur_y_test))\n",
        "test_accuracy(old_x_test, old_y_test)"
      ],
      "execution_count": null,
      "outputs": [
        {
          "output_type": "stream",
          "text": [
            "/usr/local/lib/python3.7/dist-packages/ipykernel_launcher.py:101: UserWarning: Implicit dimension choice for softmax has been deprecated. Change the call to include dim=X as an argument.\n"
          ],
          "name": "stderr"
        },
        {
          "output_type": "execute_result",
          "data": {
            "text/plain": [
              "tensor(0.3189)"
            ]
          },
          "metadata": {
            "tags": []
          },
          "execution_count": 40
        }
      ]
    },
    {
      "cell_type": "code",
      "metadata": {
        "id": "2dDZsMtLji0S",
        "colab": {
          "base_uri": "https://localhost:8080/"
        },
        "outputId": "5ecee6f2-11a2-44d6-abda-fe9b847fef6a"
      },
      "source": [
        "old_tasks = torch.cat((old_tasks,X_train_67))\n",
        "\n",
        "\n",
        "y_train_67 = y_train_67.to(device)\n",
        "old_y = torch.cat((old_y, y_train_67))\n",
        "old_y = old_y.to(device)\n",
        "my_ewc = EWC(old_tasks, old_y)"
      ],
      "execution_count": null,
      "outputs": [
        {
          "output_type": "stream",
          "text": [
            "/usr/local/lib/python3.7/dist-packages/ipykernel_launcher.py:101: UserWarning: Implicit dimension choice for softmax has been deprecated. Change the call to include dim=X as an argument.\n"
          ],
          "name": "stderr"
        }
      ]
    },
    {
      "cell_type": "code",
      "metadata": {
        "id": "rLxnqrictIRZ",
        "colab": {
          "base_uri": "https://localhost:8080/"
        },
        "outputId": "562c9160-b02e-4f5e-f2a3-17ef760e428d"
      },
      "source": [
        "ewc_train(X_train_89,y_train_89,X_test_89,y_test_89,old_x_test, old_y_test, my_ewc, number = 4, epochs = 7, importance = 4e11)"
      ],
      "execution_count": null,
      "outputs": [
        {
          "output_type": "stream",
          "text": [
            "/usr/local/lib/python3.7/dist-packages/ipykernel_launcher.py:101: UserWarning: Implicit dimension choice for softmax has been deprecated. Change the call to include dim=X as an argument.\n"
          ],
          "name": "stderr"
        },
        {
          "output_type": "stream",
          "text": [
            "current accuracy:  tensor(0.1372)\n",
            "old accuracy:  tensor(0.3111)\n",
            "accuracy on 01:  tensor(0.2563)\n",
            "accuracy on 23:  tensor(0.4696)\n",
            "accuracy on 45:  tensor(0.0859)\n",
            "accuracy on 67:  tensor(0.4245) \n",
            "\n",
            "current accuracy:  tensor(0.2743)\n",
            "old accuracy:  tensor(0.2905)\n",
            "accuracy on 01:  tensor(0.2534)\n",
            "accuracy on 23:  tensor(0.4682)\n",
            "accuracy on 45:  tensor(0.0811)\n",
            "accuracy on 67:  tensor(0.3686) \n",
            "\n",
            "current accuracy:  tensor(0.3424)\n",
            "old accuracy:  tensor(0.2669)\n",
            "accuracy on 01:  tensor(0.2520)\n",
            "accuracy on 23:  tensor(0.4682)\n",
            "accuracy on 45:  tensor(0.0496)\n",
            "accuracy on 67:  tensor(0.3127) \n",
            "\n",
            "current accuracy:  tensor(0.4049)\n",
            "old accuracy:  tensor(0.2552)\n",
            "accuracy on 01:  tensor(0.2582)\n",
            "accuracy on 23:  tensor(0.4305)\n",
            "accuracy on 45:  tensor(0.0502)\n",
            "accuracy on 67:  tensor(0.2729) \n",
            "\n",
            "current accuracy:  tensor(0.4407)\n",
            "old accuracy:  tensor(0.2415)\n",
            "accuracy on 01:  tensor(0.2421)\n",
            "accuracy on 23:  tensor(0.4354)\n",
            "accuracy on 45:  tensor(0.0438)\n",
            "accuracy on 67:  tensor(0.2719) \n",
            "\n",
            "current accuracy:  tensor(0.4624)\n",
            "old accuracy:  tensor(0.2385)\n",
            "accuracy on 01:  tensor(0.2600)\n",
            "accuracy on 23:  tensor(0.4133)\n",
            "accuracy on 45:  tensor(0.0352)\n",
            "accuracy on 67:  tensor(0.2377) \n",
            "\n",
            "current accuracy:  tensor(0.4907)\n",
            "old accuracy:  tensor(0.2306)\n",
            "accuracy on 01:  tensor(0.2582)\n",
            "accuracy on 23:  tensor(0.4114)\n",
            "accuracy on 45:  tensor(0.0277)\n",
            "accuracy on 67:  tensor(0.2306) \n",
            "\n"
          ],
          "name": "stdout"
        }
      ]
    },
    {
      "cell_type": "code",
      "metadata": {
        "id": "BpceL4Z0ji4f",
        "colab": {
          "base_uri": "https://localhost:8080/"
        },
        "outputId": "973b0e62-761e-4695-e656-44c33f5a1e93"
      },
      "source": [
        "cur_x_test = X_test_89\n",
        "cur_y_test = y_test_89\n",
        "\n",
        "test_accuracy(cur_x_test, cur_y_test)"
      ],
      "execution_count": null,
      "outputs": [
        {
          "output_type": "stream",
          "text": [
            "/usr/local/lib/python3.7/dist-packages/ipykernel_launcher.py:101: UserWarning: Implicit dimension choice for softmax has been deprecated. Change the call to include dim=X as an argument.\n"
          ],
          "name": "stderr"
        },
        {
          "output_type": "execute_result",
          "data": {
            "text/plain": [
              "tensor(0.4871)"
            ]
          },
          "metadata": {
            "tags": []
          },
          "execution_count": 43
        }
      ]
    },
    {
      "cell_type": "code",
      "metadata": {
        "id": "Lzq30PGXji8U",
        "colab": {
          "base_uri": "https://localhost:8080/"
        },
        "outputId": "44b2c29a-c315-431d-b76b-ec3417be426d"
      },
      "source": [
        "old_x_test = torch.cat((old_x_test,cur_x_test.to(device)))\n",
        "old_y_test = torch.cat((old_y_test,cur_y_test))\n",
        "test_accuracy(old_x_test, old_y_test)"
      ],
      "execution_count": null,
      "outputs": [
        {
          "output_type": "stream",
          "text": [
            "/usr/local/lib/python3.7/dist-packages/ipykernel_launcher.py:101: UserWarning: Implicit dimension choice for softmax has been deprecated. Change the call to include dim=X as an argument.\n"
          ],
          "name": "stderr"
        },
        {
          "output_type": "execute_result",
          "data": {
            "text/plain": [
              "tensor(0.2875)"
            ]
          },
          "metadata": {
            "tags": []
          },
          "execution_count": 44
        }
      ]
    },
    {
      "cell_type": "code",
      "metadata": {
        "id": "j9mnq9676Adc"
      },
      "source": [
        ""
      ],
      "execution_count": null,
      "outputs": []
    }
  ]
}