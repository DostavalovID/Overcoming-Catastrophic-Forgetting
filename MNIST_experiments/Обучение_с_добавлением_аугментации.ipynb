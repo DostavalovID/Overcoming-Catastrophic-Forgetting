{
  "nbformat": 4,
  "nbformat_minor": 0,
  "metadata": {
    "colab": {
      "name": "Обучение с добавлением аугментации.ipynb",
      "provenance": [],
      "collapsed_sections": []
    },
    "kernelspec": {
      "name": "python3",
      "display_name": "Python 3"
    },
    "accelerator": "GPU"
  },
  "cells": [
    {
      "cell_type": "code",
      "metadata": {
        "id": "QMITAVFd03v-"
      },
      "source": [
        "from six.moves import urllib\n",
        "opener = urllib.request.build_opener()\n",
        "opener.addheaders = [('User-agent', 'Mozilla/5.0')]\n",
        "urllib.request.install_opener(opener)"
      ],
      "execution_count": null,
      "outputs": []
    },
    {
      "cell_type": "code",
      "metadata": {
        "id": "oyw6do-I1sfs"
      },
      "source": [
        "import torch\n",
        "import numpy as np\n",
        "import random\n",
        "from copy import deepcopy\n",
        "from torch import nn\n",
        "from torch.autograd import Variable\n",
        "from torch.nn import functional as F \n",
        "\n",
        "random.seed(0)\n",
        "np.random.seed(0)\n",
        "torch.manual_seed(0)\n",
        "torch.cuda.manual_seed(0) \n",
        "torch.backends.cudnn.deterministic = True"
      ],
      "execution_count": null,
      "outputs": []
    },
    {
      "cell_type": "code",
      "metadata": {
        "colab": {
          "base_uri": "https://localhost:8080/"
        },
        "id": "acIORIHS1tZY",
        "outputId": "544cebf8-df5b-4e33-e0ab-dc3143d5d529"
      },
      "source": [
        "!wget www.di.ens.fr/~lelarge/MNIST.tar.gz\n",
        "!tar -zxvf MNIST.tar.gz\n",
        "\n",
        "from torchvision.datasets import MNIST\n",
        "from torchvision import transforms\n",
        "\n",
        "MNIST_train = MNIST('./', download=True, transform = transforms.ToTensor(), train=True)\n",
        "MNIST_test = MNIST('./', download=True, transform = transforms.ToTensor(), train=False)\n"
      ],
      "execution_count": null,
      "outputs": [
        {
          "output_type": "stream",
          "name": "stdout",
          "text": [
            "--2022-03-29 16:56:36--  http://www.di.ens.fr/~lelarge/MNIST.tar.gz\n",
            "Resolving www.di.ens.fr (www.di.ens.fr)... 129.199.99.14\n",
            "Connecting to www.di.ens.fr (www.di.ens.fr)|129.199.99.14|:80... connected.\n",
            "HTTP request sent, awaiting response... 302 Found\n",
            "Location: https://www.di.ens.fr/~lelarge/MNIST.tar.gz [following]\n",
            "--2022-03-29 16:56:36--  https://www.di.ens.fr/~lelarge/MNIST.tar.gz\n",
            "Connecting to www.di.ens.fr (www.di.ens.fr)|129.199.99.14|:443... connected.\n",
            "HTTP request sent, awaiting response... 200 OK\n",
            "Length: unspecified [application/x-gzip]\n",
            "Saving to: ‘MNIST.tar.gz’\n",
            "\n",
            "MNIST.tar.gz            [             <=>    ]  33.20M  13.6MB/s    in 2.4s    \n",
            "\n",
            "2022-03-29 16:56:39 (13.6 MB/s) - ‘MNIST.tar.gz’ saved [34813078]\n",
            "\n",
            "MNIST/\n",
            "MNIST/raw/\n",
            "MNIST/raw/train-labels-idx1-ubyte\n",
            "MNIST/raw/t10k-labels-idx1-ubyte.gz\n",
            "MNIST/raw/t10k-labels-idx1-ubyte\n",
            "MNIST/raw/t10k-images-idx3-ubyte.gz\n",
            "MNIST/raw/train-images-idx3-ubyte\n",
            "MNIST/raw/train-labels-idx1-ubyte.gz\n",
            "MNIST/raw/t10k-images-idx3-ubyte\n",
            "MNIST/raw/train-images-idx3-ubyte.gz\n",
            "MNIST/processed/\n",
            "MNIST/processed/training.pt\n",
            "MNIST/processed/test.pt\n"
          ]
        }
      ]
    },
    {
      "cell_type": "code",
      "metadata": {
        "id": "RXUOYPcXIUpm"
      },
      "source": [
        "trans = transforms.Compose([\n",
        "    #transforms.RandomHorizontalFlip(),\n",
        "    #transforms.RandomVerticalFlip(),\n",
        "    transforms.RandomRotation(degrees=12,),\n",
        "    transforms.RandomAffine(degrees=15),\n",
        "])"
      ],
      "execution_count": null,
      "outputs": []
    },
    {
      "cell_type": "code",
      "metadata": {
        "id": "4tlxv4bSGgk_"
      },
      "source": [
        "X_train = MNIST_train.data\n",
        "y_train = MNIST_train.targets\n",
        "X_test = MNIST_test.data\n",
        "y_test = MNIST_test.targets\n",
        "\n",
        "device = torch.device('cuda:0' if torch.cuda.is_available() else 'cpu')\n",
        "\n",
        "train_indices_01 = []; train_indices_23 = []; train_indices_45 = []; train_indices_67 = []; train_indices_89 = []\n",
        "test_indices_01 = []; test_indices_23 = []; test_indices_45 = []; test_indices_67 = []; test_indices_89 = []\n",
        "for i in range(len(y_train)):\n",
        "  if y_train[i] == 0 or y_train[i] == 1:\n",
        "    train_indices_01.append(i)\n",
        "  elif y_train[i] == 2 or y_train[i] == 3:\n",
        "    train_indices_23.append(i)\n",
        "  elif y_train[i] == 4 or y_train[i] == 5:\n",
        "    train_indices_45.append(i)\n",
        "  elif y_train[i] == 6 or y_train[i] == 7:\n",
        "    train_indices_67.append(i)\n",
        "  elif y_train[i] == 8 or y_train[i] == 9:\n",
        "    train_indices_89.append(i)\n",
        "  \n",
        "\n",
        "\n",
        "for i in range(len(y_test)):\n",
        "  if y_test[i] == 0 or y_test[i] == 1:\n",
        "    test_indices_01.append(i)\n",
        "  elif y_test[i] == 2 or y_test[i]== 3:\n",
        "    test_indices_23.append(i)\n",
        "  elif y_test[i] == 4 or y_test[i] == 5:\n",
        "    test_indices_45.append(i)\n",
        "  elif y_test[i] == 6 or y_test[i] == 7:\n",
        "    test_indices_67.append(i)\n",
        "  elif y_test[i] == 8 or y_test[i] == 9:\n",
        "    test_indices_89.append(i)\n",
        "\n",
        "\n",
        "\n",
        "X_train_01 = X_train[train_indices_01]\n",
        "y_train_01 = y_train[train_indices_01]\n",
        "X_test_01 = X_test[test_indices_01]\n",
        "y_test_01 = y_test[test_indices_01]\n",
        "\n",
        "X_train_23 = X_train[train_indices_23]\n",
        "y_train_23 = y_train[train_indices_23]\n",
        "X_test_23 = X_test[test_indices_23]\n",
        "y_test_23 = y_test[test_indices_23]\n",
        "\n",
        "X_train_45 = X_train[train_indices_45]\n",
        "y_train_45 = y_train[train_indices_45]\n",
        "X_test_45 = X_test[test_indices_45]\n",
        "y_test_45 = y_test[test_indices_45]\n",
        "\n",
        "X_train_67 = X_train[train_indices_67]\n",
        "y_train_67 = y_train[train_indices_67]\n",
        "X_test_67 = X_test[test_indices_67]\n",
        "y_test_67 = y_test[test_indices_67]\n",
        "\n",
        "X_train_89 = X_train[train_indices_89]\n",
        "y_train_89 = y_train[train_indices_89]\n",
        "X_test_89 = X_test[test_indices_89]\n",
        "y_test_89 = y_test[test_indices_89]\n",
        "\n",
        "\n",
        "X_test_01 = X_test_01.to(device)"
      ],
      "execution_count": null,
      "outputs": []
    },
    {
      "cell_type": "code",
      "metadata": {
        "colab": {
          "base_uri": "https://localhost:8080/",
          "height": 1000
        },
        "id": "H5f8OhDCKlZ1",
        "outputId": "964cf7e6-35a0-4a89-cbdf-2aa64768bd70"
      },
      "source": [
        "import matplotlib.pyplot as plt\n",
        "def plot_num(x, y, count = 5):\n",
        "    for i in np.random.permutation(len(x))[:count]:\n",
        "        plt.imshow(x[i,:,:])\n",
        "        plt.show()\n",
        "        print(y[i])\n",
        "plot_num(X_train_01, y_train_01) \n",
        "plot_num(trans(X_train_67), y_train_67)\n",
        "\n"
      ],
      "execution_count": null,
      "outputs": [
        {
          "output_type": "display_data",
          "data": {
            "text/plain": [
              "<Figure size 432x288 with 1 Axes>"
            ],
            "image/png": "[encoded data removed]"
          },
          "metadata": {
            "needs_background": "light"
          }
        },
        {
          "output_type": "stream",
          "name": "stdout",
          "text": [
            "tensor(1)\n"
          ]
        },
        {
          "output_type": "display_data",
          "data": {
            "text/plain": [
              "<Figure size 432x288 with 1 Axes>"
            ],
            "image/png": "[encoded data removed]"
          },
          "metadata": {
            "needs_background": "light"
          }
        },
        {
          "output_type": "stream",
          "name": "stdout",
          "text": [
            "tensor(1)\n"
          ]
        },
        {
          "output_type": "display_data",
          "data": {
            "text/plain": [
              "<Figure size 432x288 with 1 Axes>"
            ],
            "image/png": "[encoded data removed]"
          },
          "metadata": {
            "needs_background": "light"
          }
        },
        {
          "output_type": "stream",
          "name": "stdout",
          "text": [
            "tensor(0)\n"
          ]
        },
        {
          "output_type": "display_data",
          "data": {
            "text/plain": [
              "<Figure size 432x288 with 1 Axes>"
            ],
            "image/png": "[encoded data removed]"
          },
          "metadata": {
            "needs_background": "light"
          }
        },
        {
          "output_type": "stream",
          "name": "stdout",
          "text": [
            "tensor(1)\n"
          ]
        },
        {
          "output_type": "display_data",
          "data": {
            "text/plain": [
              "<Figure size 432x288 with 1 Axes>"
            ],
            "image/png": "[encoded data removed]"
          },
          "metadata": {
            "needs_background": "light"
          }
        },
        {
          "output_type": "stream",
          "name": "stdout",
          "text": [
            "tensor(1)\n"
          ]
        },
        {
          "output_type": "display_data",
          "data": {
            "text/plain": [
              "<Figure size 432x288 with 1 Axes>"
            ],
            "image/png": "[encoded data removed]"
          },
          "metadata": {
            "needs_background": "light"
          }
        },
        {
          "output_type": "stream",
          "name": "stdout",
          "text": [
            "tensor(6)\n"
          ]
        },
        {
          "output_type": "display_data",
          "data": {
            "text/plain": [
              "<Figure size 432x288 with 1 Axes>"
            ],
            "image/png": "[encoded data removed]"
          },
          "metadata": {
            "needs_background": "light"
          }
        },
        {
          "output_type": "stream",
          "name": "stdout",
          "text": [
            "tensor(6)\n"
          ]
        },
        {
          "output_type": "display_data",
          "data": {
            "text/plain": [
              "<Figure size 432x288 with 1 Axes>"
            ],
            "image/png": "[encoded data removed]"
          },
          "metadata": {
            "needs_background": "light"
          }
        },
        {
          "output_type": "stream",
          "name": "stdout",
          "text": [
            "tensor(7)\n"
          ]
        },
        {
          "output_type": "display_data",
          "data": {
            "text/plain": [
              "<Figure size 432x288 with 1 Axes>"
            ],
            "image/png": "[encoded data removed]"
          },
          "metadata": {
            "needs_background": "light"
          }
        },
        {
          "output_type": "stream",
          "name": "stdout",
          "text": [
            "tensor(6)\n"
          ]
        },
        {
          "output_type": "display_data",
          "data": {
            "text/plain": [
              "<Figure size 432x288 with 1 Axes>"
            ],
            "image/png": "[encoded data removed]"
          },
          "metadata": {
            "needs_background": "light"
          }
        },
        {
          "output_type": "stream",
          "name": "stdout",
          "text": [
            "tensor(7)\n"
          ]
        }
      ]
    },
    {
      "cell_type": "code",
      "metadata": {
        "id": "FYJP6Jm2JcsO"
      },
      "source": [
        "def aug_extended_data(data, answers, count = 4):\n",
        "    aug_data = data\n",
        "    aug_answers = answers\n",
        "    print(len(aug_data))\n",
        "    for i in range(count):\n",
        "        aug_data = torch.cat((aug_data, trans(data)))\n",
        "        aug_answers = torch.cat((aug_answers, answers))\n",
        "    print(len(aug_data))\n",
        "    aug_permutation = np.random.permutation(len(aug_data))\n",
        "    aug_data = aug_data[aug_permutation]\n",
        "    aug_answers = aug_answers[aug_permutation]\n",
        "    return aug_data, aug_answers\n"
      ],
      "execution_count": null,
      "outputs": []
    },
    {
      "cell_type": "code",
      "metadata": {
        "colab": {
          "base_uri": "https://localhost:8080/"
        },
        "id": "veWcmiHfXWj-",
        "outputId": "da2e4f7b-5eb0-4503-8a16-f20a473336e2"
      },
      "source": [
        "aug_data, aug_answers = aug_extended_data(X_train_01[:3,:,:], y_train_01[:3])"
      ],
      "execution_count": null,
      "outputs": [
        {
          "output_type": "stream",
          "name": "stdout",
          "text": [
            "3\n",
            "15\n"
          ]
        }
      ]
    },
    {
      "cell_type": "code",
      "metadata": {
        "colab": {
          "base_uri": "https://localhost:8080/",
          "height": 1000
        },
        "id": "BXIJ7RfCZJI2",
        "outputId": "b73c5fcc-9c3c-47b7-c3b4-7a6d2e02544d"
      },
      "source": [
        "for i in range(len(aug_data)):\n",
        "    plt.imshow(trans(aug_data)[i,:,:])\n",
        "    plt.show()\n",
        "    print(aug_answers[i])"
      ],
      "execution_count": null,
      "outputs": [
        {
          "output_type": "display_data",
          "data": {
            "text/plain": [
              "<Figure size 432x288 with 1 Axes>"
            ],
            "image/png": "[encoded data removed]"
          },
          "metadata": {
            "needs_background": "light"
          }
        },
        {
          "output_type": "stream",
          "name": "stdout",
          "text": [
            "tensor(0)\n"
          ]
        },
        {
          "output_type": "display_data",
          "data": {
            "text/plain": [
              "<Figure size 432x288 with 1 Axes>"
            ],
            "image/png": "[encoded data removed]"
          },
          "metadata": {
            "needs_background": "light"
          }
        },
        {
          "output_type": "stream",
          "name": "stdout",
          "text": [
            "tensor(1)\n"
          ]
        },
        {
          "output_type": "display_data",
          "data": {
            "text/plain": [
              "<Figure size 432x288 with 1 Axes>"
            ],
            "image/png": "[encoded data removed]"
          },
          "metadata": {
            "needs_background": "light"
          }
        },
        {
          "output_type": "stream",
          "name": "stdout",
          "text": [
            "tensor(1)\n"
          ]
        },
        {
          "output_type": "display_data",
          "data": {
            "text/plain": [
              "<Figure size 432x288 with 1 Axes>"
            ],
            "image/png": "[encoded data removed]"
          },
          "metadata": {
            "needs_background": "light"
          }
        },
        {
          "output_type": "stream",
          "name": "stdout",
          "text": [
            "tensor(1)\n"
          ]
        },
        {
          "output_type": "display_data",
          "data": {
            "text/plain": [
              "<Figure size 432x288 with 1 Axes>"
            ],
            "image/png": "[encoded data removed]"
          },
          "metadata": {
            "needs_background": "light"
          }
        },
        {
          "output_type": "stream",
          "name": "stdout",
          "text": [
            "tensor(0)\n"
          ]
        },
        {
          "output_type": "display_data",
          "data": {
            "text/plain": [
              "<Figure size 432x288 with 1 Axes>"
            ],
            "image/png": "[encoded data removed]"
          },
          "metadata": {
            "needs_background": "light"
          }
        },
        {
          "output_type": "stream",
          "name": "stdout",
          "text": [
            "tensor(1)\n"
          ]
        },
        {
          "output_type": "display_data",
          "data": {
            "text/plain": [
              "<Figure size 432x288 with 1 Axes>"
            ],
            "image/png": "[encoded data removed]"
          },
          "metadata": {
            "needs_background": "light"
          }
        },
        {
          "output_type": "stream",
          "name": "stdout",
          "text": [
            "tensor(1)\n"
          ]
        },
        {
          "output_type": "display_data",
          "data": {
            "text/plain": [
              "<Figure size 432x288 with 1 Axes>"
            ],
            "image/png": "[encoded data removed]"
          },
          "metadata": {
            "needs_background": "light"
          }
        },
        {
          "output_type": "stream",
          "name": "stdout",
          "text": [
            "tensor(1)\n"
          ]
        },
        {
          "output_type": "display_data",
          "data": {
            "text/plain": [
              "<Figure size 432x288 with 1 Axes>"
            ],
            "image/png": "[encoded data removed]"
          },
          "metadata": {
            "needs_background": "light"
          }
        },
        {
          "output_type": "stream",
          "name": "stdout",
          "text": [
            "tensor(0)\n"
          ]
        },
        {
          "output_type": "display_data",
          "data": {
            "text/plain": [
              "<Figure size 432x288 with 1 Axes>"
            ],
            "image/png": "[encoded data removed]"
          },
          "metadata": {
            "needs_background": "light"
          }
        },
        {
          "output_type": "stream",
          "name": "stdout",
          "text": [
            "tensor(1)\n"
          ]
        },
        {
          "output_type": "display_data",
          "data": {
            "text/plain": [
              "<Figure size 432x288 with 1 Axes>"
            ],
            "image/png": "[encoded data removed]"
          },
          "metadata": {
            "needs_background": "light"
          }
        },
        {
          "output_type": "stream",
          "name": "stdout",
          "text": [
            "tensor(1)\n"
          ]
        },
        {
          "output_type": "display_data",
          "data": {
            "text/plain": [
              "<Figure size 432x288 with 1 Axes>"
            ],
            "image/png": "[encoded data removed]"
          },
          "metadata": {
            "needs_background": "light"
          }
        },
        {
          "output_type": "stream",
          "name": "stdout",
          "text": [
            "tensor(1)\n"
          ]
        },
        {
          "output_type": "display_data",
          "data": {
            "text/plain": [
              "<Figure size 432x288 with 1 Axes>"
            ],
            "image/png": "[encoded data removed]"
          },
          "metadata": {
            "needs_background": "light"
          }
        },
        {
          "output_type": "stream",
          "name": "stdout",
          "text": [
            "tensor(0)\n"
          ]
        },
        {
          "output_type": "display_data",
          "data": {
            "text/plain": [
              "<Figure size 432x288 with 1 Axes>"
            ],
            "image/png": "[encoded data removed]"
          },
          "metadata": {
            "needs_background": "light"
          }
        },
        {
          "output_type": "stream",
          "name": "stdout",
          "text": [
            "tensor(0)\n"
          ]
        },
        {
          "output_type": "display_data",
          "data": {
            "text/plain": [
              "<Figure size 432x288 with 1 Axes>"
            ],
            "image/png": "[encoded data removed]"
          },
          "metadata": {
            "needs_background": "light"
          }
        },
        {
          "output_type": "stream",
          "name": "stdout",
          "text": [
            "tensor(1)\n"
          ]
        }
      ]
    },
    {
      "cell_type": "code",
      "metadata": {
        "id": "Y9rc7SDtZjyo"
      },
      "source": [
        "X_train = X_train.unsqueeze(1).float()\n",
        "X_test = X_test.unsqueeze(1).float()\n",
        "\n",
        "X_train_01 = X_train_01.unsqueeze(1).float()\n",
        "X_test_01 = X_test_01.unsqueeze(1).float()\n",
        "\n",
        "X_train_23 = X_train_23.unsqueeze(1).float()\n",
        "X_test_23 = X_test_23.unsqueeze(1).float()\n",
        "\n",
        "X_train_45 = X_train_45.unsqueeze(1).float()\n",
        "X_test_45 = X_test_45.unsqueeze(1).float()\n",
        "\n",
        "X_train_67 = X_train_67.unsqueeze(1).float()\n",
        "X_test_67 = X_test_67.unsqueeze(1).float()\n",
        "\n",
        "X_train_89 = X_train_89.unsqueeze(1).float()\n",
        "X_test_89 = X_test_89.unsqueeze(1).float()"
      ],
      "execution_count": null,
      "outputs": []
    },
    {
      "cell_type": "code",
      "metadata": {
        "id": "pBPgRDfxaqqC"
      },
      "source": [
        "class YannLecun(torch.nn.Module):\n",
        "  def __init__(self,activation = 'leaky relu', pooling = 'max', conv_size = 3, use_batch_norm = False, use_dropout = False):\n",
        "    super(YannLecun, self).__init__()\n",
        "    self.conv_size = conv_size\n",
        "    self.use_batch_norm = use_batch_norm\n",
        "    self.use_dropout = use_dropout\n",
        "\n",
        "    if activation == 'relu':\n",
        "      activation_function = torch.nn.ReLU()\n",
        "    elif activation == 'tanh':\n",
        "      activation_function = torch.nn.Tanh()\n",
        "    elif activation == 'leaky relu':\n",
        "        activation_function = torch.nn.LeakyReLU()\n",
        "    else:\n",
        "      raise NotImplementedError   \n",
        "\n",
        "    if pooling == 'max':\n",
        "      pooling_layer = torch.nn.MaxPool2d(kernel_size = 2, stride = 2)\n",
        "    elif pooling == 'avg':\n",
        "      pooling_layer = torch.nn.AvgPool2d(kernel_size = 2, stride = 2)\n",
        "    else:\n",
        "      raise NotImplementedError   \n",
        "    \n",
        "    if conv_size == 3:\n",
        "      self.conv1_1 = torch.nn.Conv2d(in_channels=1, out_channels=6, kernel_size=3, padding=1)\n",
        "      self.conv1_2 = torch.nn.Conv2d(in_channels=6, out_channels=6, kernel_size=3, padding=1)\n",
        "    elif conv_size == 5:\n",
        "      self.conv1 = torch.nn.Conv2d(in_channels=1, out_channels=6, kernel_size=5, padding=2)\n",
        "    else:\n",
        "      raise NotImplementedError\n",
        "    \n",
        "    self.act1 = activation_function\n",
        "    self.bn1 = torch.nn.BatchNorm2d(num_features=6)\n",
        "    self.pool1 = pooling_layer\n",
        "    self.dp1 = torch.nn.Dropout(p = 0.25) \n",
        "\n",
        "    if conv_size == 3:\n",
        "      self.conv2_1 = torch.nn.Conv2d(in_channels=6, out_channels=16, kernel_size=3, padding=0)\n",
        "      self.conv2_2 = torch.nn.Conv2d(in_channels=16, out_channels=16, kernel_size=3, padding=0)\n",
        "    elif conv_size == 5:\n",
        "      self.conv2 = torch.nn.Conv2d(in_channels=1, out_channels=6, kernel_size=5, padding=0)\n",
        "    else:\n",
        "      raise NotImplementedError\n",
        "\n",
        "    self.act2 = activation_function\n",
        "    self.bn2 = torch.nn.BatchNorm2d(num_features=16)\n",
        "    self.pool2 = pooling_layer\n",
        "    self.dp2 = torch.nn.Dropout(p=0.25) \n",
        "\n",
        "    self.fc1 = torch.nn.Linear(5*5*16, 120)\n",
        "    self.act3 = torch.nn.Tanh()\n",
        "    self.dp3 = torch.nn.Dropout(p = 0.5) \n",
        "\n",
        "    self.fc2 = torch.nn.Linear(120,84)\n",
        "    self.act4 = torch.nn.Tanh()\n",
        "    self.dp4 = torch.nn.Dropout(p=0.5) \n",
        "\n",
        "    self.fc3 = torch.nn.Linear(84,10)\n",
        "    self.act5 = torch.nn.Softmax()\n",
        "\n",
        "\n",
        "  def forward(self,x):\n",
        "    if self.conv_size == 3:\n",
        "      x = self.conv1_1(x)\n",
        "      x = self.conv1_2(x)\n",
        "    elif self.conv_size == 5:\n",
        "      x = self.conv1(x)\n",
        "\n",
        "    x = self.act1(x)\n",
        "    if self.use_batch_norm:\n",
        "      x = self.bn1(x)\n",
        "    x = self.pool1(x)\n",
        "    if self.use_dropout:\n",
        "      x = self.dp1(x)\n",
        "\n",
        "\n",
        "    if self.conv_size == 3:\n",
        "      x = self.conv2_1(x)\n",
        "      x = self.conv2_2(x)\n",
        "    elif self.conv_size == 5:\n",
        "      x = self.conv2(x)\n",
        "    \n",
        "    x = self.act2(x)\n",
        "    if self.use_batch_norm:\n",
        "      x = self.bn2(x)\n",
        "    x = self.pool2(x)\n",
        "    if self.use_dropout:\n",
        "      x = self.dp2(x)\n",
        "\n",
        "    x = x.view(x.size(0),x.size(1)*x.size(2)*x.size(3))\n",
        "\n",
        "    x = self.fc1(x)\n",
        "    x = self.act3(x)\n",
        "    if self.use_dropout:\n",
        "      x = self.dp3(x)\n",
        "    x = self.fc2(x)\n",
        "    x = self.act4(x)\n",
        "    if self.use_dropout:\n",
        "      x = self.dp4(x)\n",
        "    x = self.fc3(x)\n",
        "    x = self.act5(x)\n",
        "    \n",
        "    x = x.to(device)\n",
        "\n",
        "    return x\n",
        "\n",
        "yann_lecun = YannLecun(use_batch_norm = True, use_dropout =True)\n",
        "yann_lecun = yann_lecun.to(device)\n",
        "loss = torch.nn.CrossEntropyLoss()\n",
        "my_optimizer = torch.optim.Adam(yann_lecun.parameters(), lr=4.0e-4)"
      ],
      "execution_count": null,
      "outputs": []
    },
    {
      "cell_type": "code",
      "metadata": {
        "id": "UkQCBXCkbLP5"
      },
      "source": [
        "def variable(t: torch.Tensor, use_cuda=True, **kwargs): \n",
        "    if torch.cuda.is_available() and use_cuda:         \n",
        "        t = t.cuda()\n",
        "    return Variable(t, **kwargs)\n",
        "\n",
        "\n",
        "class EWC(object):\n",
        "    def __init__(self, old_x, old_y = None, model = yann_lecun):\n",
        "\n",
        "        self.model = model\n",
        "        self.old_x = old_x\n",
        "        self.old_y = old_y\n",
        "        self.params = {n: p for n, p in self.model.named_parameters() if p.requires_grad}\n",
        "        self._old_params = {}\n",
        "        self._precision_matrices = self._diag_fisher() \n",
        "\n",
        "        for n, p in deepcopy(self.params).items():\n",
        "            self._old_params[n] = variable(p.data)\n",
        "\n",
        "\n",
        "    def _diag_fisher(self):\n",
        "        precision_matrices = {}\n",
        "        for n, p in deepcopy(self.params).items(): \n",
        "            p.data.zero_() \n",
        "            precision_matrices[n] = variable(p.data) \n",
        "\n",
        "        self.model.eval() \n",
        "        self.model.zero_grad() \n",
        "        self.old_x = variable(self.old_x) \n",
        "        output = self.model(self.old_x)\n",
        "        output = output.to(device)\n",
        "        loss = F.nll_loss(F.log_softmax(output, dim=1), self.old_y)\n",
        "        loss.backward()\n",
        "\n",
        "        for n, p in self.model.named_parameters():\n",
        "            precision_matrices[n].data += p.grad.data ** 2 / len(self.old_x)\n",
        "\n",
        "        precision_matrices = {n: p for n, p in precision_matrices.items()}\n",
        "        return precision_matrices\n",
        "\n",
        "    def penalty(self, model: nn.Module):\n",
        "        loss = 0\n",
        "        for n, p in model.named_parameters():\n",
        "            _loss = self._precision_matrices[n].data * (p - self._old_params[n].data) ** 2\n",
        "            loss += _loss.sum()\n",
        "        return loss\n"
      ],
      "execution_count": null,
      "outputs": []
    },
    {
      "cell_type": "code",
      "metadata": {
        "id": "yCeiuTnLbLYM"
      },
      "source": [
        "def normal_train(X_trains, y_trains, X_tests, y_tests, model = yann_lecun, optimizer = my_optimizer, epochs = 5, batch_sizes = 100):\n",
        "    model.train() \n",
        "    batch_size = batch_sizes\n",
        "    test_accuracy_history = []\n",
        "    test_loss_history = []\n",
        "\n",
        "    X_tests = X_tests.to(device)\n",
        "    y_tests = y_tests.to(device)\n",
        "\n",
        "    for epoch in range(epochs):\n",
        "        order = np.random.permutation(len(X_trains))\n",
        "        for start_index in range(0,len(X_trains), batch_size):\n",
        "            batch_indexes = order[start_index:start_index+batch_size]\n",
        "\n",
        "            X_batch = X_trains[batch_indexes].to(device)\n",
        "            y_batch = y_trains[batch_indexes].to(device)\n",
        "\n",
        "            X_batch, y_batch = variable(X_batch), variable(y_batch)\n",
        "            optimizer.zero_grad()\n",
        "            preds = model.forward(X_batch)\n",
        "            loss_value = loss(preds, y_batch)\n",
        "            loss_value.backward()\n",
        "            optimizer.step()\n",
        "        \n",
        "        test_preds = model.forward(X_tests)\n",
        "        test_loss_history.append(loss(test_preds, y_tests).data.cpu())\n",
        "\n",
        "        accuracy = (test_preds.argmax(dim = 1) == y_tests).float().mean().data.cpu()\n",
        "        test_accuracy_history.append(accuracy)\n",
        "        print(accuracy)  \n",
        "\n",
        "\n",
        "def ewc_train(X_trains, y_trains, X_tests, y_tests, old_x_test, old_y_test, number, \n",
        "              ewc: EWC, importance, epochs = 0, model = yann_lecun, optimizer = my_optimizer, batch_sizes=100):\n",
        "    model.train()\n",
        "    batch_size = batch_sizes\n",
        "    test_accuracy_history = []\n",
        "    test_loss_history = []\n",
        "\n",
        "    X_tests = X_tests.to(device)\n",
        "    y_tests = y_tests.to(device)\n",
        "    temp_epoch = 1\n",
        "    while True:\n",
        "        order = np.random.permutation(len(X_trains))\n",
        "        for start_index in range(0,len(X_trains), batch_size):\n",
        "            batch_indexes = order[start_index:start_index+batch_size]\n",
        "\n",
        "            X_batch = X_trains[batch_indexes].to(device)\n",
        "            y_batch = y_trains[batch_indexes].to(device)\n",
        "\n",
        "            X_batch, y_batch = variable(X_batch), variable(y_batch)\n",
        "            optimizer.zero_grad()\n",
        "            preds = model.forward(X_batch)\n",
        "            loss_value = loss(preds, y_batch) + importance * ewc.penalty(model)\n",
        "            loss_value.backward()\n",
        "            optimizer.step()\n",
        "        \n",
        "        test_preds = model.forward(X_tests)\n",
        "        test_loss_history.append(loss(test_preds, y_tests).data.cpu())\n",
        "\n",
        "        accuracy = (test_preds.argmax(dim = 1) == y_tests).float().mean().data.cpu()\n",
        "        test_accuracy_history.append(accuracy)\n",
        "        old_accuracy = test_accuracy(old_x_test, old_y_test)\n",
        "        print('accuracy on current task: ',accuracy)\n",
        "        print('accuracy on old task: ', old_accuracy)\n",
        "        if number == 1:\n",
        "            print('accuracy on 01: ', test_accuracy(X_test_01,y_test_01),'\\n')\n",
        "        elif number == 2:\n",
        "            print('accuracy on 01: ', test_accuracy(X_test_01,y_test_01))\n",
        "            print('accuracy on 23: ', test_accuracy(X_test_23,y_test_23),'\\n')\n",
        "        elif number == 3:\n",
        "            print('accuracy on 01: ', test_accuracy(X_test_01,y_test_01))\n",
        "            print('accuracy on 23: ', test_accuracy(X_test_23,y_test_23))\n",
        "            print('accuracy on 45: ', test_accuracy(X_test_45,y_test_45),'\\n')\n",
        "        elif number == 4:\n",
        "            print('accuracy on 01: ', test_accuracy(X_test_01,y_test_01))\n",
        "            print('accuracy on 23: ', test_accuracy(X_test_23,y_test_23))\n",
        "            print('accuracy on 45: ', test_accuracy(X_test_45,y_test_45))\n",
        "            print('accuracy on 67: ', test_accuracy(X_test_67,y_test_67),'\\n')\n",
        "\n",
        "        if temp_epoch == epochs:\n",
        "            break\n",
        "        temp_epoch += 1\n",
        "        if (accuracy >= old_accuracy or (abs(accuracy - old_accuracy) <= 0.05 and number == 1) or abs(accuracy - old_accuracy) <= 0.04) and epochs == 0:\n",
        "            break\n",
        "\n",
        "def test_accuracy(x_test, y_test):\n",
        "    x_test = x_test.to(device)\n",
        "    test_preds = yann_lecun.forward(x_test)\n",
        "    test_preds = test_preds.to(device)\n",
        "    y_test = y_test.to(device)\n",
        "    accuracy = (test_preds.argmax(dim = 1) == y_test).float().mean().data.cpu()\n",
        "    return accuracy\n",
        "\n",
        "\n",
        "def get_indices(x_train, percentage):\n",
        "    order = np.random.permutation(len(x_train))\n",
        "    #print('order type is ', type(order))\n",
        "    return order[:(len(order)*percentage)//100]\n",
        "\n",
        "def get_worst_ind(model, x_train, y_train, percentage):\n",
        "    preds = model.forward(x_train.to(device))\n",
        "    enough = (len(preds)*percentage)//100\n",
        "    worst_inds = []\n",
        "    for i in range(len(preds)):\n",
        "        if preds[i].argmax() != y_train[i]:\n",
        "            worst_inds.append(i)\n",
        "    already_have = len(worst_inds)\n",
        "    if already_have >= enough:\n",
        "        return np.array(worst_inds[:enough])\n",
        "    set_worst_inds = set(worst_inds)\n",
        "    print(set_worst_inds)\n",
        "    for i in np.random.permutation(len(x_train)):\n",
        "        if already_have == enough: return np.array(worst_inds)\n",
        "        if i not in set_worst_inds:\n",
        "            worst_inds.append(i)\n",
        "            already_have += 1\n",
        "\n"
      ],
      "execution_count": null,
      "outputs": []
    },
    {
      "cell_type": "code",
      "metadata": {
        "colab": {
          "base_uri": "https://localhost:8080/"
        },
        "id": "egYrm5wWbLeS",
        "outputId": "7aaa8a9f-a503-455f-bb16-734ab574847a"
      },
      "source": [
        "pytorch_total_params = sum(p.numel() for p in yann_lecun.parameters())\n",
        "print(pytorch_total_params)"
      ],
      "execution_count": null,
      "outputs": [
        {
          "output_type": "stream",
          "name": "stdout",
          "text": [
            "62768\n"
          ]
        }
      ]
    },
    {
      "cell_type": "code",
      "metadata": {
        "colab": {
          "base_uri": "https://localhost:8080/"
        },
        "id": "0gz_E6vMbLnb",
        "outputId": "87deb307-0c3f-45bf-b36c-e583225aed7b"
      },
      "source": [
        "%%time\n",
        "normal_train(X_train_01,y_train_01,X_test_01,y_test_01)"
      ],
      "execution_count": null,
      "outputs": [
        {
          "output_type": "stream",
          "name": "stderr",
          "text": [
            "/usr/local/lib/python3.7/dist-packages/ipykernel_launcher.py:101: UserWarning: Implicit dimension choice for softmax has been deprecated. Change the call to include dim=X as an argument.\n"
          ]
        },
        {
          "output_type": "stream",
          "name": "stdout",
          "text": [
            "tensor(0.9986)\n",
            "tensor(0.9995)\n",
            "tensor(0.9995)\n",
            "tensor(0.9991)\n",
            "tensor(0.9995)\n",
            "CPU times: user 7.66 s, sys: 97.7 ms, total: 7.76 s\n",
            "Wall time: 7.95 s\n"
          ]
        }
      ]
    },
    {
      "cell_type": "code",
      "metadata": {
        "colab": {
          "base_uri": "https://localhost:8080/"
        },
        "id": "qq4FJMFMbLur",
        "outputId": "84955989-ea04-4c80-cd7b-0c7f94a24663"
      },
      "source": [
        "\n",
        "old_tasks = X_train_01\n",
        "old_y = y_train_01\n",
        "old_x_test = X_test_01\n",
        "old_y_test = y_test_01\n",
        "\n",
        "order = get_worst_ind(yann_lecun, X_train_01, y_train_01, 20)\n",
        "aug_x_train_01, aug_y_train_01 = aug_extended_data(X_train_01[order], y_train_01[order])\n",
        "\n",
        "cur_x_train = torch.cat((X_train_23, aug_x_train_01))\n",
        "cur_y_train = torch.cat((y_train_23.to(device), aug_y_train_01.to(device)))\n",
        "new_permutation = np.random.permutation(len(cur_x_train))\n",
        "cur_x_train = cur_x_train[new_permutation]\n",
        "cur_y_train = cur_y_train[new_permutation]\n",
        "\n",
        "old_y = old_y.to(device)\n",
        "my_ewc = EWC(old_tasks, old_y)"
      ],
      "execution_count": null,
      "outputs": [
        {
          "output_type": "stream",
          "name": "stderr",
          "text": [
            "/usr/local/lib/python3.7/dist-packages/ipykernel_launcher.py:101: UserWarning: Implicit dimension choice for softmax has been deprecated. Change the call to include dim=X as an argument.\n"
          ]
        },
        {
          "output_type": "stream",
          "name": "stdout",
          "text": [
            "{6626, 4611, 8546, 1449, 6409, 4495, 8184, 314}\n",
            "2533\n",
            "12665\n"
          ]
        }
      ]
    },
    {
      "cell_type": "code",
      "metadata": {
        "colab": {
          "base_uri": "https://localhost:8080/"
        },
        "id": "NfMAhYJIbL1E",
        "outputId": "e51d0ed8-9f7b-4301-cd5c-a51ebbfbb7ca"
      },
      "source": [
        "%%time\n",
        "ewc_train(cur_x_train,cur_y_train,X_test_23,y_test_23,old_x_test, old_y_test,1, my_ewc, importance=9e13)"
      ],
      "execution_count": null,
      "outputs": [
        {
          "output_type": "stream",
          "name": "stderr",
          "text": [
            "/usr/local/lib/python3.7/dist-packages/ipykernel_launcher.py:101: UserWarning: Implicit dimension choice for softmax has been deprecated. Change the call to include dim=X as an argument.\n"
          ]
        },
        {
          "output_type": "stream",
          "name": "stdout",
          "text": [
            "accuracy on current task:  tensor(0.)\n",
            "accuracy on old task:  tensor(0.9991)\n",
            "accuracy on 01:  tensor(0.9991) \n",
            "\n",
            "accuracy on current task:  tensor(0.)\n",
            "accuracy on old task:  tensor(0.9981)\n",
            "accuracy on 01:  tensor(0.9991) \n",
            "\n",
            "accuracy on current task:  tensor(0.)\n",
            "accuracy on old task:  tensor(0.9991)\n",
            "accuracy on 01:  tensor(0.9991) \n",
            "\n",
            "accuracy on current task:  tensor(0.7845)\n",
            "accuracy on old task:  tensor(0.9868)\n",
            "accuracy on 01:  tensor(0.9891) \n",
            "\n",
            "accuracy on current task:  tensor(0.9226)\n",
            "accuracy on old task:  tensor(0.9830)\n",
            "accuracy on 01:  tensor(0.9825) \n",
            "\n",
            "accuracy on current task:  tensor(0.9354)\n",
            "accuracy on old task:  tensor(0.9764)\n",
            "accuracy on 01:  tensor(0.9773) \n",
            "\n",
            "CPU times: user 23.5 s, sys: 228 ms, total: 23.7 s\n",
            "Wall time: 23.7 s\n"
          ]
        }
      ]
    },
    {
      "cell_type": "code",
      "metadata": {
        "id": "dLHIr95JbL8a"
      },
      "source": [
        "#ewc_train(cur_x_train,cur_y_train,X_test_23,y_test_23,old_x_test, old_y_test, 1, my_ewc, epochs = 1, importance = 1e15)"
      ],
      "execution_count": null,
      "outputs": []
    },
    {
      "cell_type": "code",
      "metadata": {
        "colab": {
          "base_uri": "https://localhost:8080/"
        },
        "id": "XSybGWjHbMDI",
        "outputId": "e396673f-d156-4bee-93d6-f8670c9afa04"
      },
      "source": [
        "print(f\"Accuracy on 01: {test_accuracy(old_x_test, old_y_test)}\")\n",
        "cur_x_test = X_test_23\n",
        "cur_x_test = cur_x_test.to(device)\n",
        "cur_y_test = y_test_23\n",
        "\n",
        "print(f\"Accuracy on 23: {test_accuracy(cur_x_test, cur_y_test)}\")"
      ],
      "execution_count": null,
      "outputs": [
        {
          "output_type": "stream",
          "name": "stdout",
          "text": [
            "Accuracy on 01: 0.9810874462127686\n",
            "Accuracy on 23: 0.9275220036506653\n"
          ]
        },
        {
          "output_type": "stream",
          "name": "stderr",
          "text": [
            "/usr/local/lib/python3.7/dist-packages/ipykernel_launcher.py:101: UserWarning: Implicit dimension choice for softmax has been deprecated. Change the call to include dim=X as an argument.\n"
          ]
        }
      ]
    },
    {
      "cell_type": "code",
      "metadata": {
        "colab": {
          "base_uri": "https://localhost:8080/"
        },
        "id": "kjsq3zTPbMJ-",
        "outputId": "416d391e-f7e7-4bbc-ac33-968e077f0b4e"
      },
      "source": [
        "old_tasks = torch.cat((old_tasks,X_train_23))\n",
        "old_x_test = torch.cat((old_x_test, cur_x_test))\n",
        "old_y_test = torch.cat((old_y_test,cur_y_test))\n",
        "y_train_23 = y_train_23.to(device)\n",
        "old_y = torch.cat((old_y, y_train_23))\n",
        "old_y = old_y.to(device)\n",
        "\n",
        "\n",
        "order_1 = get_worst_ind(yann_lecun, X_train_01, y_train_01, 20)\n",
        "order_2 = get_worst_ind(yann_lecun, X_train_23, y_train_23, 20)\n",
        "\n",
        "aug_x_train_01, aug_y_train_01 = aug_extended_data(X_train_01[order_1], y_train_01[order_1])\n",
        "aug_x_train_23, aug_y_train_23 = aug_extended_data(X_train_23[order_2], y_train_23[order_2])\n",
        "\n",
        "\n",
        "\n",
        "cur_x_train = torch.cat((X_train_45, aug_x_train_01, aug_x_train_23))\n",
        "cur_y_train = torch.cat((y_train_45.to(device),aug_y_train_01.to(device), aug_y_train_23.to(device)))\n",
        "new_permutation = np.random.permutation(len(cur_x_train))\n",
        "cur_x_train = cur_x_train[new_permutation]\n",
        "cur_y_train = cur_y_train[new_permutation]\n",
        "my_ewc = EWC(old_tasks, old_y)"
      ],
      "execution_count": null,
      "outputs": [
        {
          "output_type": "stream",
          "name": "stderr",
          "text": [
            "/usr/local/lib/python3.7/dist-packages/ipykernel_launcher.py:101: UserWarning: Implicit dimension choice for softmax has been deprecated. Change the call to include dim=X as an argument.\n"
          ]
        },
        {
          "output_type": "stream",
          "name": "stdout",
          "text": [
            "{4097, 2054, 7, 8207, 8209, 18, 10263, 4128, 2083, 6179, 6182, 39, 2100, 10295, 56, 6204, 8261, 2134, 12378, 6235, 4089, 6243, 8303, 6263, 2175, 4225, 12430, 10386, 4252, 10399, 10412, 8365, 4274, 6323, 4277, 4278, 6331, 188, 190, 209, 8403, 8409, 6363, 6368, 8425, 8430, 12533, 10486, 249, 8442, 8446, 8447, 2307, 10501, 266, 271, 2336, 6438, 6440, 8497, 12594, 4409, 314, 2377, 12622, 4432, 8532, 345, 2396, 10589, 2404, 2407, 6503, 10607, 10610, 4470, 2429, 6533, 8586, 4495, 6551, 8600, 8603, 416, 4528, 4530, 6583, 8635, 2499, 10692, 454, 8649, 4556, 464, 6626, 10731, 492, 6643, 10745, 6654, 4607, 4611, 10755, 8710, 6667, 2578, 10773, 10782, 2599, 10796, 557, 8754, 8770, 588, 6741, 6743, 8791, 4697, 4704, 8823, 4730, 638, 6789, 6794, 2703, 4758, 10903, 10905, 6820, 2731, 10926, 8884, 8887, 8901, 4806, 6863, 6864, 8919, 10970, 2780, 8949, 11010, 4873, 11019, 11040, 6968, 838, 6984, 9032, 847, 855, 11110, 4973, 7028, 7054, 929, 2987, 11183, 2993, 9155, 7114, 5067, 973, 9165, 7119, 5084, 9184, 9191, 7146, 7152, 11255, 5118, 5120, 1028, 3105, 3106, 3107, 3108, 1061, 3110, 5167, 3120, 11311, 1082, 3133, 3136, 7236, 7238, 5194, 1113, 9313, 5230, 9326, 1139, 5247, 1153, 3202, 9359, 3221, 3225, 1202, 7348, 7370, 1230, 9423, 9437, 7394, 1257, 11506, 1281, 5382, 3349, 11545, 9507, 3366, 1329, 7474, 3381, 5429, 3389, 7506, 9561, 3418, 11613, 9569, 11620, 7528, 5490, 7559, 5512, 5524, 3495, 9639, 1449, 5548, 11707, 9662, 7634, 11737, 5599, 1513, 7657, 5613, 3568, 1524, 7673, 5629, 1561, 1563, 9765, 11815, 9773, 1590, 3650, 11876, 1637, 9836, 5754, 1668, 11915, 1677, 7827, 1690, 3740, 11935, 5794, 11952, 9912, 9914, 3773, 1727, 3779, 5828, 7876, 5835, 11981, 11984, 5841, 1755, 9972, 12022, 1786, 1787, 1794, 12055, 5915, 7988, 3896, 1850, 7998, 5952, 8011, 8024, 1882, 10082, 10084, 1893, 1899, 3957, 12153, 3971, 12164, 10122, 6030, 3995, 1949, 6046, 12195, 1958, 1968, 12238, 8162, 12260, 2033, 12274, 6135, 6137}\n",
            "{4096, 8194, 10248, 8201, 6156, 2063, 4112, 6161, 4115, 4116, 2071, 6175, 8223, 34, 10277, 38, 10280, 42, 6189, 6195, 10291, 4149, 55, 8255, 4160, 10303, 10305, 2115, 2116, 6212, 10306, 6215, 10314, 8267, 2125, 10317, 80, 8274, 4179, 8275, 8277, 4182, 10324, 89, 4185, 91, 4188, 6238, 4191, 2146, 2148, 8294, 4199, 4203, 4206, 6255, 6257, 10357, 118, 8312, 4223, 129, 6275, 2180, 10373, 134, 136, 6280, 6281, 139, 2187, 6285, 8328, 8329, 6288, 8330, 6290, 8334, 10391, 4248, 158, 4257, 162, 163, 164, 10403, 170, 2218, 6316, 8365, 6142, 8380, 10429, 6334, 4287, 6335, 4289, 4290, 8382, 10433, 197, 199, 201, 2249, 4297, 6354, 211, 10451, 10456, 10458, 2271, 2272, 6367, 4322, 6375, 234, 237, 8429, 10480, 10483, 244, 10484, 246, 2295, 8438, 10485, 2300, 10492, 8446, 256, 259, 6404, 8451, 6406, 8455, 6408, 8456, 8458, 10499, 10507, 4369, 6418, 8471, 2328, 6425, 2330, 8477, 2334, 6431, 2336, 2338, 4389, 2342, 4390, 2344, 10539, 6445, 10542, 6449, 4402, 4403, 2356, 10547, 10548, 2359, 2363, 8511, 6464, 6465, 2370, 8515, 6470, 10566, 8520, 8523, 2381, 6477, 335, 6478, 2387, 2393, 4450, 8546, 356, 4452, 2406, 6503, 8547, 10596, 10600, 2412, 2416, 4464, 6513, 8560, 10611, 10615, 10616, 4473, 2428, 10621, 2430, 4479, 4480, 2433, 386, 6531, 4484, 8575, 6534, 4488, 8587, 10636, 8590, 10644, 405, 10645, 410, 411, 6556, 2461, 6562, 419, 4520, 6569, 6570, 427, 2475, 2478, 8622, 2482, 2483, 2485, 6584, 2489, 2495, 449, 6593, 10692, 8649, 460, 464, 4562, 8658, 2517, 10712, 473, 4569, 2523, 2524, 6618, 4574, 8667, 2528, 10713, 482, 487, 4586, 2540, 4590, 2544, 497, 502, 6647, 8696, 506, 6650, 6652, 10749, 10755, 516, 2565, 518, 4613, 4620, 10764, 8718, 530, 531, 532, 4628, 6674, 8723, 2590, 6687, 8735, 8737, 8738, 6691, 6693, 8741, 8742, 2601, 10793, 6699, 2605, 560, 561, 6705, 565, 6711, 2618, 4666, 8764, 4669, 2622, 2624, 2628, 2630, 4678, 4682, 4684, 8781, 4686, 4687, 6737, 2645, 4695, 600, 4696, 6746, 8791, 6748, 2653, 10839, 8799, 10843, 6753, 8801, 10849, 2662, 624, 4723, 4726, 2679, 8822, 2681, 4730, 6779, 10878, 6790, 2697, 8843, 653, 4754, 6803, 661, 6811, 6813, 10909, 2725, 4779, 6833, 10931, 694, 4796, 2750, 8896, 707, 8901, 6857, 715, 2771, 8917, 2779, 8925, 4834, 10983, 747, 10987, 4845, 6897, 6899, 10997, 4854, 6903, 6906, 4859, 4860, 2814, 6910, 6912, 11006, 2819, 4872, 6920, 8969, 779, 6923, 8974, 8976, 11028, 8982, 4891, 6940, 11036, 11038, 6943, 8995, 11048, 9003, 812, 11053, 2862, 4910, 816, 6958, 9007, 11058, 820, 9012, 11062, 9019, 9020, 829, 2877, 11074, 2883, 2884, 2885, 9032, 11083, 2893, 2895, 11087, 851, 6995, 6996, 9049, 11097, 4963, 870, 4969, 4970, 4971, 881, 11122, 2933, 9078, 9081, 11132, 2941, 2942, 7042, 9092, 7046, 2952, 9097, 5004, 11150, 912, 9106, 915, 2963, 9107, 2966, 925, 2975, 11168, 7074, 9122, 11171, 937, 11193, 954, 5051, 3004, 11195, 7102, 3007, 5055, 7104, 9151, 3011, 11196, 7111, 5067, 972, 5074, 5075, 983, 5082, 3037, 5086, 5088, 11235, 999, 5095, 1001, 1004, 10376, 11249, 1011, 5107, 7156, 9205, 1015, 5111, 7161, 11258, 3067, 5115, 1022, 11262, 1024, 5126, 3082, 1041, 1043, 7187, 9235, 9236, 1047, 11288, 9241, 5149, 3102, 7206, 9254, 9263, 11311, 1073, 7222, 9275, 11325, 11330, 1091, 3144, 5192, 5193, 7240, 1100, 9292, 1103, 7248, 9297, 3154, 11343, 1112, 5208, 3162, 9307, 9308, 11355, 11357, 5215, 9313, 1122, 5219, 7268, 9317, 11367, 3180, 5228, 5231, 3185, 11380, 3189, 5237, 3191, 9335, 11381, 3196, 7295, 11391, 7300, 9348, 11398, 11401, 3210, 9356, 3213, 7311, 9359, 7313, 11410, 1171, 11412, 5269, 3222, 3223, 1176, 7317, 7325, 1183, 7329, 1198, 11440, 11442, 5304, 9400, 11448, 5308, 3262, 5316, 9413, 11466, 5327, 1232, 11478, 7386, 3291, 1246, 7391, 7395, 1252, 5352, 1258, 5355, 5356, 1263, 1264, 3313, 5359, 5360, 11508, 1269, 5365, 7413, 9465, 11514, 11516, 1278, 3329, 3331, 3333, 9477, 9479, 11525, 1290, 9485, 1295, 3352, 11546, 5406, 7456, 1317, 1318, 3368, 3372, 9517, 1326, 9518, 9521, 1331, 5436, 7485, 5439, 11584, 1345, 7490, 1349, 11589, 3399, 3400, 7497, 11591, 7499, 11592, 5454, 7505, 9553, 1363, 9554, 7509, 9556, 7513, 11609, 1371, 7520, 11671, 9573, 7527, 3432, 7530, 9586, 7539, 3446, 1399, 7543, 9599, 1408, 9603, 1416, 1427, 7571, 9619, 5526, 5527, 11668, 11669, 1434, 1435, 3483, 3484, 5533, 5534, 9630, 9633, 7586, 7587, 9634, 1445, 11677, 5544, 7594, 9646, 9647, 3506, 3507, 5566, 9664, 1473, 1478, 3526, 9671, 3533, 5581, 7631, 3536, 5585, 9677, 1496, 3546, 9696, 3553, 1508, 1514, 9706, 7661, 9709, 7665, 9714, 9717, 9719, 9720, 3579, 7677, 1541, 1542, 1543, 3591, 9735, 1546, 3595, 11782, 1551, 3601, 7698, 7701, 5658, 9754, 1565, 1566, 7711, 1570, 5666, 7715, 3624, 3627, 1584, 5684, 5687, 5688, 5689, 9783, 3646, 9790, 1601, 11851, 5709, 5711, 11855, 7763, 9812, 5725, 5727, 9823, 5730, 1638, 9830, 1640, 1644, 9840, 1653, 9845, 3704, 9849, 3706, 3707, 1672, 3720, 9866, 5773, 11917, 1679, 5776, 9877, 1688, 11930, 1692, 11933, 5790, 3744, 5792, 5794, 7843, 9890, 11938, 7851, 3759, 3761, 7861, 1721, 9914, 1723, 9917, 1726, 5824, 5826, 7875, 3780, 1733, 11972, 11975, 5832, 3785, 11976, 7883, 3789, 1742, 5841, 1750, 1751, 7897, 5850, 3803, 9947, 7901, 3817, 3818, 5867, 1774, 9967, 1777, 9970, 1779, 1782, 3832, 3833, 9976, 7933, 9982, 5887, 7936, 12032, 5890, 3844, 7940, 3846, 12036, 12038, 1801, 1802, 5897, 5900, 7949, 9994, 1807, 5904, 12040, 7957, 1815, 10010, 7967, 1827, 1828, 5929, 5938, 3891, 1845, 7989, 10037, 5944, 10039, 7995, 10044, 7998, 3912, 10056, 3917, 1870, 5970, 5973, 5976, 10073, 3931, 8027, 10078, 5983, 3936, 5984, 5989, 8038, 8043, 5999, 1906, 6002, 6005, 6008, 6011, 6012, 8061, 10108, 6016, 6018, 1926, 1927, 8071, 6028, 8077, 3982, 10126, 3986, 10132, 3991, 6040, 6047, 10146, 4008, 1964, 1965, 8114, 1971, 10163, 1979, 1987, 10181, 8137, 4042, 10186, 8142, 10201, 10210, 8165, 10216, 6123, 10220, 10222, 2031, 10226, 4085, 10229, 6137, 2046, 10239}\n",
            "2533\n",
            "12665\n",
            "2417\n",
            "12085\n"
          ]
        }
      ]
    },
    {
      "cell_type": "code",
      "metadata": {
        "colab": {
          "base_uri": "https://localhost:8080/"
        },
        "id": "_hzPvehVbMQP",
        "outputId": "5154da88-d765-4b0e-9fa9-ac401b503daf"
      },
      "source": [
        "%%time\n",
        "ewc_train(cur_x_train,cur_y_train,X_test_45,y_test_45, old_x_test, old_y_test, 2, my_ewc, importance = 1e11)"
      ],
      "execution_count": null,
      "outputs": [
        {
          "output_type": "stream",
          "name": "stderr",
          "text": [
            "/usr/local/lib/python3.7/dist-packages/ipykernel_launcher.py:101: UserWarning: Implicit dimension choice for softmax has been deprecated. Change the call to include dim=X as an argument.\n"
          ]
        },
        {
          "output_type": "stream",
          "name": "stdout",
          "text": [
            "accuracy on current task:  tensor(0.0005)\n",
            "accuracy on old task:  tensor(0.9716)\n",
            "accuracy on 01:  tensor(0.9816)\n",
            "accuracy on 23:  tensor(0.9461) \n",
            "\n",
            "accuracy on current task:  tensor(0.8111)\n",
            "accuracy on old task:  tensor(0.9605)\n",
            "accuracy on 01:  tensor(0.9716)\n",
            "accuracy on 23:  tensor(0.9060) \n",
            "\n",
            "accuracy on current task:  tensor(0.8442)\n",
            "accuracy on old task:  tensor(0.9579)\n",
            "accuracy on 01:  tensor(0.9669)\n",
            "accuracy on 23:  tensor(0.9236) \n",
            "\n",
            "accuracy on current task:  tensor(0.8687)\n",
            "accuracy on old task:  tensor(0.9601)\n",
            "accuracy on 01:  tensor(0.9622)\n",
            "accuracy on 23:  tensor(0.9143) \n",
            "\n",
            "accuracy on current task:  tensor(0.8703)\n",
            "accuracy on old task:  tensor(0.9613)\n",
            "accuracy on 01:  tensor(0.9674)\n",
            "accuracy on 23:  tensor(0.9256) \n",
            "\n",
            "accuracy on current task:  tensor(0.8885)\n",
            "accuracy on old task:  tensor(0.9565)\n",
            "accuracy on 01:  tensor(0.9749)\n",
            "accuracy on 23:  tensor(0.8952) \n",
            "\n",
            "accuracy on current task:  tensor(0.8778)\n",
            "accuracy on old task:  tensor(0.9603)\n",
            "accuracy on 01:  tensor(0.9749)\n",
            "accuracy on 23:  tensor(0.9187) \n",
            "\n",
            "accuracy on current task:  tensor(0.8821)\n",
            "accuracy on old task:  tensor(0.9605)\n",
            "accuracy on 01:  tensor(0.9683)\n",
            "accuracy on 23:  tensor(0.9153) \n",
            "\n",
            "accuracy on current task:  tensor(0.8975)\n",
            "accuracy on old task:  tensor(0.9581)\n",
            "accuracy on 01:  tensor(0.9745)\n",
            "accuracy on 23:  tensor(0.9158) \n",
            "\n",
            "accuracy on current task:  tensor(0.8965)\n",
            "accuracy on old task:  tensor(0.9603)\n",
            "accuracy on 01:  tensor(0.9726)\n",
            "accuracy on 23:  tensor(0.9128) \n",
            "\n",
            "accuracy on current task:  tensor(0.8890)\n",
            "accuracy on old task:  tensor(0.9593)\n",
            "accuracy on 01:  tensor(0.9655)\n",
            "accuracy on 23:  tensor(0.9300) \n",
            "\n",
            "accuracy on current task:  tensor(0.8997)\n",
            "accuracy on old task:  tensor(0.9589)\n",
            "accuracy on 01:  tensor(0.9712)\n",
            "accuracy on 23:  tensor(0.9123) \n",
            "\n",
            "accuracy on current task:  tensor(0.8954)\n",
            "accuracy on old task:  tensor(0.9632)\n",
            "accuracy on 01:  tensor(0.9617)\n",
            "accuracy on 23:  tensor(0.9202) \n",
            "\n",
            "accuracy on current task:  tensor(0.8890)\n",
            "accuracy on old task:  tensor(0.9656)\n",
            "accuracy on 01:  tensor(0.9645)\n",
            "accuracy on 23:  tensor(0.9295) \n",
            "\n",
            "accuracy on current task:  tensor(0.8997)\n",
            "accuracy on old task:  tensor(0.9555)\n",
            "accuracy on 01:  tensor(0.9702)\n",
            "accuracy on 23:  tensor(0.9089) \n",
            "\n",
            "accuracy on current task:  tensor(0.9007)\n",
            "accuracy on old task:  tensor(0.9562)\n",
            "accuracy on 01:  tensor(0.9683)\n",
            "accuracy on 23:  tensor(0.9207) \n",
            "\n",
            "accuracy on current task:  tensor(0.9130)\n",
            "accuracy on old task:  tensor(0.9541)\n",
            "accuracy on 01:  tensor(0.9617)\n",
            "accuracy on 23:  tensor(0.9158) \n",
            "\n",
            "accuracy on current task:  tensor(0.8874)\n",
            "accuracy on old task:  tensor(0.9622)\n",
            "accuracy on 01:  tensor(0.9589)\n",
            "accuracy on 23:  tensor(0.9261) \n",
            "\n",
            "accuracy on current task:  tensor(0.8789)\n",
            "accuracy on old task:  tensor(0.9678)\n",
            "accuracy on 01:  tensor(0.9716)\n",
            "accuracy on 23:  tensor(0.9167) \n",
            "\n",
            "accuracy on current task:  tensor(0.9152)\n",
            "accuracy on old task:  tensor(0.9538)\n",
            "accuracy on 01:  tensor(0.9626)\n",
            "accuracy on 23:  tensor(0.9065) \n",
            "\n",
            "CPU times: user 1min 53s, sys: 912 ms, total: 1min 54s\n",
            "Wall time: 1min 57s\n"
          ]
        }
      ]
    },
    {
      "cell_type": "code",
      "metadata": {
        "id": "TmJteTWHbMX-"
      },
      "source": [
        "#ewc_train(cur_x_train,cur_y_train,X_test_45,y_test_45, old_x_test, old_y_test, 2, my_ewc, epochs = 1, importance = 10e11)   "
      ],
      "execution_count": null,
      "outputs": []
    },
    {
      "cell_type": "code",
      "metadata": {
        "colab": {
          "base_uri": "https://localhost:8080/"
        },
        "id": "qbjDaDXRbMeC",
        "outputId": "6ef30a02-98d0-4873-e378-2dd94941bb39"
      },
      "source": [
        "cur_x_test = X_test_45\n",
        "cur_y_test = y_test_45\n",
        "print(f\"Accuracy on 45: {test_accuracy(cur_x_test, cur_y_test)}\")\n",
        "old_x_test = torch.cat((old_x_test,cur_x_test.to(device)))\n",
        "old_y_test = torch.cat((old_y_test,cur_y_test))\n",
        "print(f\"Accuracy on 012345: {test_accuracy(old_x_test, old_y_test)}\")"
      ],
      "execution_count": null,
      "outputs": [
        {
          "output_type": "stream",
          "name": "stdout",
          "text": [
            "Accuracy on 45: 0.9018142819404602\n",
            "Accuracy on 012345: 0.9414690732955933\n"
          ]
        },
        {
          "output_type": "stream",
          "name": "stderr",
          "text": [
            "/usr/local/lib/python3.7/dist-packages/ipykernel_launcher.py:101: UserWarning: Implicit dimension choice for softmax has been deprecated. Change the call to include dim=X as an argument.\n"
          ]
        }
      ]
    },
    {
      "cell_type": "code",
      "metadata": {
        "colab": {
          "base_uri": "https://localhost:8080/"
        },
        "id": "GXVwk0Q2eKYB",
        "outputId": "4caa5ed3-f640-449e-d707-70f26398e09b"
      },
      "source": [
        "old_tasks = torch.cat((old_tasks,X_train_45))\n",
        "y_train_45 = y_train_45.to(device)\n",
        "old_y = torch.cat((old_y, y_train_45))\n",
        "old_y = old_y.to(device)\n",
        "\n",
        "order_1 = get_worst_ind(yann_lecun, X_train_01, y_train_01, 20)\n",
        "order_2 = get_worst_ind(yann_lecun, X_train_23, y_train_23, 20)\n",
        "order_3 = get_worst_ind(yann_lecun, X_train_45, y_train_45, 20)\n",
        "\n",
        "\n",
        "aug_x_train_01, aug_y_train_01 = aug_extended_data(X_train_01[order_1], y_train_01[order_1])\n",
        "aug_x_train_23, aug_y_train_23 = aug_extended_data(X_train_23[order_2], y_train_23[order_2])\n",
        "aug_x_train_45, aug_y_train_45 = aug_extended_data(X_train_45[order_3], y_train_45[order_3])\n",
        "\n",
        "\n",
        "cur_x_train = torch.cat((X_train_67, aug_x_train_01, aug_x_train_23, aug_x_train_45))\n",
        "cur_y_train = torch.cat((y_train_67.to(device), aug_y_train_01.to(device), aug_y_train_23.to(device), aug_y_train_45.to(device)))\n",
        "new_permutation = np.random.permutation(len(cur_x_train))\n",
        "cur_x_train = cur_x_train[new_permutation]\n",
        "cur_y_train = cur_y_train[new_permutation]\n",
        "\n",
        "my_ewc = EWC(old_tasks, old_y)"
      ],
      "execution_count": null,
      "outputs": [
        {
          "output_type": "stream",
          "name": "stderr",
          "text": [
            "/usr/local/lib/python3.7/dist-packages/ipykernel_launcher.py:101: UserWarning: Implicit dimension choice for softmax has been deprecated. Change the call to include dim=X as an argument.\n"
          ]
        },
        {
          "output_type": "stream",
          "name": "stdout",
          "text": [
            "{4097, 7, 2056, 6154, 8209, 18, 8213, 4126, 6176, 2083, 6179, 6182, 39, 10288, 56, 6204, 61, 2115, 2125, 4180, 6235, 8283, 12392, 10355, 6263, 122, 2172, 2175, 4225, 2181, 12428, 12436, 149, 2199, 8343, 10395, 10398, 8352, 4263, 8365, 8366, 8370, 6323, 8371, 4277, 4278, 4279, 8375, 12478, 193, 10434, 199, 203, 12492, 8403, 10452, 10453, 8406, 6363, 220, 221, 8411, 232, 8427, 12523, 12525, 12527, 10480, 12533, 4342, 12535, 12536, 8442, 12544, 10497, 12545, 2307, 10501, 12551, 6409, 266, 2315, 10507, 2319, 272, 4369, 2322, 6421, 278, 2328, 10522, 2333, 10526, 4383, 10528, 6438, 295, 6440, 12586, 4409, 314, 6467, 12622, 4432, 8538, 2396, 8546, 2407, 6503, 12653, 2418, 4469, 2426, 6527, 10633, 8589, 400, 6551, 8600, 10649, 6554, 4510, 10658, 2467, 430, 8624, 6583, 8635, 10683, 450, 2498, 10692, 454, 10696, 8649, 6626, 8675, 10731, 492, 496, 498, 6643, 500, 2553, 10745, 6654, 4607, 6656, 4611, 8710, 6667, 10763, 8717, 529, 2577, 8723, 6690, 548, 2598, 568, 4666, 2621, 2623, 10821, 8775, 2635, 8780, 2639, 6743, 8791, 4697, 10841, 604, 6750, 2664, 8809, 4726, 2682, 638, 10884, 8838, 647, 10888, 6794, 10903, 10909, 2720, 6820, 2731, 4781, 686, 10926, 10941, 4804, 2757, 4806, 8901, 4811, 6863, 4817, 2771, 2776, 6872, 2781, 8931, 6887, 10983, 8941, 6894, 2800, 2811, 8973, 782, 11028, 8983, 11043, 2853, 11052, 6968, 11066, 11077, 838, 6984, 11087, 855, 11095, 4956, 7008, 868, 7012, 2918, 4967, 11110, 11113, 9071, 2928, 4980, 11127, 11128, 4988, 2941, 11133, 2946, 9091, 5012, 929, 11179, 11183, 11187, 9154, 973, 975, 11219, 9173, 11221, 11222, 11231, 995, 3043, 9191, 3049, 11255, 5118, 5120, 1028, 5134, 7183, 7188, 9240, 5146, 3105, 1061, 3110, 7210, 3122, 3124, 1082, 3130, 3133, 3138, 5187, 7236, 3141, 5194, 5198, 9296, 9301, 7261, 9313, 11364, 1132, 1141, 9339, 7293, 5247, 1161, 7305, 5262, 9359, 9363, 3225, 1184, 5282, 7348, 3263, 1223, 11469, 1230, 1236, 7381, 3287, 3291, 9437, 1246, 1247, 5342, 1250, 7394, 3303, 1260, 1281, 3329, 5382, 7432, 3349, 9493, 11545, 7450, 5405, 3366, 1323, 3372, 7474, 9525, 3386, 3396, 5444, 7506, 3417, 3418, 3419, 9561, 3435, 5486, 5490, 3448, 1404, 7560, 1433, 1436, 3495, 9640, 1449, 3500, 7597, 11692, 9648, 9656, 1469, 9664, 3521, 7625, 9681, 7640, 11737, 5599, 11745, 9703, 1512, 1513, 7656, 7657, 5613, 9725, 3595, 3608, 5657, 1563, 3614, 3621, 9765, 1575, 11815, 9773, 3635, 5694, 1605, 3665, 3666, 3667, 9810, 9818, 1635, 3686, 3689, 7795, 9844, 11907, 1668, 11915, 9871, 7827, 3740, 9885, 9887, 7840, 3746, 3756, 5804, 7855, 9912, 1721, 9913, 9914, 3773, 1727, 9921, 11971, 5828, 5829, 3784, 11984, 11989, 5846, 1760, 9972, 12022, 5882, 12029, 12047, 1813, 12055, 5915, 3872, 10025, 3882, 10029, 5940, 7988, 3896, 3898, 7998, 3904, 10048, 10053, 1874, 5974, 8022, 8024, 1882, 8029, 8031, 10084, 1893, 1900, 3957, 12153, 12160, 3971, 12164, 10122, 12182, 3995, 12188, 6046, 12193, 12195, 4006, 6062, 8110, 1968, 1985, 6092, 10197, 8151, 4062, 2021, 4071, 12263, 4074, 8171, 12273, 8178, 4083, 12274, 6137, 10235, 4092, 4093}\n",
            "{12, 8215, 8223, 32, 34, 8229, 42, 8235, 8255, 79, 8275, 86, 88, 89, 90, 8289, 8293, 102, 103, 118, 8310, 120, 8312, 128, 8323, 8324, 134, 8326, 136, 8327, 8329, 8330, 140, 151, 8343, 8347, 8349, 158, 8350, 8351, 162, 164, 8360, 8361, 8365, 175, 8369, 8377, 186, 8380, 189, 8382, 192, 8386, 196, 8393, 8395, 8399, 208, 211, 212, 8405, 215, 217, 225, 227, 234, 236, 237, 8438, 8440, 251, 8444, 256, 259, 262, 8456, 8457, 8458, 8468, 8471, 282, 8478, 287, 295, 8492, 8504, 8511, 320, 8515, 8517, 8518, 8520, 8523, 334, 335, 8527, 343, 349, 8546, 358, 8550, 360, 361, 366, 8560, 373, 8566, 375, 8574, 386, 391, 8587, 396, 398, 8590, 404, 409, 410, 8605, 427, 8622, 8623, 8629, 441, 8649, 8655, 8658, 473, 474, 475, 8665, 8667, 8677, 487, 8684, 501, 8696, 506, 8698, 8705, 8708, 517, 518, 8711, 530, 531, 532, 8723, 8727, 8737, 8742, 554, 8746, 556, 8761, 572, 8764, 8771, 580, 583, 8787, 8792, 8793, 8802, 613, 8821, 8822, 635, 8828, 8834, 8836, 8840, 8845, 8849, 661, 668, 8860, 8872, 684, 688, 692, 705, 715, 727, 8922, 8925, 8927, 738, 741, 744, 745, 751, 8953, 8959, 8971, 8980, 8990, 801, 8995, 807, 9003, 812, 9007, 9008, 818, 820, 9012, 9013, 9017, 9020, 9030, 839, 9032, 844, 848, 849, 860, 9056, 9058, 9059, 876, 881, 885, 9092, 905, 912, 9107, 9115, 9122, 940, 9135, 972, 976, 977, 978, 983, 9181, 991, 9187, 9189, 999, 9193, 1003, 1004, 9200, 1010, 9205, 9214, 1025, 1028, 1034, 1041, 1043, 1047, 9239, 1050, 1054, 9263, 9265, 9274, 9275, 1093, 1095, 1097, 9290, 9291, 9292, 1103, 9297, 9300, 9302, 9305, 1117, 9313, 1126, 9322, 1134, 9326, 9328, 1140, 1142, 1144, 1151, 1153, 1156, 9356, 9357, 1171, 1178, 1182, 9374, 1184, 9378, 1190, 9383, 1197, 1202, 1203, 1206, 1210, 9407, 9413, 1228, 1230, 1231, 9425, 1237, 1244, 1246, 1249, 1254, 9446, 1258, 1277, 1278, 1282, 9479, 1290, 1315, 1324, 9520, 1331, 9523, 1334, 9530, 1339, 1340, 1341, 1342, 1345, 9537, 1349, 9546, 9551, 9553, 9556, 1368, 1374, 9568, 1379, 9572, 1384, 9586, 1399, 1404, 9596, 9599, 1408, 9603, 1413, 9605, 1415, 1416, 9614, 1427, 1429, 9621, 9625, 9627, 9629, 9630, 9633, 9634, 9637, 1456, 9664, 1473, 1475, 9677, 1496, 9694, 9696, 1505, 9699, 1518, 9720, 1533, 1542, 1543, 9734, 1547, 9739, 1551, 9745, 1562, 1566, 1576, 1578, 9778, 9783, 9790, 1605, 1606, 1625, 1626, 9827, 1638, 9830, 1640, 9835, 1644, 1646, 1653, 1654, 9853, 1665, 1669, 9861, 1672, 1673, 1678, 1679, 1681, 1683, 1688, 9881, 1692, 1705, 9905, 9914, 1723, 9917, 1729, 9924, 1734, 9928, 1738, 9930, 1742, 1750, 1751, 9942, 1755, 9947, 1762, 1764, 9965, 1774, 9967, 9968, 1777, 1779, 1780, 9975, 9976, 1792, 9985, 1802, 9996, 1811, 1827, 1828, 1833, 10025, 1844, 10037, 1853, 10046, 10053, 1864, 10056, 1868, 10060, 10067, 10073, 10075, 10076, 1885, 10077, 1889, 1906, 10101, 1913, 1925, 10126, 1937, 10132, 10137, 10143, 1954, 10146, 10153, 10160, 10163, 1979, 2001, 10210, 2022, 10217, 10222, 2031, 2033, 10231, 2043, 10236, 2050, 10246, 10248, 2061, 10259, 2069, 2070, 2071, 10287, 10291, 2113, 10306, 2116, 10313, 10314, 10318, 2140, 2148, 2154, 2156, 10352, 10353, 2163, 2170, 10365, 10373, 10374, 2189, 2196, 2200, 2202, 2214, 2217, 2220, 2221, 10424, 10433, 10440, 2249, 10453, 2262, 10454, 2272, 10465, 10471, 10475, 10480, 2295, 10489, 10490, 10499, 2311, 2314, 10516, 2330, 2334, 2336, 2338, 2339, 10531, 2342, 2344, 2345, 2346, 2347, 2351, 2353, 2354, 10548, 2370, 2372, 2374, 10566, 2380, 2391, 2393, 10585, 2396, 10591, 2403, 2404, 2406, 10600, 2412, 2416, 10615, 10616, 2428, 10621, 2430, 10623, 2433, 2436, 10628, 10631, 2443, 10636, 10638, 10639, 10640, 10659, 10662, 10663, 10665, 2475, 10671, 2483, 10675, 2485, 2488, 2491, 10685, 10687, 2500, 10692, 2505, 2506, 2515, 10712, 2523, 2524, 2544, 10754, 10755, 10764, 2573, 10774, 10778, 2593, 2601, 10793, 10796, 2607, 2609, 10806, 10808, 2618, 10811, 2622, 2631, 2634, 2635, 2642, 2643, 10843, 10844, 2663, 10869, 2683, 2685, 2686, 2687, 10877, 10878, 10890, 10898, 2708, 10902, 2715, 10909, 10914, 2738, 10931, 2753, 10946, 2755, 2760, 10962, 10965, 2777, 10970, 2779, 2780, 2814, 2817, 11015, 2828, 11021, 2835, 11028, 11029, 2839, 11036, 11038, 11048, 2857, 2862, 11058, 11059, 2872, 2873, 11065, 11064, 2876, 2877, 11066, 2883, 2884, 11079, 2889, 2890, 11081, 11084, 2893, 2895, 2899, 11091, 2901, 2904, 2918, 11112, 11113, 2935, 11129, 11130, 2939, 2940, 11132, 2948, 2952, 11144, 2963, 11159, 2975, 11178, 2989, 11196, 3005, 3018, 11210, 3030, 11230, 11231, 11235, 3048, 3051, 3057, 3058, 11257, 3074, 3077, 3082, 11288, 3100, 3102, 3103, 11296, 3117, 11311, 11320, 3131, 11323, 11330, 11340, 3158, 3162, 3165, 11357, 11359, 3169, 3172, 3174, 3175, 3176, 11367, 11371, 11373, 3184, 3185, 3189, 11381, 3194, 3208, 11404, 3213, 11408, 11410, 3223, 3224, 11423, 3242, 3259, 3260, 3262, 3265, 3267, 3268, 3274, 3280, 3281, 3289, 11491, 11497, 3313, 11514, 11517, 11521, 3331, 3343, 3352, 3354, 11551, 11554, 11556, 3365, 3368, 11560, 3372, 11568, 3377, 11592, 3409, 11620, 3429, 3432, 3446, 11640, 3456, 3458, 3463, 3464, 3465, 3474, 3475, 11668, 11669, 3481, 3483, 11690, 3507, 3508, 11699, 11701, 3520, 3526, 3530, 3533, 3539, 3545, 3546, 11750, 3559, 3574, 3579, 3602, 3607, 3624, 3625, 3627, 3635, 11847, 11849, 11851, 11852, 11860, 3680, 11887, 3700, 11892, 3704, 3707, 3708, 3714, 3715, 11912, 3722, 11919, 11930, 3744, 11938, 11946, 3755, 3773, 3774, 3780, 3789, 3792, 3796, 3803, 3817, 3818, 3824, 3836, 12032, 12036, 3847, 3855, 12049, 3859, 12070, 12074, 3885, 3902, 3909, 3912, 3917, 3924, 3933, 3936, 3939, 3982, 3986, 4008, 4012, 4013, 4029, 4067, 4072, 4083, 4112, 4160, 4167, 4174, 4178, 4180, 4182, 4183, 4187, 4188, 4189, 4192, 4193, 4195, 4197, 4202, 4203, 4206, 4216, 4231, 4233, 4243, 4250, 4278, 4287, 4289, 4297, 4322, 4342, 4348, 4351, 4403, 4412, 4416, 4450, 4464, 4468, 4473, 4482, 4484, 4499, 4523, 4544, 4545, 4549, 4559, 4562, 4574, 4577, 4580, 4582, 4590, 4598, 4634, 4636, 4666, 4669, 4686, 4716, 4729, 4739, 4775, 4778, 4796, 4806, 4822, 4838, 4843, 4854, 4856, 4859, 4866, 4875, 4891, 4910, 4932, 4933, 4942, 4948, 4949, 4955, 4956, 4957, 4967, 4973, 4974, 4986, 4988, 4993, 5002, 5015, 5027, 5051, 5062, 5095, 5109, 5124, 5161, 5192, 5193, 5205, 5208, 5212, 5227, 5238, 5259, 5263, 5275, 5308, 5312, 5313, 5314, 5315, 5352, 5356, 5365, 5384, 5386, 5392, 5406, 5454, 5464, 5469, 5476, 5488, 5489, 5495, 5526, 5533, 5540, 5544, 5549, 5565, 5566, 5578, 5580, 5585, 5596, 5626, 5632, 5635, 5639, 5654, 5670, 5688, 5701, 5711, 5724, 5729, 5730, 5755, 5768, 5773, 5780, 5787, 5788, 5790, 5792, 5793, 5803, 5826, 5856, 5867, 5870, 5876, 5877, 5878, 5887, 5915, 5925, 5929, 5941, 5943, 5973, 5982, 5984, 5987, 5989, 5993, 5999, 6002, 6005, 6008, 6011, 6014, 6016, 6018, 6020, 6028, 6059, 6138, 6143, 6148, 6156, 6161, 6199, 6205, 6206, 6212, 6215, 6220, 6230, 6257, 6275, 6280, 6281, 6290, 6295, 6300, 6307, 6316, 6331, 6335, 6361, 6367, 6372, 6375, 6378, 6391, 6396, 6400, 6402, 6406, 6409, 6411, 6415, 6432, 6449, 6450, 6454, 6464, 6476, 6478, 6489, 6513, 6515, 6523, 6538, 6543, 6550, 6562, 6567, 6593, 6618, 6623, 6624, 6625, 6647, 6654, 6691, 6693, 6711, 6713, 6718, 6753, 6802, 6804, 6811, 6813, 6817, 6819, 6839, 6850, 6866, 6889, 6894, 6897, 6901, 6910, 6912, 6913, 6917, 6918, 6943, 6949, 6954, 6963, 6973, 6974, 6976, 6980, 6995, 6996, 7003, 7006, 7015, 7042, 7068, 7071, 7072, 7092, 7102, 7104, 7113, 7118, 7119, 7126, 7127, 7136, 7141, 7151, 7173, 7209, 7221, 7242, 7248, 7262, 7282, 7300, 7311, 7312, 7325, 7328, 7346, 7350, 7358, 7391, 7403, 7439, 7443, 7449, 7456, 7459, 7470, 7472, 7476, 7484, 7485, 7490, 7495, 7497, 7498, 7502, 7509, 7511, 7512, 7520, 7523, 7530, 7549, 7599, 7640, 7643, 7661, 7664, 7665, 7683, 7698, 7701, 7703, 7715, 7721, 7722, 7751, 7776, 7787, 7821, 7848, 7851, 7854, 7857, 7870, 7879, 7887, 7894, 7897, 7903, 7906, 7908, 7911, 7916, 7920, 7933, 7936, 7959, 7962, 7965, 7971, 7977, 7986, 7989, 8039, 8040, 8047, 8056, 8068, 8077, 8111, 8112, 8115, 8122, 8153, 8175}\n",
            "{0, 6, 6151, 8, 4104, 6152, 8203, 10250, 4109, 18, 6162, 20, 4118, 2071, 4119, 4131, 10278, 10279, 8233, 10281, 6187, 10283, 8237, 8238, 48, 10288, 10289, 8248, 10298, 6203, 4156, 10301, 2111, 65, 6210, 6212, 70, 6214, 10312, 8267, 10316, 6221, 79, 10321, 6229, 6230, 8279, 10331, 2140, 4189, 2142, 2143, 2144, 4190, 2146, 2149, 6249, 2158, 8302, 8304, 4209, 6259, 8309, 118, 4215, 6265, 6266, 10364, 2173, 2175, 128, 10368, 2178, 10371, 2180, 8325, 6279, 2184, 4233, 6281, 10375, 141, 2190, 4238, 6289, 8342, 8343, 6297, 2202, 2204, 157, 6300, 10398, 2208, 8352, 6306, 6307, 166, 10406, 175, 4276, 2230, 8374, 2233, 186, 189, 10429, 2240, 10435, 197, 6341, 202, 8397, 208, 209, 210, 10448, 8404, 10449, 10452, 8407, 2264, 8409, 218, 2266, 10457, 4319, 6369, 10465, 227, 8419, 229, 6374, 10466, 8429, 238, 239, 8431, 10477, 6388, 247, 2295, 2296, 6396, 253, 4351, 10496, 2307, 6404, 2309, 262, 8455, 264, 2313, 4360, 6409, 10501, 270, 4366, 10511, 275, 4371, 277, 10519, 2328, 4381, 10528, 289, 2337, 8485, 4394, 10538, 8492, 4397, 4398, 308, 311, 2360, 6456, 4412, 4413, 2366, 8509, 6465, 8517, 2375, 4425, 8524, 8529, 8531, 4438, 343, 4439, 4440, 6492, 2398, 8542, 8543, 2401, 10590, 4451, 8547, 2405, 8550, 10592, 10596, 6505, 6507, 10606, 367, 8560, 2418, 6515, 10611, 2423, 4471, 2425, 4472, 10615, 6526, 10623, 6529, 8577, 4483, 10629, 2440, 4492, 2445, 8589, 10638, 2449, 8594, 10645, 4502, 10647, 10648, 6555, 8603, 2461, 10653, 8611, 2469, 8615, 4523, 8622, 4528, 10674, 2483, 10677, 2487, 4535, 4537, 443, 445, 446, 4541, 449, 4546, 8643, 4550, 4555, 8653, 6610, 8660, 6613, 8662, 2519, 4567, 4568, 10708, 8668, 4574, 6622, 10722, 2531, 484, 6634, 10731, 6637, 4593, 8689, 10741, 2552, 504, 10745, 6655, 4608, 514, 8706, 2564, 10755, 10756, 10759, 4618, 4622, 4623, 4624, 529, 2577, 6674, 4629, 4630, 536, 2584, 6681, 4637, 2590, 8735, 8736, 4643, 10791, 4648, 4649, 4653, 558, 4654, 2610, 6706, 6711, 6712, 4669, 2622, 10818, 2628, 2629, 10820, 8780, 6734, 2640, 593, 8787, 10836, 4697, 6746, 10841, 10844, 2655, 608, 4704, 10849, 612, 2660, 4712, 2665, 8808, 619, 6764, 6765, 4718, 8809, 10865, 2678, 10871, 6777, 10876, 637, 10878, 639, 640, 641, 8832, 4739, 2692, 6788, 646, 6789, 10880, 657, 10897, 10898, 10899, 10901, 663, 665, 8857, 2716, 4765, 8861, 671, 10908, 2721, 10914, 2724, 2728, 2729, 4778, 8874, 2732, 2735, 6832, 2737, 4787, 6835, 2741, 4789, 2743, 6841, 2747, 6844, 2749, 2751, 6850, 2755, 709, 8905, 2764, 717, 8910, 4815, 720, 8916, 8918, 728, 4829, 8929, 6893, 750, 2798, 10989, 6899, 11004, 2813, 6911, 4868, 6920, 777, 2825, 8969, 4883, 790, 11031, 6936, 11043, 6952, 9000, 11049, 6955, 2861, 6957, 6959, 820, 4917, 11060, 2872, 9017, 6975, 6976, 6981, 6982, 11081, 9034, 4939, 2892, 6990, 4943, 9040, 6998, 857, 7001, 9050, 2908, 2913, 4961, 7011, 11108, 2919, 9064, 4969, 7017, 877, 4973, 7023, 2928, 9069, 7026, 11124, 2937, 890, 11131, 11132, 7037, 7038, 2946, 4995, 2949, 7045, 11143, 7049, 906, 2954, 11145, 9950, 5006, 2960, 2962, 7058, 2964, 7061, 9113, 2970, 2972, 11167, 5024, 2979, 2981, 937, 938, 2987, 9130, 5037, 7087, 5050, 7099, 7100, 9147, 960, 3011, 9159, 3017, 11209, 972, 11213, 9166, 11215, 7120, 11217, 5074, 9171, 3028, 11222, 5081, 11233, 11234, 995, 7139, 1000, 5096, 5098, 3052, 7148, 11247, 1011, 5109, 1014, 1020, 3070, 1023, 9216, 1025, 1026, 3074, 3076, 9223, 7176, 1033, 3081, 7178, 7180, 7185, 5141, 7191, 3100, 5149, 7201, 7202, 7205, 1062, 7206, 9259, 3117, 1070, 3118, 5169, 1075, 5171, 7222, 5176, 7225, 1084, 5180, 7230, 1087, 3136, 7232, 9280, 5187, 7235, 3141, 3143, 1096, 1098, 7242, 1106, 3156, 1109, 9300, 1111, 5207, 3161, 7258, 1115, 1116, 9306, 3167, 5216, 7264, 7267, 1124, 1125, 7270, 7273, 3185, 3187, 9342, 9343, 9349, 3206, 1161, 9355, 9361, 3220, 5268, 1177, 1182, 3230, 3231, 5279, 7333, 9381, 1192, 3241, 7339, 9391, 3250, 5298, 3253, 7354, 1215, 9410, 3270, 5319, 3273, 9421, 3279, 1232, 3281, 7376, 7377, 3284, 7379, 9427, 5340, 1249, 5345, 7393, 7394, 1253, 7400, 5357, 7409, 7410, 3318, 3321, 7417, 1275, 1276, 3323, 7419, 7422, 5377, 9475, 3336, 7433, 1290, 3340, 9485, 5390, 7440, 1298, 5398, 3352, 5401, 1306, 9498, 7454, 1311, 9503, 7457, 9505, 5412, 1321, 5417, 3371, 5419, 7467, 9518, 7471, 1328, 1331, 5433, 5440, 1345, 5442, 9538, 7498, 3405, 1358, 7501, 3408, 7502, 5458, 3411, 9552, 3413, 5462, 1369, 5468, 3422, 1375, 9570, 5475, 1382, 3434, 3436, 5486, 1391, 1392, 3440, 7536, 3443, 9586, 1397, 5494, 9589, 7544, 9593, 9597, 9598, 9601, 5506, 7555, 5508, 3464, 5512, 7561, 1420, 7564, 5518, 1436, 5532, 1439, 5538, 5539, 1444, 7586, 1446, 3495, 9634, 9637, 3499, 7595, 9643, 3502, 5551, 7607, 1466, 5562, 7615, 7617, 5570, 5574, 7626, 5580, 7629, 3535, 3537, 5586, 7634, 5590, 1496, 3544, 7641, 9688, 9691, 9695, 5601, 1506, 5603, 3557, 1510, 1512, 7656, 1517, 9710, 5617, 3571, 1524, 3572, 1528, 1529, 3577, 7674, 7675, 9726, 3583, 9739, 3596, 1549, 1553, 7698, 7700, 5656, 5657, 9753, 9756, 5661, 1567, 7714, 1572, 7719, 5679, 7729, 9782, 3639, 1596, 3644, 9790, 5695, 7745, 7747, 1604, 7749, 1608, 1610, 3660, 3663, 7759, 9810, 1619, 3667, 7765, 1626, 7771, 7776, 5730, 3683, 5732, 7778, 1639, 3690, 5740, 3695, 5744, 1651, 3701, 7801, 9852, 9854, 9860, 3722, 5770, 1683, 3736, 5784, 1690, 3739, 5789, 3743, 5794, 9890, 9893, 1702, 3752, 3753, 9897, 5809, 1714, 7858, 5814, 3770, 7867, 9916, 7872, 3778, 5827, 1732, 1733, 5830, 1737, 3786, 7886, 7888, 5842, 7890, 5853, 1758, 5854, 5855, 1761, 5857, 3811, 5859, 7902, 3814, 7906, 5868, 1773, 3824, 7924, 3829, 5879, 5880, 3833, 7928, 1787, 7930, 7932, 7935, 7936, 9985, 9986, 3844, 1797, 7941, 9992, 3849, 3850, 9996, 9997, 3856, 3862, 5913, 7966, 5919, 10016, 3873, 5922, 3875, 10020, 1829, 10021, 3879, 3883, 5931, 3885, 5937, 7986, 5941, 7989, 1847, 3896, 5945, 10042, 7995, 1855, 1856, 1857, 5954, 3907, 10053, 1862, 3911, 8008, 10057, 5962, 1867, 10058, 8019, 3925, 8022, 1879, 3936, 3937, 5988, 3941, 10086, 1898, 8046, 8048, 6001, 8050, 3956, 8052, 10100, 1911, 3959, 6014, 3970, 6022, 3975, 8070, 3981, 6030, 6034, 10134, 8092, 8093, 3998, 4006, 6054, 8104, 10153, 1968, 6066, 1971, 4021, 6071, 6072, 1977, 10167, 6077, 1984, 4034, 1987, 6082, 6084, 6086, 1994, 6090, 1996, 2000, 6099, 6100, 6102, 6103, 6107, 10203, 6109, 6110, 8158, 2017, 2020, 10215, 2025, 2026, 6126, 6130, 8178, 2036, 10227, 10231}\n",
            "2533\n",
            "12665\n",
            "2417\n",
            "12085\n",
            "2252\n",
            "11260\n"
          ]
        }
      ]
    },
    {
      "cell_type": "code",
      "metadata": {
        "colab": {
          "base_uri": "https://localhost:8080/"
        },
        "id": "egF2lCS_eKdS",
        "outputId": "1fc1ee5c-fd8b-4136-ad14-24a725cdef01"
      },
      "source": [
        "%%time\n",
        "ewc_train(cur_x_train,cur_y_train,X_test_67,y_test_67, old_x_test, old_y_test, 3, my_ewc, importance = 1e10)"
      ],
      "execution_count": null,
      "outputs": [
        {
          "output_type": "stream",
          "name": "stderr",
          "text": [
            "/usr/local/lib/python3.7/dist-packages/ipykernel_launcher.py:101: UserWarning: Implicit dimension choice for softmax has been deprecated. Change the call to include dim=X as an argument.\n"
          ]
        },
        {
          "output_type": "stream",
          "name": "stdout",
          "text": [
            "accuracy on current task:  tensor(0.8857)\n",
            "accuracy on old task:  tensor(0.9468)\n",
            "accuracy on 01:  tensor(0.9513)\n",
            "accuracy on 23:  tensor(0.9393)\n",
            "accuracy on 45:  tensor(0.9072) \n",
            "\n",
            "accuracy on current task:  tensor(0.9164)\n",
            "accuracy on old task:  tensor(0.9516)\n",
            "accuracy on 01:  tensor(0.9485)\n",
            "accuracy on 23:  tensor(0.9094)\n",
            "accuracy on 45:  tensor(0.9530) \n",
            "\n",
            "CPU times: user 16.3 s, sys: 116 ms, total: 16.4 s\n",
            "Wall time: 17 s\n"
          ]
        }
      ]
    },
    {
      "cell_type": "code",
      "metadata": {
        "id": "qNrtp23KeKih"
      },
      "source": [
        "#ewc_train(cur_x_train,cur_y_train,X_test_67,y_test_67, old_x_test, old_y_test, 3, my_ewc, epochs = 1, importance = 6e11)"
      ],
      "execution_count": null,
      "outputs": []
    },
    {
      "cell_type": "code",
      "metadata": {
        "colab": {
          "base_uri": "https://localhost:8080/"
        },
        "id": "MhupZ6tkeKnf",
        "outputId": "43ff1f6e-5263-42be-a41f-6e1b0bc28bf1"
      },
      "source": [
        "cur_x_test = X_test_67\n",
        "cur_y_test = y_test_67\n",
        "print(f\"Accuracy on 67: {test_accuracy(cur_x_test, cur_y_test)}\")\n",
        "old_x_test = torch.cat((old_x_test,cur_x_test.to(device)))\n",
        "old_y_test = torch.cat((old_y_test,cur_y_test))\n",
        "print(f\"Accuracy on 01234567: {test_accuracy(old_x_test, old_y_test)}\")"
      ],
      "execution_count": null,
      "outputs": [
        {
          "output_type": "stream",
          "name": "stdout",
          "text": [
            "Accuracy on 67: 0.9239677786827087\n",
            "Accuracy on 01234567: 0.9417487978935242\n"
          ]
        },
        {
          "output_type": "stream",
          "name": "stderr",
          "text": [
            "/usr/local/lib/python3.7/dist-packages/ipykernel_launcher.py:101: UserWarning: Implicit dimension choice for softmax has been deprecated. Change the call to include dim=X as an argument.\n"
          ]
        }
      ]
    },
    {
      "cell_type": "code",
      "metadata": {
        "colab": {
          "base_uri": "https://localhost:8080/"
        },
        "id": "TieKDp4ieKuf",
        "outputId": "bffe2567-53b2-4104-90a4-e7fc46c4d01a"
      },
      "source": [
        "old_tasks = torch.cat((old_tasks,X_train_67))\n",
        "y_train_67 = y_train_67.to(device)\n",
        "old_y = torch.cat((old_y, y_train_67))\n",
        "old_y = old_y.to(device)\n",
        "\n",
        "order_1 = get_worst_ind(yann_lecun, X_train_01, y_train_01, 20)\n",
        "order_2 = get_worst_ind(yann_lecun, X_train_23, y_train_23, 20)\n",
        "order_3 = get_worst_ind(yann_lecun, X_train_45, y_train_45, 20)\n",
        "order_4 = get_worst_ind(yann_lecun, X_train_67, y_train_67, 20)\n",
        "\n",
        "\n",
        "aug_x_train_01, aug_y_train_01 = aug_extended_data(X_train_01[order_1], y_train_01[order_1])\n",
        "aug_x_train_23, aug_y_train_23 = aug_extended_data(X_train_23[order_2], y_train_23[order_2])\n",
        "aug_x_train_45, aug_y_train_45 = aug_extended_data(X_train_45[order_3], y_train_45[order_3])\n",
        "aug_x_train_67, aug_y_train_67 = aug_extended_data(X_train_67[order_4], y_train_67[order_4])\n",
        "\n",
        "\n",
        "cur_x_train = torch.cat((X_train_89, aug_x_train_01, aug_x_train_23, aug_x_train_45, aug_x_train_67))\n",
        "cur_y_train = torch.cat((y_train_89.to(device), aug_y_train_01.to(device), aug_y_train_23.to(device), \n",
        "                         aug_y_train_45.to(device), aug_y_train_67.to(device)))\n",
        "new_permutation = np.random.permutation(len(cur_x_train))\n",
        "cur_x_train = cur_x_train[new_permutation]\n",
        "cur_y_train = cur_y_train[new_permutation]\n",
        "\n",
        "\n",
        "my_ewc = EWC(old_tasks, old_y)"
      ],
      "execution_count": null,
      "outputs": [
        {
          "output_type": "stream",
          "name": "stderr",
          "text": [
            "/usr/local/lib/python3.7/dist-packages/ipykernel_launcher.py:101: UserWarning: Implicit dimension choice for softmax has been deprecated. Change the call to include dim=X as an argument.\n"
          ]
        },
        {
          "output_type": "stream",
          "name": "stdout",
          "text": [
            "{2, 7, 6154, 8202, 15, 16, 8209, 18, 10263, 6173, 4126, 4128, 8224, 12322, 2083, 6179, 8229, 6182, 39, 6183, 10275, 12338, 10293, 6199, 56, 6204, 61, 2109, 6208, 10304, 2117, 10309, 10315, 2124, 2125, 2132, 4180, 2139, 6235, 2142, 97, 109, 10355, 2164, 6263, 2175, 4225, 10380, 2190, 12436, 12437, 8342, 2199, 6298, 6300, 6137, 6310, 4263, 2217, 6313, 8361, 10412, 8365, 10415, 4272, 8368, 4275, 6323, 4277, 4279, 6329, 6331, 188, 8380, 12476, 6337, 10436, 199, 8391, 10441, 203, 2252, 10443, 2257, 8401, 8403, 2260, 8406, 8409, 4314, 6363, 6368, 8416, 8425, 12525, 8430, 12527, 241, 8433, 4339, 12533, 4342, 12536, 249, 250, 8442, 6396, 12538, 8446, 8447, 12541, 12544, 12545, 2307, 8451, 10501, 10502, 12547, 6409, 266, 268, 2333, 10526, 4383, 288, 2336, 6433, 10528, 6438, 6439, 2344, 4409, 314, 6458, 318, 4423, 12622, 12623, 4432, 8532, 2390, 4438, 10586, 2396, 349, 10589, 10592, 8546, 6501, 12646, 2407, 6503, 12649, 12654, 8559, 10607, 6514, 2419, 12660, 10617, 10626, 10633, 397, 8590, 4495, 400, 2448, 4497, 10646, 6551, 8600, 6554, 4510, 416, 8608, 8609, 10658, 10662, 2482, 4530, 10675, 6583, 8635, 8640, 2499, 2500, 8643, 10692, 2505, 8649, 4556, 8660, 8662, 4569, 6617, 2525, 6626, 8675, 6635, 492, 10731, 496, 10738, 6643, 4599, 8696, 10745, 6654, 4607, 8704, 4611, 8710, 10759, 6667, 10763, 2573, 2578, 2582, 8738, 2597, 2598, 8748, 557, 8754, 10802, 568, 4666, 4667, 2620, 8763, 4673, 2626, 8770, 4676, 583, 585, 4682, 588, 8780, 8781, 2639, 595, 2647, 4697, 603, 6750, 6754, 2660, 8809, 8811, 8814, 626, 4723, 628, 10866, 4732, 10876, 638, 2692, 6789, 10884, 4750, 2703, 4755, 10899, 10905, 10909, 4767, 2720, 6820, 2726, 2731, 4782, 10926, 4787, 8884, 8888, 10941, 4799, 4803, 2756, 8901, 4806, 712, 6864, 2771, 2774, 727, 2776, 2778, 8934, 6887, 6893, 4846, 2800, 754, 2804, 6901, 8949, 761, 4866, 8965, 2823, 4873, 6924, 8973, 4882, 4884, 8981, 11028, 4895, 8991, 11040, 11042, 8998, 808, 11050, 9008, 4920, 6968, 11066, 830, 4926, 4932, 11076, 838, 6984, 9033, 6988, 4943, 11087, 855, 860, 4956, 7008, 4964, 9069, 4974, 2928, 7028, 2937, 2941, 11133, 2946, 9091, 5003, 7054, 5012, 11160, 5022, 928, 929, 11173, 11183, 11189, 11195, 962, 9154, 9155, 967, 11208, 7113, 9162, 11213, 975, 7127, 7128, 11232, 7138, 3043, 7140, 5095, 7146, 11244, 11253, 11255, 11258, 5118, 5120, 5123, 7171, 11269, 7181, 7183, 7188, 1053, 11295, 7202, 3107, 3110, 3112, 3113, 7209, 11306, 11309, 11311, 3120, 11316, 3127, 1082, 3130, 3132, 3133, 3137, 7236, 3141, 3143, 5194, 5198, 1106, 1113, 7260, 3165, 5214, 9309, 5219, 5230, 9326, 9335, 1147, 9339, 1150, 3199, 5247, 7296, 3202, 1156, 11397, 1161, 3209, 7305, 5262, 9359, 7316, 7318, 9369, 9375, 1184, 1192, 3240, 5294, 1199, 11438, 5299, 7348, 9395, 11445, 5308, 3263, 11457, 7370, 5323, 1229, 1230, 5326, 1234, 1236, 7382, 7383, 9437, 7394, 3302, 5355, 7404, 1261, 7405, 11506, 11509, 9470, 5377, 1282, 3332, 5382, 5383, 5384, 7434, 5388, 9484, 9490, 3349, 11545, 7450, 3360, 1315, 3364, 11557, 3366, 3367, 5419, 3372, 7474, 5427, 3381, 5429, 9525, 9528, 11575, 3386, 11583, 9538, 7506, 1366, 5462, 9561, 3418, 3419, 11613, 9569, 9572, 9579, 3436, 5486, 11633, 5490, 9590, 5496, 5497, 1402, 7545, 7546, 5502, 3462, 7559, 5512, 3467, 7565, 3472, 5523, 9628, 11680, 3495, 9639, 1449, 5548, 9648, 3512, 9656, 1466, 11705, 11707, 9662, 9664, 5572, 3535, 7631, 7634, 7638, 1495, 9689, 5599, 11745, 5606, 9703, 7656, 1513, 7657, 5613, 3575, 7673, 7675, 9724, 5629, 9725, 7681, 3595, 7693, 9744, 9749, 3608, 1563, 7707, 7716, 9764, 3622, 7719, 11815, 3625, 5673, 9769, 9770, 9773, 5680, 7734, 5690, 1604, 7748, 1608, 9800, 3660, 1615, 3665, 3666, 3667, 7762, 9810, 9812, 11871, 11876, 1637, 3686, 11880, 3689, 9838, 3695, 9840, 1649, 7795, 1656, 7801, 5754, 7807, 1664, 5760, 7810, 7811, 1668, 11905, 11907, 9865, 3723, 5771, 1677, 11915, 3730, 3731, 7827, 9877, 3734, 11931, 3740, 9887, 3744, 7840, 3746, 11941, 3750, 9898, 3757, 7854, 7855, 3766, 7863, 9912, 1721, 7865, 9914, 7868, 3773, 9917, 1727, 1730, 3779, 3780, 5827, 5829, 11971, 9928, 11984, 9940, 9944, 1754, 3805, 3812, 3818, 7914, 3820, 12010, 9972, 12022, 5882, 12029, 3841, 7940, 1806, 7952, 10002, 7960, 3877, 1830, 10025, 3882, 12073, 3884, 3885, 10029, 7988, 3896, 1850, 10043, 7998, 10048, 1857, 10049, 12096, 12104, 1867, 10059, 1874, 8022, 8024, 10075, 3932, 8029, 8031, 10082, 3940, 1893, 10084, 1898, 1900, 3957, 8054, 8057, 10106, 10107, 12153, 3965, 10110, 10111, 12159, 8065, 1922, 3971, 12164, 8073, 10122, 6030, 12182, 3995, 6044, 1949, 3998, 12195, 4006, 12200, 1963, 6061, 1968, 10160, 8114, 8117, 1974, 10167, 1989, 12238, 12242, 2003, 10198, 8151, 2008, 2010, 6107, 8155, 8160, 2018, 8162, 12263, 10217, 4074, 12270, 2033, 2034, 6131, 8178, 12273, 12274, 8184, 4089, 8187}\n",
            "{2050, 8194, 6148, 10246, 7, 10248, 8203, 6156, 8205, 6161, 21, 2070, 2071, 2072, 6170, 2077, 34, 6182, 8232, 46, 6190, 10287, 6195, 52, 8246, 56, 8255, 10305, 6213, 10314, 8267, 6220, 8269, 8270, 6224, 4177, 4178, 8275, 8277, 86, 4182, 8278, 90, 4187, 6234, 6236, 8286, 10332, 4193, 2146, 6241, 2148, 102, 103, 4199, 4205, 4206, 6255, 4208, 6257, 8304, 6259, 10352, 4213, 8310, 10353, 4216, 121, 8312, 125, 6272, 8322, 2180, 8325, 10374, 6280, 4233, 6282, 2187, 8328, 8329, 6286, 8330, 4240, 6288, 4243, 2196, 4247, 6295, 8343, 4250, 8347, 156, 6300, 158, 6302, 8351, 10397, 164, 8356, 2214, 8358, 10408, 170, 6316, 8365, 175, 176, 4278, 10424, 8377, 186, 10426, 8380, 4285, 2238, 6335, 192, 4289, 2242, 2243, 196, 8382, 8386, 199, 8387, 201, 2249, 4297, 10440, 208, 209, 6354, 211, 4307, 4308, 8406, 10451, 217, 2271, 224, 6367, 10465, 6372, 6375, 237, 8429, 10480, 241, 244, 2292, 4342, 2295, 10484, 10487, 6395, 4351, 256, 4353, 6402, 259, 260, 262, 6406, 8456, 8459, 10508, 8462, 10510, 4369, 6417, 10514, 8471, 4376, 6425, 10521, 4381, 2334, 2335, 2339, 10531, 2342, 2344, 300, 6444, 2351, 6449, 2356, 312, 2361, 4410, 2363, 4412, 4413, 2366, 8504, 4416, 6464, 2370, 6465, 8509, 4421, 2374, 6470, 8511, 8515, 8518, 331, 2380, 333, 8524, 2383, 10571, 2389, 4437, 2393, 2394, 6493, 4450, 10596, 4454, 2407, 6502, 4457, 6506, 10600, 4460, 10601, 10606, 4464, 8560, 11878, 8563, 10612, 8566, 10615, 4472, 10616, 10618, 2428, 10623, 4480, 2433, 4482, 2436, 4484, 8582, 4488, 2442, 4490, 2444, 2445, 398, 6538, 8587, 8590, 9035, 4499, 8595, 10644, 6550, 8599, 9036, 409, 410, 2459, 10646, 2461, 8605, 10649, 10651, 10656, 2466, 419, 8612, 2470, 8615, 10662, 10663, 10665, 427, 2475, 4523, 8622, 2479, 8623, 10666, 2482, 2483, 10671, 10676, 438, 2488, 441, 2490, 2491, 8638, 4545, 6593, 10692, 8649, 2506, 6603, 4559, 464, 6613, 2518, 10712, 474, 2522, 4572, 8667, 2526, 2527, 4574, 4578, 10724, 2537, 10740, 4598, 10750, 10751, 10754, 10755, 516, 517, 2565, 2566, 4615, 8709, 8711, 10764, 2573, 530, 531, 532, 6674, 8723, 10774, 4634, 10778, 2591, 6687, 8737, 10786, 547, 4644, 8742, 2601, 554, 6699, 4652, 2605, 8746, 10796, 6705, 2611, 8757, 2614, 6711, 6713, 2618, 4666, 8761, 8764, 2622, 4670, 2624, 2625, 4675, 580, 8771, 2636, 2638, 4686, 4687, 10830, 2645, 6742, 8791, 600, 8793, 8794, 8796, 2653, 8798, 2655, 8799, 10844, 10849, 4709, 8808, 617, 10857, 620, 6765, 4720, 8821, 8822, 10869, 2681, 638, 2686, 2687, 10878, 8834, 2691, 4739, 8841, 651, 2700, 2703, 656, 8849, 2706, 4754, 8852, 4760, 6811, 668, 8859, 6816, 10914, 8869, 4776, 4777, 4778, 4779, 10925, 4785, 2748, 4796, 2750, 4797, 8896, 6850, 8899, 10946, 710, 2759, 2760, 6856, 715, 4811, 6861, 10956, 2771, 4820, 8918, 727, 8920, 6873, 2779, 4829, 8925, 8927, 738, 2787, 9917, 6888, 745, 4842, 747, 2795, 6890, 6891, 751, 6894, 10987, 10992, 755, 6899, 8947, 761, 6906, 2814, 2817, 4866, 11009, 11010, 6917, 6918, 2823, 2826, 4875, 6922, 6923, 8970, 784, 786, 2835, 4884, 11028, 8982, 4891, 6940, 4893, 11036, 6943, 11038, 801, 8995, 11048, 4905, 812, 6957, 814, 2862, 816, 4910, 818, 9007, 820, 11053, 11058, 11065, 11066, 6971, 9020, 6973, 2878, 9021, 6976, 4929, 6978, 835, 836, 2883, 838, 2884, 2888, 6985, 2890, 9028, 9032, 2893, 4942, 2895, 4943, 849, 9033, 6995, 6996, 2901, 4950, 2904, 11097, 4960, 11113, 11114, 875, 876, 877, 2923, 4971, 4973, 881, 7023, 11124, 11129, 11130, 7038, 7041, 7043, 900, 4997, 9091, 2952, 5005, 5007, 912, 913, 11152, 2964, 7061, 918, 2968, 925, 2975, 9121, 9122, 2983, 941, 5042, 2996, 2998, 951, 3000, 953, 5051, 7100, 7102, 959, 5055, 7104, 11204, 11589, 3015, 5066, 972, 5070, 7118, 976, 7122, 7126, 983, 7128, 9177, 11222, 5088, 9184, 995, 9187, 11235, 999, 5095, 3051, 1004, 5100, 5102, 7147, 1008, 3057, 5104, 7148, 7151, 5109, 7155, 7156, 1016, 7160, 7162, 9205, 11257, 11263, 1024, 1026, 7170, 1030, 5126, 11271, 1034, 5132, 11276, 11280, 1041, 5137, 1043, 9236, 1047, 9240, 9241, 11288, 1054, 3102, 7204, 7209, 9258, 9261, 9262, 9263, 7216, 7221, 11317, 7224, 9274, 3131, 9275, 11325, 11327, 3138, 1093, 1095, 5192, 7242, 9290, 1100, 9292, 9293, 1103, 7248, 9297, 3154, 11343, 1108, 11346, 3161, 9307, 11355, 3165, 7262, 11357, 5216, 9313, 1122, 5219, 9316, 9317, 3174, 1129, 1131, 3180, 11371, 1134, 11373, 5232, 3185, 1138, 7282, 3189, 1142, 11381, 1144, 5247, 5248, 1153, 1155, 9349, 3209, 5257, 5263, 7312, 1169, 5266, 11408, 11410, 3221, 5272, 3226, 7322, 3229, 11423, 7328, 11438, 11440, 11442, 5308, 3262, 3263, 5312, 9407, 3266, 5314, 5315, 5316, 9411, 9413, 9416, 5327, 7376, 11472, 5331, 1237, 1241, 7386, 1243, 1244, 1246, 7391, 1251, 11491, 9450, 5355, 5356, 7405, 5359, 1264, 5365, 7416, 9464, 9465, 11518, 11521, 1282, 3333, 9479, 1288, 5384, 1290, 9481, 7439, 3345, 7442, 7443, 10434, 3350, 3352, 7449, 3354, 3356, 3357, 5406, 11551, 7456, 9505, 11553, 7459, 11554, 3365, 7463, 7465, 9514, 3372, 7470, 1331, 11573, 1336, 7480, 1340, 1345, 7490, 1348, 1349, 1350, 3399, 7495, 7497, 9540, 1355, 7499, 7501, 3406, 5454, 7502, 11592, 1362, 3411, 9556, 3413, 7509, 3415, 1368, 7513, 11607, 9563, 11611, 7517, 11669, 1375, 7520, 11615, 9572, 1381, 7526, 1384, 3432, 11627, 5488, 5489, 7537, 3443, 9586, 5495, 7543, 9592, 5499, 1404, 7549, 9596, 9599, 7553, 9601, 9602, 3463, 1416, 3464, 3465, 9608, 11662, 1427, 11668, 1429, 5526, 9621, 9622, 3481, 9623, 1435, 3483, 9629, 9630, 9633, 1442, 1443, 7586, 1445, 9634, 9641, 11690, 9646, 1459, 3507, 7603, 5558, 11699, 7609, 3514, 11709, 5566, 9663, 1473, 9665, 5576, 5581, 7631, 9680, 5591, 1496, 3545, 1498, 7640, 1502, 7648, 1505, 3553, 9696, 11749, 7654, 1511, 5613, 7661, 9709, 11760, 9714, 9715, 9716, 3573, 9717, 1529, 3579, 5631, 5635, 1542, 1543, 7686, 9739, 7694, 1551, 7698, 3603, 1557, 1558, 3607, 5654, 7701, 11802, 1563, 3618, 5666, 5670, 3624, 1578, 9770, 11818, 3629, 9776, 9778, 3635, 3636, 5685, 11827, 9783, 1592, 1594, 5694, 1601, 3654, 11847, 5706, 9802, 5709, 5711, 11858, 1621, 1625, 1626, 11866, 5724, 11869, 5726, 9823, 3680, 5730, 9828, 1638, 5735, 1640, 7784, 9830, 5739, 7787, 9831, 3694, 9832, 11892, 1653, 1654, 3705, 3707, 5755, 9853, 7806, 5761, 7809, 9857, 3716, 7813, 11908, 3719, 1672, 3721, 5768, 9865, 9866, 5773, 9869, 5775, 7823, 1681, 3729, 5780, 7828, 5782, 9878, 1688, 1692, 7836, 5792, 11937, 5796, 9893, 5802, 3755, 3756, 5803, 7851, 7853, 9914, 1723, 3773, 3774, 7870, 5824, 5825, 1730, 7872, 3780, 1733, 1734, 9924, 9926, 11972, 1738, 7883, 7884, 7885, 1742, 9930, 3792, 11976, 5843, 7891, 9942, 7897, 1755, 3803, 7901, 9947, 1762, 1764, 1765, 7908, 5863, 7911, 3817, 3818, 5867, 7915, 7916, 1774, 9966, 7920, 1777, 9967, 1779, 1780, 5876, 1782, 7926, 9970, 9973, 9976, 7933, 1790, 5887, 12032, 12035, 12036, 1800, 3849, 1802, 5900, 5901, 3855, 7957, 7959, 1816, 12055, 5915, 7967, 1827, 1828, 5929, 3885, 3888, 5937, 7986, 7989, 3894, 10037, 10039, 5947, 3903, 3905, 1861, 3909, 1866, 10060, 3917, 1870, 3918, 5965, 1873, 3921, 3922, 5970, 5972, 1878, 10067, 5976, 1887, 3935, 5983, 10080, 8036, 5990, 5991, 5995, 3948, 10096, 1906, 6005, 6006, 6011, 1917, 3969, 6018, 6020, 10116, 3975, 1932, 6028, 3982, 10126, 3986, 6034, 10132, 10562, 1942, 10137, 1950, 3999, 10143, 10145, 1954, 10146, 6057, 10566, 4011, 4013, 4019, 6067, 4025, 8122, 4029, 10175, 4038, 8134, 10186, 8145, 8151, 10201, 10210, 10217, 8175, 10224, 10229, 10236}\n",
            "{0, 2056, 8203, 12, 4108, 2062, 2063, 6162, 10259, 20, 2069, 6172, 10268, 4127, 8225, 10278, 10279, 2088, 8233, 10281, 8237, 8239, 48, 10294, 55, 10298, 10299, 10301, 2115, 8262, 10312, 6217, 8267, 6220, 6231, 8281, 90, 2142, 2143, 4190, 2149, 8295, 4208, 4209, 6256, 6260, 118, 6265, 10363, 2173, 4223, 10371, 2182, 4230, 2184, 6281, 141, 143, 4241, 6289, 4243, 2204, 4255, 6307, 10412, 8374, 2233, 10428, 2237, 4289, 8387, 4295, 201, 202, 6348, 4304, 10449, 10452, 10457, 222, 4321, 10465, 6374, 8427, 239, 10482, 243, 4342, 10486, 6392, 249, 6394, 4351, 10496, 6404, 6405, 10500, 4359, 264, 267, 4366, 10511, 4371, 8467, 6427, 284, 4381, 10526, 10528, 289, 290, 6446, 2355, 2360, 6456, 10553, 318, 339, 2388, 4439, 8540, 353, 4449, 4451, 8550, 6503, 10606, 8567, 6529, 6530, 4483, 6537, 4492, 399, 10644, 2454, 4503, 2459, 6566, 425, 8622, 8623, 439, 8634, 443, 4550, 6598, 4555, 6603, 10710, 472, 6617, 4572, 10720, 10722, 484, 2533, 4589, 8689, 10741, 6646, 511, 10753, 4615, 4616, 10762, 4619, 10767, 10768, 529, 2577, 540, 4637, 8736, 4643, 10788, 2600, 4654, 559, 2610, 8754, 2615, 10810, 8763, 579, 584, 4683, 8786, 6739, 6740, 4697, 8796, 8798, 2655, 608, 6756, 4710, 10859, 8812, 622, 8820, 10871, 2684, 8831, 4736, 8832, 643, 10883, 6789, 646, 2694, 4748, 654, 2702, 10894, 10897, 10898, 2714, 671, 10914, 6823, 8874, 6827, 2733, 8881, 2739, 2743, 4798, 8898, 4805, 6855, 8905, 6860, 6861, 4815, 2780, 2781, 6878, 8927, 4834, 755, 11002, 8958, 4868, 6916, 8968, 2825, 8978, 4883, 4884, 4887, 8984, 11031, 2847, 8999, 809, 6955, 2861, 6957, 6958, 11054, 9014, 823, 6977, 834, 835, 4932, 9026, 9028, 11095, 7001, 9049, 9050, 2911, 868, 11111, 2920, 4968, 4969, 9069, 2931, 9076, 11127, 890, 11132, 2941, 11134, 11135, 4995, 9093, 908, 5005, 11150, 912, 2960, 11161, 2970, 5024, 2981, 9130, 9131, 11180, 941, 11181, 5048, 9156, 9159, 11209, 971, 11211, 11213, 11215, 11216, 11217, 9170, 9171, 11218, 987, 989, 7137, 999, 7143, 7146, 1003, 7149, 11247, 11252, 1023, 9217, 1027, 7174, 7181, 3089, 5138, 7191, 3101, 7197, 9247, 3107, 7206, 9259, 7212, 3121, 5169, 9270, 1080, 1081, 3130, 7224, 5180, 7225, 3140, 7242, 9300, 9304, 7258, 1124, 9318, 9321, 9322, 5234, 9335, 9342, 9343, 7304, 3211, 3215, 3227, 9381, 1192, 9388, 1197, 7342, 7347, 7354, 5309, 1215, 1216, 3267, 1221, 9419, 7376, 3281, 7379, 5335, 5340, 1250, 3304, 5352, 5354, 7400, 5357, 3313, 1275, 7419, 5376, 7426, 9475, 5381, 9480, 1298, 1305, 3353, 9497, 3360, 5409, 1314, 9514, 3371, 1327, 1328, 3379, 7475, 9523, 9528, 9530, 9531, 9534, 7495, 3400, 3405, 1358, 3411, 7512, 9566, 1375, 3425, 5475, 7524, 3430, 9574, 3434, 3436, 1394, 5490, 7539, 1397, 1398, 9586, 5499, 9601, 5506, 3464, 7561, 3467, 7564, 5518, 1422, 5521, 9618, 3480, 5532, 1437, 9655, 1466, 7611, 9662, 7616, 9668, 5582, 3537, 9683, 1496, 3544, 3545, 7641, 3548, 3549, 9688, 9691, 5601, 5602, 7656, 7665, 5625, 3584, 9728, 9731, 1544, 5643, 5645, 7700, 9753, 9756, 7713, 9763, 5669, 1585, 3639, 9790, 5695, 7745, 3660, 1616, 1625, 7770, 7775, 3690, 1644, 3695, 3697, 3701, 1655, 7800, 7804, 9852, 7822, 5775, 5784, 7833, 1692, 5789, 3743, 7845, 3753, 5801, 9897, 1714, 7858, 3768, 9915, 3774, 7872, 1733, 5830, 9926, 7890, 7892, 5853, 1758, 5855, 5857, 5859, 7910, 7912, 3817, 7917, 3822, 5879, 5880, 9985, 5892, 1797, 3854, 5903, 5915, 10020, 10022, 10023, 5928, 5931, 10030, 7983, 3890, 10042, 5949, 10049, 3907, 8003, 5962, 10061, 8014, 5972, 8022, 10079, 3936, 8032, 10081, 1893, 3946, 10092, 6004, 8062, 1921, 6021, 1931, 1933, 1938, 1957, 8108, 6066, 1973, 4021, 6071, 6072, 10168, 6077, 1984, 10178, 6088, 6090, 4048, 6099, 6102, 2009, 6105, 10203, 6110, 8158, 2017, 8178, 10231}\n",
            "{8196, 4101, 4103, 10249, 4108, 10260, 4120, 25, 6171, 4126, 6176, 33, 6177, 41, 6185, 6187, 6191, 50, 8244, 10298, 6204, 6205, 2111, 6209, 10306, 71, 2121, 74, 4172, 2125, 10316, 4181, 8277, 10326, 2136, 8280, 4186, 94, 6239, 6240, 4193, 6241, 10337, 6244, 105, 4204, 6253, 10348, 4209, 8306, 6261, 118, 2167, 10359, 122, 2170, 6266, 127, 2176, 2177, 8323, 6276, 4235, 8331, 2189, 6285, 10382, 2192, 146, 2194, 4245, 6295, 2201, 6300, 4253, 4269, 8368, 2225, 4273, 8372, 6325, 2231, 188, 2237, 2238, 8381, 10432, 4290, 4294, 10439, 200, 8392, 10441, 213, 2262, 6359, 216, 8406, 2268, 8415, 224, 2273, 6373, 4326, 6376, 8424, 235, 236, 237, 6380, 10475, 8434, 246, 8446, 6400, 2305, 8452, 8459, 10511, 6417, 10514, 6419, 284, 6428, 10524, 6432, 6435, 292, 297, 10538, 6446, 6447, 8495, 10545, 10546, 4407, 6455, 2361, 8509, 6462, 6463, 8510, 10566, 4429, 10574, 10577, 2392, 4441, 346, 10585, 6492, 10586, 10594, 2406, 6505, 10602, 10603, 6515, 376, 6526, 6528, 2433, 6534, 2440, 4488, 2442, 10634, 8588, 4493, 4494, 10638, 2448, 2451, 4499, 2453, 6548, 8597, 10644, 4505, 4510, 6559, 6560, 8607, 6563, 4520, 6568, 8624, 433, 2481, 4529, 6582, 8631, 2488, 2491, 6588, 6589, 446, 449, 450, 6596, 8645, 455, 8648, 6605, 8657, 10707, 4564, 4565, 10710, 4570, 6620, 4574, 2527, 8670, 8671, 2535, 4583, 2539, 492, 8688, 8689, 4594, 4598, 10742, 2552, 10744, 6650, 4604, 4608, 10755, 6668, 4622, 2576, 529, 2577, 534, 8729, 8730, 8733, 4640, 2593, 6688, 10785, 6696, 10792, 6700, 8750, 6704, 6705, 10800, 8755, 4661, 10810, 571, 10812, 576, 4672, 8770, 8774, 2632, 4680, 8781, 8783, 2643, 4692, 6739, 6741, 600, 2649, 609, 4706, 6753, 6754, 8805, 10853, 4711, 4718, 4719, 10866, 6772, 4727, 10871, 10875, 636, 4732, 2686, 4734, 645, 6792, 2698, 8842, 657, 2706, 2708, 2709, 6805, 4760, 4767, 2721, 10913, 4775, 6826, 4780, 685, 10926, 4783, 2742, 8886, 10938, 8893, 704, 2753, 6849, 6850, 10948, 709, 8901, 10949, 6856, 10953, 4811, 6861, 10959, 4816, 4818, 8914, 8916, 725, 4826, 734, 735, 10975, 10981, 8946, 4854, 762, 6906, 2813, 8963, 772, 11019, 780, 2828, 6925, 6928, 2833, 788, 2836, 790, 794, 8987, 8988, 8991, 2848, 801, 8995, 8997, 2857, 11053, 2862, 9010, 2870, 2871, 6966, 11063, 11064, 828, 6972, 11069, 4933, 9033, 11081, 4945, 4946, 9041, 6998, 2904, 7005, 9056, 11104, 867, 2919, 7016, 9064, 11115, 7023, 11121, 2931, 9076, 11125, 4986, 2941, 11133, 4995, 2948, 904, 7048, 906, 9097, 9098, 909, 5006, 5010, 11157, 11158, 7072, 2977, 2980, 9126, 2985, 2986, 5040, 2993, 2995, 5044, 5045, 950, 11190, 11193, 5050, 9147, 3005, 9151, 7104, 5057, 9155, 3016, 9163, 3026, 3028, 3029, 7130, 3035, 3037, 3043, 5091, 11237, 11244, 3054, 7151, 9198, 1009, 5108, 1014, 9209, 5120, 5122, 3075, 9223, 7176, 3081, 7189, 1051, 3102, 1055, 3104, 11294, 1059, 1062, 3112, 7208, 1066, 9259, 11307, 3117, 7218, 1075, 3126, 7223, 7228, 7229, 7232, 7233, 3139, 3140, 11333, 9288, 7241, 1098, 7243, 3149, 7247, 5202, 3158, 1111, 1112, 5207, 7256, 7259, 9305, 7263, 3170, 3172, 7268, 7274, 9323, 7276, 9326, 1135, 7280, 3185, 11375, 3195, 7291, 1149, 5245, 3199, 1152, 7293, 7297, 9343, 9347, 9349, 11393, 1159, 9351, 3209, 9352, 11395, 7315, 9363, 11412, 7318, 1178, 1180, 1182, 3236, 7334, 1191, 9384, 7339, 3249, 5298, 1203, 3252, 9394, 9398, 9404, 3263, 7359, 9409, 7363, 1220, 7365, 3271, 9415, 9417, 1226, 7374, 9423, 9425, 7378, 5331, 7384, 3291, 7387, 3293, 7391, 5345, 3300, 11493, 5356, 5360, 7410, 3316, 5369, 1277, 5373, 3328, 1281, 7425, 3331, 5379, 5381, 7434, 7440, 11538, 3347, 5396, 7444, 7446, 7448, 7449, 9499, 7452, 9501, 11549, 3363, 5411, 7461, 7463, 9515, 9517, 11566, 1330, 5426, 7474, 7475, 9524, 1335, 3384, 11572, 3388, 7487, 7490, 1347, 5448, 3402, 1355, 11595, 5453, 7503, 3411, 7508, 11669, 7511, 9560, 11611, 11670, 5469, 7519, 3426, 9570, 3430, 9577, 11627, 1388, 11628, 1391, 3439, 9584, 11634, 5491, 5493, 11639, 5496, 9593, 11640, 1405, 5502, 5503, 5504, 7553, 3458, 9597, 9601, 9603, 9604, 5511, 9605, 9609, 5516, 7566, 1423, 3471, 1425, 1426, 3473, 1428, 1429, 5520, 5522, 5525, 1433, 3481, 1435, 5528, 5529, 7575, 9630, 11673, 11681, 3491, 9635, 11686, 3496, 3497, 1450, 3499, 7594, 7597, 5555, 11701, 11702, 5559, 1465, 5561, 5569, 5571, 11719, 9673, 11722, 5579, 9677, 1486, 5587, 7637, 9690, 5595, 9691, 5600, 3554, 3557, 5608, 7656, 1515, 3564, 1517, 1518, 9711, 11757, 11760, 5619, 9715, 9718, 3577, 3587, 5637, 11782, 7689, 1546, 9738, 9739, 9741, 7695, 3602, 7698, 7700, 3605, 7701, 7702, 7706, 1564, 7708, 3620, 3621, 3623, 5674, 5675, 7723, 9771, 11819, 5679, 1585, 5683, 7734, 11832, 7737, 1597, 11839, 3648, 3656, 7757, 5710, 1616, 5712, 7772, 3679, 7775, 9823, 1634, 5730, 9827, 3686, 9832, 3690, 3693, 1646, 5741, 5745, 11890, 1653, 11898, 7805, 9855, 1668, 5767, 7816, 7817, 7819, 5772, 7820, 9870, 5775, 1684, 11926, 9880, 3739, 9884, 1697, 1699, 5801, 5806, 3759, 7857, 1714, 5810, 1717, 5814, 5820, 9918, 1727, 7881, 7883, 9932, 3789, 7887, 9936, 5844, 9944, 9945, 3803, 1759, 1763, 3811, 5859, 3814, 5864, 1769, 7914, 9962, 9964, 3823, 12015, 3827, 1781, 7926, 1783, 9975, 7929, 3834, 3835, 5882, 1791, 9984, 7939, 3855, 7953, 10003, 3864, 7961, 5919, 5923, 10019, 7974, 10024, 3884, 1838, 1839, 10032, 7985, 1842, 5938, 1844, 7986, 10034, 10038, 1849, 10041, 7995, 10042, 10045, 5950, 10058, 5963, 3919, 10068, 12116, 5974, 8023, 3929, 5977, 1884, 3936, 10082, 8035, 8038, 10086, 5992, 8048, 10096, 6002, 10100, 3958, 8057, 10108, 6013, 10112, 6020, 10131, 8085, 8089, 6043, 8092, 6054, 1960, 6057, 1962, 8109, 6065, 6067, 10164, 6072, 4030, 6079, 4033, 4034, 10177, 1991, 4044, 8141, 10192, 10200, 6106, 10204, 10205, 6111, 6116, 4069, 10216, 4073, 4074, 8172, 8174, 10225, 6132, 2037, 8188, 6141, 2046, 10239}\n",
            "2533\n",
            "12665\n",
            "2417\n",
            "12085\n",
            "2252\n",
            "11260\n",
            "2436\n",
            "12180\n"
          ]
        }
      ]
    },
    {
      "cell_type": "code",
      "metadata": {
        "colab": {
          "base_uri": "https://localhost:8080/"
        },
        "id": "EdNwh3i4eK0b",
        "outputId": "4653602d-ca2b-4f15-d9cf-c7f1c89320f5"
      },
      "source": [
        "%%time\n",
        "ewc_train(cur_x_train,cur_y_train,X_test_89,y_test_89,old_x_test, old_y_test, 4, my_ewc, importance = 1e9) #0.7e11"
      ],
      "execution_count": null,
      "outputs": [
        {
          "output_type": "stream",
          "name": "stderr",
          "text": [
            "/usr/local/lib/python3.7/dist-packages/ipykernel_launcher.py:101: UserWarning: Implicit dimension choice for softmax has been deprecated. Change the call to include dim=X as an argument.\n"
          ]
        },
        {
          "output_type": "stream",
          "name": "stdout",
          "text": [
            "accuracy on current task:  tensor(0.7862)\n",
            "accuracy on old task:  tensor(0.9432)\n",
            "accuracy on 01:  tensor(0.9499)\n",
            "accuracy on 23:  tensor(0.9035)\n",
            "accuracy on 45:  tensor(0.9178)\n",
            "accuracy on 67:  tensor(0.9174) \n",
            "\n",
            "accuracy on current task:  tensor(0.8220)\n",
            "accuracy on old task:  tensor(0.9563)\n",
            "accuracy on 01:  tensor(0.9409)\n",
            "accuracy on 23:  tensor(0.9030)\n",
            "accuracy on 45:  tensor(0.9354)\n",
            "accuracy on 67:  tensor(0.9476) \n",
            "\n",
            "accuracy on current task:  tensor(0.8573)\n",
            "accuracy on old task:  tensor(0.9532)\n",
            "accuracy on 01:  tensor(0.9404)\n",
            "accuracy on 23:  tensor(0.9324)\n",
            "accuracy on 45:  tensor(0.9237)\n",
            "accuracy on 67:  tensor(0.9376) \n",
            "\n",
            "accuracy on current task:  tensor(0.8527)\n",
            "accuracy on old task:  tensor(0.9603)\n",
            "accuracy on 01:  tensor(0.9489)\n",
            "accuracy on 23:  tensor(0.9119)\n",
            "accuracy on 45:  tensor(0.9424)\n",
            "accuracy on 67:  tensor(0.9481) \n",
            "\n",
            "accuracy on current task:  tensor(0.8684)\n",
            "accuracy on old task:  tensor(0.9591)\n",
            "accuracy on 01:  tensor(0.9390)\n",
            "accuracy on 23:  tensor(0.9197)\n",
            "accuracy on 45:  tensor(0.9509)\n",
            "accuracy on 67:  tensor(0.9552) \n",
            "\n",
            "accuracy on current task:  tensor(0.8669)\n",
            "accuracy on old task:  tensor(0.9628)\n",
            "accuracy on 01:  tensor(0.9697)\n",
            "accuracy on 23:  tensor(0.9256)\n",
            "accuracy on 45:  tensor(0.9482)\n",
            "accuracy on 67:  tensor(0.9577) \n",
            "\n",
            "accuracy on current task:  tensor(0.8729)\n",
            "accuracy on old task:  tensor(0.9591)\n",
            "accuracy on 01:  tensor(0.9570)\n",
            "accuracy on 23:  tensor(0.9177)\n",
            "accuracy on 45:  tensor(0.9461)\n",
            "accuracy on 67:  tensor(0.9466) \n",
            "\n",
            "accuracy on current task:  tensor(0.8623)\n",
            "accuracy on old task:  tensor(0.9648)\n",
            "accuracy on 01:  tensor(0.9546)\n",
            "accuracy on 23:  tensor(0.9197)\n",
            "accuracy on 45:  tensor(0.9504)\n",
            "accuracy on 67:  tensor(0.9592) \n",
            "\n",
            "accuracy on current task:  tensor(0.8603)\n",
            "accuracy on old task:  tensor(0.9677)\n",
            "accuracy on 01:  tensor(0.9603)\n",
            "accuracy on 23:  tensor(0.9319)\n",
            "accuracy on 45:  tensor(0.9424)\n",
            "accuracy on 67:  tensor(0.9648) \n",
            "\n",
            "accuracy on current task:  tensor(0.9007)\n",
            "accuracy on old task:  tensor(0.9566)\n",
            "accuracy on 01:  tensor(0.9480)\n",
            "accuracy on 23:  tensor(0.9163)\n",
            "accuracy on 45:  tensor(0.9274)\n",
            "accuracy on 67:  tensor(0.9507) \n",
            "\n",
            "accuracy on current task:  tensor(0.8674)\n",
            "accuracy on old task:  tensor(0.9653)\n",
            "accuracy on 01:  tensor(0.9452)\n",
            "accuracy on 23:  tensor(0.9383)\n",
            "accuracy on 45:  tensor(0.9541)\n",
            "accuracy on 67:  tensor(0.9547) \n",
            "\n",
            "accuracy on current task:  tensor(0.8664)\n",
            "accuracy on old task:  tensor(0.9657)\n",
            "accuracy on 01:  tensor(0.9556)\n",
            "accuracy on 23:  tensor(0.9368)\n",
            "accuracy on 45:  tensor(0.9440)\n",
            "accuracy on 67:  tensor(0.9532) \n",
            "\n",
            "accuracy on current task:  tensor(0.8749)\n",
            "accuracy on old task:  tensor(0.9587)\n",
            "accuracy on 01:  tensor(0.9300)\n",
            "accuracy on 23:  tensor(0.9540)\n",
            "accuracy on 45:  tensor(0.9418)\n",
            "accuracy on 67:  tensor(0.9547) \n",
            "\n",
            "accuracy on current task:  tensor(0.8825)\n",
            "accuracy on old task:  tensor(0.9633)\n",
            "accuracy on 01:  tensor(0.9626)\n",
            "accuracy on 23:  tensor(0.9363)\n",
            "accuracy on 45:  tensor(0.9418)\n",
            "accuracy on 67:  tensor(0.9627) \n",
            "\n",
            "accuracy on current task:  tensor(0.8840)\n",
            "accuracy on old task:  tensor(0.9669)\n",
            "accuracy on 01:  tensor(0.9636)\n",
            "accuracy on 23:  tensor(0.9300)\n",
            "accuracy on 45:  tensor(0.9546)\n",
            "accuracy on 67:  tensor(0.9537) \n",
            "\n",
            "accuracy on current task:  tensor(0.8391)\n",
            "accuracy on old task:  tensor(0.9692)\n",
            "accuracy on 01:  tensor(0.9414)\n",
            "accuracy on 23:  tensor(0.9383)\n",
            "accuracy on 45:  tensor(0.9600)\n",
            "accuracy on 67:  tensor(0.9567) \n",
            "\n",
            "accuracy on current task:  tensor(0.8941)\n",
            "accuracy on old task:  tensor(0.9596)\n",
            "accuracy on 01:  tensor(0.9461)\n",
            "accuracy on 23:  tensor(0.9398)\n",
            "accuracy on 45:  tensor(0.9397)\n",
            "accuracy on 67:  tensor(0.9562) \n",
            "\n"
          ]
        }
      ]
    },
    {
      "cell_type": "code",
      "metadata": {
        "id": "mKc4SYUdeK6e"
      },
      "source": [
        "#ewc_train(cur_x_train,cur_y_train,X_test_89,y_test_89,old_x_test, old_y_test, 4, my_ewc, epochs = 1, importance = 12e11)"
      ],
      "execution_count": null,
      "outputs": []
    },
    {
      "cell_type": "code",
      "metadata": {
        "id": "hmtRrMhrfXXo"
      },
      "source": [
        "cur_x_test = X_test_89\n",
        "cur_y_test = y_test_89\n",
        "print(f\"Accuracy on 89: {test_accuracy(cur_x_test, cur_y_test)}\")\n",
        "\n",
        "old_x_test = torch.cat((old_x_test,cur_x_test.to(device)))\n",
        "old_y_test = torch.cat((old_y_test,cur_y_test))\n",
        "print(f\"Total accuracy: {test_accuracy(old_x_test, old_y_test)}\")"
      ],
      "execution_count": null,
      "outputs": []
    },
    {
      "cell_type": "code",
      "metadata": {
        "id": "CcYV7PKz2H5P"
      },
      "source": [
        ""
      ],
      "execution_count": null,
      "outputs": []
    }
  ]
}